{
  "cells": [
    {
      "cell_type": "markdown",
      "metadata": {
        "id": "alIIEHibGc3M"
      },
      "source": [
        "## Part 1: Preprocessing"
      ]
    },
    {
      "cell_type": "code",
      "execution_count": 1,
      "metadata": {
        "colab": {
          "base_uri": "https://localhost:8080/",
          "height": 1000
        },
        "id": "6eDUJ4NtGc3P",
        "outputId": "f05051b1-09ad-4881-d951-733c16c2395b"
      },
      "outputs": [
        {
          "output_type": "stream",
          "name": "stdout",
          "text": [
            "Requirement already satisfied: tensorflow in /usr/local/lib/python3.10/dist-packages (2.15.0)\n",
            "Requirement already satisfied: absl-py>=1.0.0 in /usr/local/lib/python3.10/dist-packages (from tensorflow) (1.4.0)\n",
            "Requirement already satisfied: astunparse>=1.6.0 in /usr/local/lib/python3.10/dist-packages (from tensorflow) (1.6.3)\n",
            "Requirement already satisfied: flatbuffers>=23.5.26 in /usr/local/lib/python3.10/dist-packages (from tensorflow) (24.3.25)\n",
            "Requirement already satisfied: gast!=0.5.0,!=0.5.1,!=0.5.2,>=0.2.1 in /usr/local/lib/python3.10/dist-packages (from tensorflow) (0.5.4)\n",
            "Requirement already satisfied: google-pasta>=0.1.1 in /usr/local/lib/python3.10/dist-packages (from tensorflow) (0.2.0)\n",
            "Requirement already satisfied: h5py>=2.9.0 in /usr/local/lib/python3.10/dist-packages (from tensorflow) (3.9.0)\n",
            "Requirement already satisfied: libclang>=13.0.0 in /usr/local/lib/python3.10/dist-packages (from tensorflow) (18.1.1)\n",
            "Requirement already satisfied: ml-dtypes~=0.2.0 in /usr/local/lib/python3.10/dist-packages (from tensorflow) (0.2.0)\n",
            "Requirement already satisfied: numpy<2.0.0,>=1.23.5 in /usr/local/lib/python3.10/dist-packages (from tensorflow) (1.25.2)\n",
            "Requirement already satisfied: opt-einsum>=2.3.2 in /usr/local/lib/python3.10/dist-packages (from tensorflow) (3.3.0)\n",
            "Requirement already satisfied: packaging in /usr/local/lib/python3.10/dist-packages (from tensorflow) (24.0)\n",
            "Requirement already satisfied: protobuf!=4.21.0,!=4.21.1,!=4.21.2,!=4.21.3,!=4.21.4,!=4.21.5,<5.0.0dev,>=3.20.3 in /usr/local/lib/python3.10/dist-packages (from tensorflow) (3.20.3)\n",
            "Requirement already satisfied: setuptools in /usr/local/lib/python3.10/dist-packages (from tensorflow) (67.7.2)\n",
            "Requirement already satisfied: six>=1.12.0 in /usr/local/lib/python3.10/dist-packages (from tensorflow) (1.16.0)\n",
            "Requirement already satisfied: termcolor>=1.1.0 in /usr/local/lib/python3.10/dist-packages (from tensorflow) (2.4.0)\n",
            "Requirement already satisfied: typing-extensions>=3.6.6 in /usr/local/lib/python3.10/dist-packages (from tensorflow) (4.11.0)\n",
            "Requirement already satisfied: wrapt<1.15,>=1.11.0 in /usr/local/lib/python3.10/dist-packages (from tensorflow) (1.14.1)\n",
            "Requirement already satisfied: tensorflow-io-gcs-filesystem>=0.23.1 in /usr/local/lib/python3.10/dist-packages (from tensorflow) (0.36.0)\n",
            "Requirement already satisfied: grpcio<2.0,>=1.24.3 in /usr/local/lib/python3.10/dist-packages (from tensorflow) (1.62.2)\n",
            "Requirement already satisfied: tensorboard<2.16,>=2.15 in /usr/local/lib/python3.10/dist-packages (from tensorflow) (2.15.2)\n",
            "Requirement already satisfied: tensorflow-estimator<2.16,>=2.15.0 in /usr/local/lib/python3.10/dist-packages (from tensorflow) (2.15.0)\n",
            "Requirement already satisfied: keras<2.16,>=2.15.0 in /usr/local/lib/python3.10/dist-packages (from tensorflow) (2.15.0)\n",
            "Requirement already satisfied: wheel<1.0,>=0.23.0 in /usr/local/lib/python3.10/dist-packages (from astunparse>=1.6.0->tensorflow) (0.43.0)\n",
            "Requirement already satisfied: google-auth<3,>=1.6.3 in /usr/local/lib/python3.10/dist-packages (from tensorboard<2.16,>=2.15->tensorflow) (2.27.0)\n",
            "Requirement already satisfied: google-auth-oauthlib<2,>=0.5 in /usr/local/lib/python3.10/dist-packages (from tensorboard<2.16,>=2.15->tensorflow) (1.2.0)\n",
            "Requirement already satisfied: markdown>=2.6.8 in /usr/local/lib/python3.10/dist-packages (from tensorboard<2.16,>=2.15->tensorflow) (3.6)\n",
            "Requirement already satisfied: requests<3,>=2.21.0 in /usr/local/lib/python3.10/dist-packages (from tensorboard<2.16,>=2.15->tensorflow) (2.31.0)\n",
            "Requirement already satisfied: tensorboard-data-server<0.8.0,>=0.7.0 in /usr/local/lib/python3.10/dist-packages (from tensorboard<2.16,>=2.15->tensorflow) (0.7.2)\n",
            "Requirement already satisfied: werkzeug>=1.0.1 in /usr/local/lib/python3.10/dist-packages (from tensorboard<2.16,>=2.15->tensorflow) (3.0.2)\n",
            "Requirement already satisfied: cachetools<6.0,>=2.0.0 in /usr/local/lib/python3.10/dist-packages (from google-auth<3,>=1.6.3->tensorboard<2.16,>=2.15->tensorflow) (5.3.3)\n",
            "Requirement already satisfied: pyasn1-modules>=0.2.1 in /usr/local/lib/python3.10/dist-packages (from google-auth<3,>=1.6.3->tensorboard<2.16,>=2.15->tensorflow) (0.4.0)\n",
            "Requirement already satisfied: rsa<5,>=3.1.4 in /usr/local/lib/python3.10/dist-packages (from google-auth<3,>=1.6.3->tensorboard<2.16,>=2.15->tensorflow) (4.9)\n",
            "Requirement already satisfied: requests-oauthlib>=0.7.0 in /usr/local/lib/python3.10/dist-packages (from google-auth-oauthlib<2,>=0.5->tensorboard<2.16,>=2.15->tensorflow) (1.3.1)\n",
            "Requirement already satisfied: charset-normalizer<4,>=2 in /usr/local/lib/python3.10/dist-packages (from requests<3,>=2.21.0->tensorboard<2.16,>=2.15->tensorflow) (3.3.2)\n",
            "Requirement already satisfied: idna<4,>=2.5 in /usr/local/lib/python3.10/dist-packages (from requests<3,>=2.21.0->tensorboard<2.16,>=2.15->tensorflow) (3.7)\n",
            "Requirement already satisfied: urllib3<3,>=1.21.1 in /usr/local/lib/python3.10/dist-packages (from requests<3,>=2.21.0->tensorboard<2.16,>=2.15->tensorflow) (2.0.7)\n",
            "Requirement already satisfied: certifi>=2017.4.17 in /usr/local/lib/python3.10/dist-packages (from requests<3,>=2.21.0->tensorboard<2.16,>=2.15->tensorflow) (2024.2.2)\n",
            "Requirement already satisfied: MarkupSafe>=2.1.1 in /usr/local/lib/python3.10/dist-packages (from werkzeug>=1.0.1->tensorboard<2.16,>=2.15->tensorflow) (2.1.5)\n",
            "Requirement already satisfied: pyasn1<0.7.0,>=0.4.6 in /usr/local/lib/python3.10/dist-packages (from pyasn1-modules>=0.2.1->google-auth<3,>=1.6.3->tensorboard<2.16,>=2.15->tensorflow) (0.6.0)\n",
            "Requirement already satisfied: oauthlib>=3.0.0 in /usr/local/lib/python3.10/dist-packages (from requests-oauthlib>=0.7.0->google-auth-oauthlib<2,>=0.5->tensorboard<2.16,>=2.15->tensorflow) (3.2.2)\n"
          ]
        },
        {
          "output_type": "execute_result",
          "data": {
            "text/plain": [
              "   Age Attrition     BusinessTravel              Department  DistanceFromHome  \\\n",
              "0   41       Yes      Travel_Rarely                   Sales                 1   \n",
              "1   49        No  Travel_Frequently  Research & Development                 8   \n",
              "2   37       Yes      Travel_Rarely  Research & Development                 2   \n",
              "3   33        No  Travel_Frequently  Research & Development                 3   \n",
              "4   27        No      Travel_Rarely  Research & Development                 2   \n",
              "\n",
              "   Education EducationField  EnvironmentSatisfaction  HourlyRate  \\\n",
              "0          2  Life Sciences                        2          94   \n",
              "1          1  Life Sciences                        3          61   \n",
              "2          2          Other                        4          92   \n",
              "3          4  Life Sciences                        4          56   \n",
              "4          1        Medical                        1          40   \n",
              "\n",
              "   JobInvolvement  ...  PerformanceRating RelationshipSatisfaction  \\\n",
              "0               3  ...                  3                        1   \n",
              "1               2  ...                  4                        4   \n",
              "2               2  ...                  3                        2   \n",
              "3               3  ...                  3                        3   \n",
              "4               3  ...                  3                        4   \n",
              "\n",
              "   StockOptionLevel TotalWorkingYears  TrainingTimesLastYear WorkLifeBalance  \\\n",
              "0                 0                 8                      0               1   \n",
              "1                 1                10                      3               3   \n",
              "2                 0                 7                      3               3   \n",
              "3                 0                 8                      3               3   \n",
              "4                 1                 6                      3               3   \n",
              "\n",
              "   YearsAtCompany  YearsInCurrentRole  YearsSinceLastPromotion  \\\n",
              "0               6                   4                        0   \n",
              "1              10                   7                        1   \n",
              "2               0                   0                        0   \n",
              "3               8                   7                        3   \n",
              "4               2                   2                        2   \n",
              "\n",
              "   YearsWithCurrManager  \n",
              "0                     5  \n",
              "1                     7  \n",
              "2                     0  \n",
              "3                     0  \n",
              "4                     2  \n",
              "\n",
              "[5 rows x 27 columns]"
            ],
            "text/html": [
              "\n",
              "  <div id=\"df-91f82a5f-f9a8-4583-82ff-c7b0df43b3a4\" class=\"colab-df-container\">\n",
              "    <div>\n",
              "<style scoped>\n",
              "    .dataframe tbody tr th:only-of-type {\n",
              "        vertical-align: middle;\n",
              "    }\n",
              "\n",
              "    .dataframe tbody tr th {\n",
              "        vertical-align: top;\n",
              "    }\n",
              "\n",
              "    .dataframe thead th {\n",
              "        text-align: right;\n",
              "    }\n",
              "</style>\n",
              "<table border=\"1\" class=\"dataframe\">\n",
              "  <thead>\n",
              "    <tr style=\"text-align: right;\">\n",
              "      <th></th>\n",
              "      <th>Age</th>\n",
              "      <th>Attrition</th>\n",
              "      <th>BusinessTravel</th>\n",
              "      <th>Department</th>\n",
              "      <th>DistanceFromHome</th>\n",
              "      <th>Education</th>\n",
              "      <th>EducationField</th>\n",
              "      <th>EnvironmentSatisfaction</th>\n",
              "      <th>HourlyRate</th>\n",
              "      <th>JobInvolvement</th>\n",
              "      <th>...</th>\n",
              "      <th>PerformanceRating</th>\n",
              "      <th>RelationshipSatisfaction</th>\n",
              "      <th>StockOptionLevel</th>\n",
              "      <th>TotalWorkingYears</th>\n",
              "      <th>TrainingTimesLastYear</th>\n",
              "      <th>WorkLifeBalance</th>\n",
              "      <th>YearsAtCompany</th>\n",
              "      <th>YearsInCurrentRole</th>\n",
              "      <th>YearsSinceLastPromotion</th>\n",
              "      <th>YearsWithCurrManager</th>\n",
              "    </tr>\n",
              "  </thead>\n",
              "  <tbody>\n",
              "    <tr>\n",
              "      <th>0</th>\n",
              "      <td>41</td>\n",
              "      <td>Yes</td>\n",
              "      <td>Travel_Rarely</td>\n",
              "      <td>Sales</td>\n",
              "      <td>1</td>\n",
              "      <td>2</td>\n",
              "      <td>Life Sciences</td>\n",
              "      <td>2</td>\n",
              "      <td>94</td>\n",
              "      <td>3</td>\n",
              "      <td>...</td>\n",
              "      <td>3</td>\n",
              "      <td>1</td>\n",
              "      <td>0</td>\n",
              "      <td>8</td>\n",
              "      <td>0</td>\n",
              "      <td>1</td>\n",
              "      <td>6</td>\n",
              "      <td>4</td>\n",
              "      <td>0</td>\n",
              "      <td>5</td>\n",
              "    </tr>\n",
              "    <tr>\n",
              "      <th>1</th>\n",
              "      <td>49</td>\n",
              "      <td>No</td>\n",
              "      <td>Travel_Frequently</td>\n",
              "      <td>Research &amp; Development</td>\n",
              "      <td>8</td>\n",
              "      <td>1</td>\n",
              "      <td>Life Sciences</td>\n",
              "      <td>3</td>\n",
              "      <td>61</td>\n",
              "      <td>2</td>\n",
              "      <td>...</td>\n",
              "      <td>4</td>\n",
              "      <td>4</td>\n",
              "      <td>1</td>\n",
              "      <td>10</td>\n",
              "      <td>3</td>\n",
              "      <td>3</td>\n",
              "      <td>10</td>\n",
              "      <td>7</td>\n",
              "      <td>1</td>\n",
              "      <td>7</td>\n",
              "    </tr>\n",
              "    <tr>\n",
              "      <th>2</th>\n",
              "      <td>37</td>\n",
              "      <td>Yes</td>\n",
              "      <td>Travel_Rarely</td>\n",
              "      <td>Research &amp; Development</td>\n",
              "      <td>2</td>\n",
              "      <td>2</td>\n",
              "      <td>Other</td>\n",
              "      <td>4</td>\n",
              "      <td>92</td>\n",
              "      <td>2</td>\n",
              "      <td>...</td>\n",
              "      <td>3</td>\n",
              "      <td>2</td>\n",
              "      <td>0</td>\n",
              "      <td>7</td>\n",
              "      <td>3</td>\n",
              "      <td>3</td>\n",
              "      <td>0</td>\n",
              "      <td>0</td>\n",
              "      <td>0</td>\n",
              "      <td>0</td>\n",
              "    </tr>\n",
              "    <tr>\n",
              "      <th>3</th>\n",
              "      <td>33</td>\n",
              "      <td>No</td>\n",
              "      <td>Travel_Frequently</td>\n",
              "      <td>Research &amp; Development</td>\n",
              "      <td>3</td>\n",
              "      <td>4</td>\n",
              "      <td>Life Sciences</td>\n",
              "      <td>4</td>\n",
              "      <td>56</td>\n",
              "      <td>3</td>\n",
              "      <td>...</td>\n",
              "      <td>3</td>\n",
              "      <td>3</td>\n",
              "      <td>0</td>\n",
              "      <td>8</td>\n",
              "      <td>3</td>\n",
              "      <td>3</td>\n",
              "      <td>8</td>\n",
              "      <td>7</td>\n",
              "      <td>3</td>\n",
              "      <td>0</td>\n",
              "    </tr>\n",
              "    <tr>\n",
              "      <th>4</th>\n",
              "      <td>27</td>\n",
              "      <td>No</td>\n",
              "      <td>Travel_Rarely</td>\n",
              "      <td>Research &amp; Development</td>\n",
              "      <td>2</td>\n",
              "      <td>1</td>\n",
              "      <td>Medical</td>\n",
              "      <td>1</td>\n",
              "      <td>40</td>\n",
              "      <td>3</td>\n",
              "      <td>...</td>\n",
              "      <td>3</td>\n",
              "      <td>4</td>\n",
              "      <td>1</td>\n",
              "      <td>6</td>\n",
              "      <td>3</td>\n",
              "      <td>3</td>\n",
              "      <td>2</td>\n",
              "      <td>2</td>\n",
              "      <td>2</td>\n",
              "      <td>2</td>\n",
              "    </tr>\n",
              "  </tbody>\n",
              "</table>\n",
              "<p>5 rows × 27 columns</p>\n",
              "</div>\n",
              "    <div class=\"colab-df-buttons\">\n",
              "\n",
              "  <div class=\"colab-df-container\">\n",
              "    <button class=\"colab-df-convert\" onclick=\"convertToInteractive('df-91f82a5f-f9a8-4583-82ff-c7b0df43b3a4')\"\n",
              "            title=\"Convert this dataframe to an interactive table.\"\n",
              "            style=\"display:none;\">\n",
              "\n",
              "  <svg xmlns=\"http://www.w3.org/2000/svg\" height=\"24px\" viewBox=\"0 -960 960 960\">\n",
              "    <path d=\"M120-120v-720h720v720H120Zm60-500h600v-160H180v160Zm220 220h160v-160H400v160Zm0 220h160v-160H400v160ZM180-400h160v-160H180v160Zm440 0h160v-160H620v160ZM180-180h160v-160H180v160Zm440 0h160v-160H620v160Z\"/>\n",
              "  </svg>\n",
              "    </button>\n",
              "\n",
              "  <style>\n",
              "    .colab-df-container {\n",
              "      display:flex;\n",
              "      gap: 12px;\n",
              "    }\n",
              "\n",
              "    .colab-df-convert {\n",
              "      background-color: #E8F0FE;\n",
              "      border: none;\n",
              "      border-radius: 50%;\n",
              "      cursor: pointer;\n",
              "      display: none;\n",
              "      fill: #1967D2;\n",
              "      height: 32px;\n",
              "      padding: 0 0 0 0;\n",
              "      width: 32px;\n",
              "    }\n",
              "\n",
              "    .colab-df-convert:hover {\n",
              "      background-color: #E2EBFA;\n",
              "      box-shadow: 0px 1px 2px rgba(60, 64, 67, 0.3), 0px 1px 3px 1px rgba(60, 64, 67, 0.15);\n",
              "      fill: #174EA6;\n",
              "    }\n",
              "\n",
              "    .colab-df-buttons div {\n",
              "      margin-bottom: 4px;\n",
              "    }\n",
              "\n",
              "    [theme=dark] .colab-df-convert {\n",
              "      background-color: #3B4455;\n",
              "      fill: #D2E3FC;\n",
              "    }\n",
              "\n",
              "    [theme=dark] .colab-df-convert:hover {\n",
              "      background-color: #434B5C;\n",
              "      box-shadow: 0px 1px 3px 1px rgba(0, 0, 0, 0.15);\n",
              "      filter: drop-shadow(0px 1px 2px rgba(0, 0, 0, 0.3));\n",
              "      fill: #FFFFFF;\n",
              "    }\n",
              "  </style>\n",
              "\n",
              "    <script>\n",
              "      const buttonEl =\n",
              "        document.querySelector('#df-91f82a5f-f9a8-4583-82ff-c7b0df43b3a4 button.colab-df-convert');\n",
              "      buttonEl.style.display =\n",
              "        google.colab.kernel.accessAllowed ? 'block' : 'none';\n",
              "\n",
              "      async function convertToInteractive(key) {\n",
              "        const element = document.querySelector('#df-91f82a5f-f9a8-4583-82ff-c7b0df43b3a4');\n",
              "        const dataTable =\n",
              "          await google.colab.kernel.invokeFunction('convertToInteractive',\n",
              "                                                    [key], {});\n",
              "        if (!dataTable) return;\n",
              "\n",
              "        const docLinkHtml = 'Like what you see? Visit the ' +\n",
              "          '<a target=\"_blank\" href=https://colab.research.google.com/notebooks/data_table.ipynb>data table notebook</a>'\n",
              "          + ' to learn more about interactive tables.';\n",
              "        element.innerHTML = '';\n",
              "        dataTable['output_type'] = 'display_data';\n",
              "        await google.colab.output.renderOutput(dataTable, element);\n",
              "        const docLink = document.createElement('div');\n",
              "        docLink.innerHTML = docLinkHtml;\n",
              "        element.appendChild(docLink);\n",
              "      }\n",
              "    </script>\n",
              "  </div>\n",
              "\n",
              "\n",
              "<div id=\"df-28e4d414-71df-4c66-aaf5-434e6c2d4d4d\">\n",
              "  <button class=\"colab-df-quickchart\" onclick=\"quickchart('df-28e4d414-71df-4c66-aaf5-434e6c2d4d4d')\"\n",
              "            title=\"Suggest charts\"\n",
              "            style=\"display:none;\">\n",
              "\n",
              "<svg xmlns=\"http://www.w3.org/2000/svg\" height=\"24px\"viewBox=\"0 0 24 24\"\n",
              "     width=\"24px\">\n",
              "    <g>\n",
              "        <path d=\"M19 3H5c-1.1 0-2 .9-2 2v14c0 1.1.9 2 2 2h14c1.1 0 2-.9 2-2V5c0-1.1-.9-2-2-2zM9 17H7v-7h2v7zm4 0h-2V7h2v10zm4 0h-2v-4h2v4z\"/>\n",
              "    </g>\n",
              "</svg>\n",
              "  </button>\n",
              "\n",
              "<style>\n",
              "  .colab-df-quickchart {\n",
              "      --bg-color: #E8F0FE;\n",
              "      --fill-color: #1967D2;\n",
              "      --hover-bg-color: #E2EBFA;\n",
              "      --hover-fill-color: #174EA6;\n",
              "      --disabled-fill-color: #AAA;\n",
              "      --disabled-bg-color: #DDD;\n",
              "  }\n",
              "\n",
              "  [theme=dark] .colab-df-quickchart {\n",
              "      --bg-color: #3B4455;\n",
              "      --fill-color: #D2E3FC;\n",
              "      --hover-bg-color: #434B5C;\n",
              "      --hover-fill-color: #FFFFFF;\n",
              "      --disabled-bg-color: #3B4455;\n",
              "      --disabled-fill-color: #666;\n",
              "  }\n",
              "\n",
              "  .colab-df-quickchart {\n",
              "    background-color: var(--bg-color);\n",
              "    border: none;\n",
              "    border-radius: 50%;\n",
              "    cursor: pointer;\n",
              "    display: none;\n",
              "    fill: var(--fill-color);\n",
              "    height: 32px;\n",
              "    padding: 0;\n",
              "    width: 32px;\n",
              "  }\n",
              "\n",
              "  .colab-df-quickchart:hover {\n",
              "    background-color: var(--hover-bg-color);\n",
              "    box-shadow: 0 1px 2px rgba(60, 64, 67, 0.3), 0 1px 3px 1px rgba(60, 64, 67, 0.15);\n",
              "    fill: var(--button-hover-fill-color);\n",
              "  }\n",
              "\n",
              "  .colab-df-quickchart-complete:disabled,\n",
              "  .colab-df-quickchart-complete:disabled:hover {\n",
              "    background-color: var(--disabled-bg-color);\n",
              "    fill: var(--disabled-fill-color);\n",
              "    box-shadow: none;\n",
              "  }\n",
              "\n",
              "  .colab-df-spinner {\n",
              "    border: 2px solid var(--fill-color);\n",
              "    border-color: transparent;\n",
              "    border-bottom-color: var(--fill-color);\n",
              "    animation:\n",
              "      spin 1s steps(1) infinite;\n",
              "  }\n",
              "\n",
              "  @keyframes spin {\n",
              "    0% {\n",
              "      border-color: transparent;\n",
              "      border-bottom-color: var(--fill-color);\n",
              "      border-left-color: var(--fill-color);\n",
              "    }\n",
              "    20% {\n",
              "      border-color: transparent;\n",
              "      border-left-color: var(--fill-color);\n",
              "      border-top-color: var(--fill-color);\n",
              "    }\n",
              "    30% {\n",
              "      border-color: transparent;\n",
              "      border-left-color: var(--fill-color);\n",
              "      border-top-color: var(--fill-color);\n",
              "      border-right-color: var(--fill-color);\n",
              "    }\n",
              "    40% {\n",
              "      border-color: transparent;\n",
              "      border-right-color: var(--fill-color);\n",
              "      border-top-color: var(--fill-color);\n",
              "    }\n",
              "    60% {\n",
              "      border-color: transparent;\n",
              "      border-right-color: var(--fill-color);\n",
              "    }\n",
              "    80% {\n",
              "      border-color: transparent;\n",
              "      border-right-color: var(--fill-color);\n",
              "      border-bottom-color: var(--fill-color);\n",
              "    }\n",
              "    90% {\n",
              "      border-color: transparent;\n",
              "      border-bottom-color: var(--fill-color);\n",
              "    }\n",
              "  }\n",
              "</style>\n",
              "\n",
              "  <script>\n",
              "    async function quickchart(key) {\n",
              "      const quickchartButtonEl =\n",
              "        document.querySelector('#' + key + ' button');\n",
              "      quickchartButtonEl.disabled = true;  // To prevent multiple clicks.\n",
              "      quickchartButtonEl.classList.add('colab-df-spinner');\n",
              "      try {\n",
              "        const charts = await google.colab.kernel.invokeFunction(\n",
              "            'suggestCharts', [key], {});\n",
              "      } catch (error) {\n",
              "        console.error('Error during call to suggestCharts:', error);\n",
              "      }\n",
              "      quickchartButtonEl.classList.remove('colab-df-spinner');\n",
              "      quickchartButtonEl.classList.add('colab-df-quickchart-complete');\n",
              "    }\n",
              "    (() => {\n",
              "      let quickchartButtonEl =\n",
              "        document.querySelector('#df-28e4d414-71df-4c66-aaf5-434e6c2d4d4d button');\n",
              "      quickchartButtonEl.style.display =\n",
              "        google.colab.kernel.accessAllowed ? 'block' : 'none';\n",
              "    })();\n",
              "  </script>\n",
              "</div>\n",
              "\n",
              "    </div>\n",
              "  </div>\n"
            ],
            "application/vnd.google.colaboratory.intrinsic+json": {
              "type": "dataframe",
              "variable_name": "attrition_df"
            }
          },
          "metadata": {},
          "execution_count": 1
        }
      ],
      "source": [
        "# Import our dependencies\n",
        "from sklearn.model_selection import train_test_split\n",
        "from sklearn.preprocessing import StandardScaler\n",
        "import pandas as pd\n",
        "import numpy as np\n",
        "!pip install tensorflow\n",
        "import tensorflow as tf\n",
        "from tensorflow.keras.models import Model\n",
        "from tensorflow.keras import layers\n",
        "\n",
        "#  Import and read the attrition data\n",
        "attrition_df = pd.read_csv('https://static.bc-edx.com/ai/ail-v-1-0/m19/lms/datasets/attrition.csv')\n",
        "attrition_df.head()"
      ]
    },
    {
      "cell_type": "code",
      "execution_count": 2,
      "metadata": {
        "colab": {
          "base_uri": "https://localhost:8080/"
        },
        "id": "g22aQSY4Gc3Q",
        "outputId": "0cf4838b-495e-4250-982c-80359a352b4e"
      },
      "outputs": [
        {
          "output_type": "execute_result",
          "data": {
            "text/plain": [
              "Age                         43\n",
              "Attrition                    2\n",
              "BusinessTravel               3\n",
              "Department                   3\n",
              "DistanceFromHome            29\n",
              "Education                    5\n",
              "EducationField               6\n",
              "EnvironmentSatisfaction      4\n",
              "HourlyRate                  71\n",
              "JobInvolvement               4\n",
              "JobLevel                     5\n",
              "JobRole                      9\n",
              "JobSatisfaction              4\n",
              "MaritalStatus                3\n",
              "NumCompaniesWorked          10\n",
              "OverTime                     2\n",
              "PercentSalaryHike           15\n",
              "PerformanceRating            2\n",
              "RelationshipSatisfaction     4\n",
              "StockOptionLevel             4\n",
              "TotalWorkingYears           40\n",
              "TrainingTimesLastYear        7\n",
              "WorkLifeBalance              4\n",
              "YearsAtCompany              37\n",
              "YearsInCurrentRole          19\n",
              "YearsSinceLastPromotion     16\n",
              "YearsWithCurrManager        18\n",
              "dtype: int64"
            ]
          },
          "metadata": {},
          "execution_count": 2
        }
      ],
      "source": [
        "# Determine the number of unique values in each column.\n",
        "attrition_df.nunique()"
      ]
    },
    {
      "cell_type": "code",
      "execution_count": 3,
      "metadata": {
        "id": "50vMgBEnJbfM",
        "colab": {
          "base_uri": "https://localhost:8080/"
        },
        "outputId": "7d9bf362-376b-4f04-e926-2605389d2d46"
      },
      "outputs": [
        {
          "output_type": "stream",
          "name": "stdout",
          "text": [
            "<class 'pandas.core.frame.DataFrame'>\n",
            "RangeIndex: 1470 entries, 0 to 1469\n",
            "Data columns (total 2 columns):\n",
            " #   Column      Non-Null Count  Dtype \n",
            "---  ------      --------------  ----- \n",
            " 0   Attrition   1470 non-null   object\n",
            " 1   Department  1470 non-null   object\n",
            "dtypes: object(2)\n",
            "memory usage: 23.1+ KB\n"
          ]
        }
      ],
      "source": [
        "# Create y_df with the Attrition and Department columns\n",
        "y_df = attrition_df[['Attrition','Department']].copy()\n",
        "y_df.info()"
      ]
    },
    {
      "cell_type": "code",
      "source": [
        "# Exploratory check, where I can take a look inside of each of these columns, for my overall analysis/summary\n",
        "print(y_df['Attrition'].value_counts())\n",
        "print(y_df['Department'].value_counts())"
      ],
      "metadata": {
        "colab": {
          "base_uri": "https://localhost:8080/"
        },
        "id": "tJ0K5Jb6gwbf",
        "outputId": "b9fbcf8a-96eb-42bd-9a22-e20c6541acae"
      },
      "execution_count": 4,
      "outputs": [
        {
          "output_type": "stream",
          "name": "stdout",
          "text": [
            "Attrition\n",
            "No     1233\n",
            "Yes     237\n",
            "Name: count, dtype: int64\n",
            "Department\n",
            "Research & Development    961\n",
            "Sales                     446\n",
            "Human Resources            63\n",
            "Name: count, dtype: int64\n"
          ]
        }
      ]
    },
    {
      "cell_type": "code",
      "execution_count": 5,
      "metadata": {
        "colab": {
          "base_uri": "https://localhost:8080/"
        },
        "id": "Virka0zLGc3R",
        "outputId": "e5cdad0d-d842-4de7-db23-50cfe5e6820a"
      },
      "outputs": [
        {
          "output_type": "stream",
          "name": "stdout",
          "text": [
            "BusinessTravel             object\n",
            "TotalWorkingYears           int64\n",
            "HourlyRate                  int64\n",
            "YearsAtCompany              int64\n",
            "DistanceFromHome            int64\n",
            "Age                         int64\n",
            "YearsWithCurrManager        int64\n",
            "YearsSinceLastPromotion     int64\n",
            "YearsInCurrentRole          int64\n",
            "MaritalStatus              object\n",
            "dtype: object\n"
          ]
        }
      ],
      "source": [
        "# Create a list of at least 10 column names to use as X data\n",
        "X_columns = ['BusinessTravel', 'TotalWorkingYears', 'HourlyRate', 'YearsAtCompany', 'DistanceFromHome',\n",
        "              'Age', 'YearsWithCurrManager', 'YearsSinceLastPromotion', 'YearsInCurrentRole', 'MaritalStatus']\n",
        "\n",
        "# Create X_df using your selected columns\n",
        "X_df = attrition_df[X_columns].copy()\n",
        "\n",
        "# Show the data types for X_df\n",
        "show = X_df.dtypes\n",
        "print(show)"
      ]
    },
    {
      "cell_type": "code",
      "execution_count": 6,
      "metadata": {
        "id": "KaJfdOGUMHMR"
      },
      "outputs": [],
      "source": [
        "# Split data into training and testing sets\n",
        "from sklearn.model_selection import train_test_split\n",
        "X_train, X_test, y_train, y_test = train_test_split(X_df, y_df, test_size=0.2, random_state=42)"
      ]
    },
    {
      "cell_type": "code",
      "source": [
        "# Double checking if there are null values within the training dataset (by percentage)\n",
        "# Reference: Module 14, Day 2, activity 7 - \"third_model_solution\"\n",
        "X_train.isna().sum()/len(X_train)"
      ],
      "metadata": {
        "colab": {
          "base_uri": "https://localhost:8080/"
        },
        "id": "OcqFFVdwx3Cq",
        "outputId": "4a407fbc-b21b-4633-c33d-9ac743ddc861"
      },
      "execution_count": 7,
      "outputs": [
        {
          "output_type": "execute_result",
          "data": {
            "text/plain": [
              "BusinessTravel             0.0\n",
              "TotalWorkingYears          0.0\n",
              "HourlyRate                 0.0\n",
              "YearsAtCompany             0.0\n",
              "DistanceFromHome           0.0\n",
              "Age                        0.0\n",
              "YearsWithCurrManager       0.0\n",
              "YearsSinceLastPromotion    0.0\n",
              "YearsInCurrentRole         0.0\n",
              "MaritalStatus              0.0\n",
              "dtype: float64"
            ]
          },
          "metadata": {},
          "execution_count": 7
        }
      ]
    },
    {
      "cell_type": "code",
      "source": [
        "# Double checking if there are null values within the testing dataset (by percentage)\n",
        "X_test.isna().sum()/len(X_test)"
      ],
      "metadata": {
        "colab": {
          "base_uri": "https://localhost:8080/"
        },
        "id": "nUmQGaKHx7PE",
        "outputId": "e4ad0bcf-d4c3-4969-ad25-dc94d3b0966e"
      },
      "execution_count": 8,
      "outputs": [
        {
          "output_type": "execute_result",
          "data": {
            "text/plain": [
              "BusinessTravel             0.0\n",
              "TotalWorkingYears          0.0\n",
              "HourlyRate                 0.0\n",
              "YearsAtCompany             0.0\n",
              "DistanceFromHome           0.0\n",
              "Age                        0.0\n",
              "YearsWithCurrManager       0.0\n",
              "YearsSinceLastPromotion    0.0\n",
              "YearsInCurrentRole         0.0\n",
              "MaritalStatus              0.0\n",
              "dtype: float64"
            ]
          },
          "metadata": {},
          "execution_count": 8
        }
      ]
    },
    {
      "cell_type": "code",
      "source": [
        "# For the below step, I will need to check the classes of the 'BusinessTravel' column\n",
        "print(X_train['BusinessTravel'].value_counts())"
      ],
      "metadata": {
        "colab": {
          "base_uri": "https://localhost:8080/"
        },
        "id": "5d62150QhyYx",
        "outputId": "9a1b9116-e810-4136-b925-3e72591fb618"
      },
      "execution_count": 9,
      "outputs": [
        {
          "output_type": "stream",
          "name": "stdout",
          "text": [
            "BusinessTravel\n",
            "Travel_Rarely        835\n",
            "Travel_Frequently    228\n",
            "Non-Travel           113\n",
            "Name: count, dtype: int64\n"
          ]
        }
      ]
    },
    {
      "cell_type": "code",
      "source": [
        "# # For the below step, I will need to check the classes of the 'MaritalStatus' column\n",
        "print(X_train['MaritalStatus'].value_counts())"
      ],
      "metadata": {
        "colab": {
          "base_uri": "https://localhost:8080/"
        },
        "id": "32-s3oBUdsdC",
        "outputId": "4bddb32d-9bed-43a9-eff2-d1e6fc8b980c"
      },
      "execution_count": 10,
      "outputs": [
        {
          "output_type": "stream",
          "name": "stdout",
          "text": [
            "MaritalStatus\n",
            "Married     550\n",
            "Single      359\n",
            "Divorced    267\n",
            "Name: count, dtype: int64\n"
          ]
        }
      ]
    },
    {
      "cell_type": "markdown",
      "source": [
        "# Rationale for deciding the encoding method below\n",
        "---\n",
        "### From my understanding, label encoding is only used with binary data. Given the values counts of the 2 columns that I am choosing to convert to numerical values (through encoding), it appears that OneHotEncoding will be best.\n",
        "\n",
        "### Referencing Module 19, activity 2, for branching, the OneHotEncoder was used for data with mutiple, not binary categories\n",
        "\n",
        "### Reference:\n",
        "> \"Preprocess \"color\" column (**label encoding for binary; one-hot encoding for multiple categories**)\" - Label encoding was used here for the 2 categories that the 'color' column contained.\n",
        "### Seeing as both of my columns have 3 categories, OneHot encoding will be the best suited encoder.\n",
        "---\n",
        "# Secondary rationale for the 'MaritalStatus' column:\n",
        "### According to Module 14, Day 2, activity 7 - \"third_model_solution\", there is column named \"marital\" that has the same values inside of it (single, married, divorced). The way it is handled is below:\n",
        "\n",
        "\n",
        ">\n",
        "    # Only three values; lets use two OneHotEncoded columns\n",
        "    # remembering to choose options for unknown values\n",
        "    encode_marital = OneHotEncoder(drop='first', handle_unknown='ignore', sparse_output=False)\n",
        "\n",
        "    # Train the encoder\n",
        "    encode_marital.fit(X_train_filled['marital'].values.reshape(-1, 1))\n",
        "\n",
        "\n",
        "\n"
      ],
      "metadata": {
        "id": "qfmU_Tg8sXfE"
      }
    },
    {
      "cell_type": "code",
      "execution_count": 11,
      "metadata": {
        "id": "tL_NrgVzefAi"
      },
      "outputs": [],
      "source": [
        "# Convert your X data to numeric data types however you see fit\n",
        "# Add new code cells as necessary\n",
        "# Convert categorical columns to numeric\n",
        "# The categorical columns that I need to convert for use will be 'MaritalStatus' and 'BusinessTravel\n",
        "from sklearn.preprocessing import OneHotEncoder\n",
        "encoder = OneHotEncoder(sparse=False)"
      ]
    },
    {
      "cell_type": "code",
      "source": [
        "# Establish columns to be encoded\n",
        "columns_to_encode = ['BusinessTravel', 'MaritalStatus']"
      ],
      "metadata": {
        "id": "Td25NQnziZr3"
      },
      "execution_count": 12,
      "outputs": []
    },
    {
      "cell_type": "code",
      "source": [
        "# Fit the encoder on the training data and transform both train and test data\n",
        "encoder.fit(X_train[columns_to_encode])\n",
        "X_train_encoded = encoder.transform(X_train[columns_to_encode])\n",
        "X_test_encoded = encoder.transform(X_test[columns_to_encode])"
      ],
      "metadata": {
        "colab": {
          "base_uri": "https://localhost:8080/"
        },
        "id": "zsmUwARj_5WK",
        "outputId": "7fc79946-ddb3-4542-d579-74f4357c7a7e"
      },
      "execution_count": 13,
      "outputs": [
        {
          "output_type": "stream",
          "name": "stderr",
          "text": [
            "/usr/local/lib/python3.10/dist-packages/sklearn/preprocessing/_encoders.py:868: FutureWarning: `sparse` was renamed to `sparse_output` in version 1.2 and will be removed in 1.4. `sparse_output` is ignored unless you leave `sparse` to its default value.\n",
            "  warnings.warn(\n"
          ]
        }
      ]
    },
    {
      "cell_type": "code",
      "source": [
        "# Get feature names for the encoded columns\n",
        "encoded_columns = encoder.get_feature_names_out(columns_to_encode)"
      ],
      "metadata": {
        "id": "jT_OWPqtAGK7"
      },
      "execution_count": 14,
      "outputs": []
    },
    {
      "cell_type": "code",
      "source": [
        "# Convert the encoded features into a dataframe\n",
        "# and concatenate with the original X_df dataframe, dropping the 'un-encoded' columns\n",
        "X_train_processed = pd.concat([\n",
        "    X_train.drop(columns_to_encode, axis=1),\n",
        "    pd.DataFrame(X_train_encoded, columns=encoded_columns, index=X_train.index)\n",
        "], axis=1)"
      ],
      "metadata": {
        "id": "yd7rcN6gAIKo"
      },
      "execution_count": 15,
      "outputs": []
    },
    {
      "cell_type": "code",
      "source": [
        "# Doing the same for the testing data\n",
        "X_test_processed = pd.concat([\n",
        "    X_test.drop(columns_to_encode, axis=1),\n",
        "    pd.DataFrame(X_test_encoded, columns=encoded_columns, index=X_test.index)\n",
        "], axis=1)"
      ],
      "metadata": {
        "id": "YqzxipgUAIMn"
      },
      "execution_count": 16,
      "outputs": []
    },
    {
      "cell_type": "code",
      "source": [
        "# Verify the columns and data contained after encoding\n",
        "# It looks like now instead of 10 columns to work with, the encoding makes it 14 total usuable columns\n",
        "print(X_train_processed.head())"
      ],
      "metadata": {
        "colab": {
          "base_uri": "https://localhost:8080/"
        },
        "id": "T99QSgj9AIOs",
        "outputId": "1dc02ce1-88d2-4bf5-b624-72d91024ff6f"
      },
      "execution_count": 17,
      "outputs": [
        {
          "output_type": "stream",
          "name": "stdout",
          "text": [
            "      TotalWorkingYears  HourlyRate  YearsAtCompany  DistanceFromHome  Age  \\\n",
            "1097                  2          57               1                21   24   \n",
            "727                   0          73               0                 5   18   \n",
            "254                  10          45               3                20   29   \n",
            "1175                  7          66               5                12   39   \n",
            "1341                 10          89              10                20   31   \n",
            "\n",
            "      YearsWithCurrManager  YearsSinceLastPromotion  YearsInCurrentRole  \\\n",
            "1097                     0                        0                   1   \n",
            "727                      0                        0                   0   \n",
            "254                      2                        0                   2   \n",
            "1175                     0                        1                   4   \n",
            "1341                     2                        0                   8   \n",
            "\n",
            "      BusinessTravel_Non-Travel  BusinessTravel_Travel_Frequently  \\\n",
            "1097                        0.0                               0.0   \n",
            "727                         1.0                               0.0   \n",
            "254                         0.0                               0.0   \n",
            "1175                        0.0                               0.0   \n",
            "1341                        0.0                               0.0   \n",
            "\n",
            "      BusinessTravel_Travel_Rarely  MaritalStatus_Divorced  \\\n",
            "1097                           1.0                     1.0   \n",
            "727                            0.0                     0.0   \n",
            "254                            1.0                     1.0   \n",
            "1175                           1.0                     0.0   \n",
            "1341                           1.0                     1.0   \n",
            "\n",
            "      MaritalStatus_Married  MaritalStatus_Single  \n",
            "1097                    0.0                   0.0  \n",
            "727                     0.0                   1.0  \n",
            "254                     0.0                   0.0  \n",
            "1175                    1.0                   0.0  \n",
            "1341                    0.0                   0.0  \n"
          ]
        }
      ]
    },
    {
      "cell_type": "code",
      "execution_count": 18,
      "metadata": {
        "id": "EWA-aIA5Gc3T"
      },
      "outputs": [],
      "source": [
        "# Create a StandardScaler\n",
        "scaler = StandardScaler()\n",
        "\n",
        "# Fit the StandardScaler to the training data\n",
        "scaler.fit(X_train_processed)\n",
        "\n",
        "# Scale the training and testing data\n",
        "X_train_scaled = scaler.transform(X_train_processed)\n",
        "X_test_scaled = scaler.transform(X_test_processed)"
      ]
    },
    {
      "cell_type": "code",
      "source": [
        "# Convert arrays back to dfs\n",
        "# Following the Module 19.3 activities, it looks like I need these to be in dataframe format for the model\n",
        "X_train_scaled_df = pd.DataFrame(X_train_scaled, columns=X_train_processed.columns, index=X_train_processed.index)\n",
        "X_test_scaled_df = pd.DataFrame(X_test_scaled, columns=X_test_processed.columns, index=X_test_processed.index)"
      ],
      "metadata": {
        "id": "oMpjK3o9EsJ4"
      },
      "execution_count": 19,
      "outputs": []
    },
    {
      "cell_type": "code",
      "source": [
        "# Taking a look at the dataframe (in printed form)\n",
        "print(X_train_scaled_df.head())"
      ],
      "metadata": {
        "colab": {
          "base_uri": "https://localhost:8080/"
        },
        "id": "-VyfZ5RwAnkR",
        "outputId": "d3356629-571d-481d-de7e-b0abfe6e1237"
      },
      "execution_count": 20,
      "outputs": [
        {
          "output_type": "stream",
          "name": "stdout",
          "text": [
            "      TotalWorkingYears  HourlyRate  YearsAtCompany  DistanceFromHome  \\\n",
            "1097          -1.167368   -0.472832       -0.974263          1.440396   \n",
            "727           -1.423397    0.309374       -1.138573         -0.522699   \n",
            "254           -0.143254   -1.059487       -0.645643          1.317703   \n",
            "1175          -0.527297   -0.032841       -0.317023          0.336155   \n",
            "1341          -0.143254    1.091580        0.504527          1.317703   \n",
            "\n",
            "           Age  YearsWithCurrManager  YearsSinceLastPromotion  \\\n",
            "1097 -1.388559             -1.142448                -0.676110   \n",
            "727  -2.040738             -1.142448                -0.676110   \n",
            "254  -0.845077             -0.575084                -0.676110   \n",
            "1175  0.241886             -1.142448                -0.355244   \n",
            "1341 -0.627685             -0.575084                -0.676110   \n",
            "\n",
            "      YearsInCurrentRole  BusinessTravel_Non-Travel  \\\n",
            "1097           -0.888208                  -0.326041   \n",
            "727            -1.165051                   3.067096   \n",
            "254            -0.611364                  -0.326041   \n",
            "1175           -0.057676                  -0.326041   \n",
            "1341            1.049700                  -0.326041   \n",
            "\n",
            "      BusinessTravel_Travel_Frequently  BusinessTravel_Travel_Rarely  \\\n",
            "1097                         -0.490414                      0.639049   \n",
            "727                          -0.490414                     -1.564826   \n",
            "254                          -0.490414                      0.639049   \n",
            "1175                         -0.490414                      0.639049   \n",
            "1341                         -0.490414                      0.639049   \n",
            "\n",
            "      MaritalStatus_Divorced  MaritalStatus_Married  MaritalStatus_Single  \n",
            "1097                1.845127              -0.937334             -0.662882  \n",
            "727                -0.541968              -0.937334              1.508564  \n",
            "254                 1.845127              -0.937334             -0.662882  \n",
            "1175               -0.541968               1.066856             -0.662882  \n",
            "1341                1.845127              -0.937334             -0.662882  \n"
          ]
        }
      ]
    },
    {
      "cell_type": "code",
      "execution_count": 21,
      "metadata": {
        "colab": {
          "base_uri": "https://localhost:8080/"
        },
        "id": "-z0Mky8vQSz4",
        "outputId": "5ceba8e6-2a97-4d17-e06d-cbac7bab58ed"
      },
      "outputs": [
        {
          "output_type": "stream",
          "name": "stderr",
          "text": [
            "/usr/local/lib/python3.10/dist-packages/sklearn/preprocessing/_encoders.py:868: FutureWarning: `sparse` was renamed to `sparse_output` in version 1.2 and will be removed in 1.4. `sparse_output` is ignored unless you leave `sparse` to its default value.\n",
            "  warnings.warn(\n"
          ]
        },
        {
          "output_type": "execute_result",
          "data": {
            "text/plain": [
              "array([[0., 1., 0.],\n",
              "       [0., 1., 0.],\n",
              "       [0., 0., 1.],\n",
              "       ...,\n",
              "       [0., 1., 0.],\n",
              "       [0., 1., 0.],\n",
              "       [0., 0., 1.]])"
            ]
          },
          "metadata": {},
          "execution_count": 21
        }
      ],
      "source": [
        "# Create a OneHotEncoder for the Department column\n",
        "encode_department = OneHotEncoder(sparse=False)\n",
        "\n",
        "# Fit the encoder to the training data\n",
        "encode_department.fit(y_train[['Department']])\n",
        "\n",
        "# Create two new variables by applying the encoder\n",
        "# to the training and testing data\n",
        "y_train_department_encoded = encode_department.transform(y_train[['Department']])\n",
        "y_test_department_encoded = encode_department.transform(y_test[['Department']])\n",
        "\n",
        "# Looking at the training array created (for y_train, (encoded deparrtment))\n",
        "y_train_department_encoded"
      ]
    },
    {
      "cell_type": "code",
      "execution_count": 22,
      "metadata": {
        "colab": {
          "base_uri": "https://localhost:8080/"
        },
        "id": "-G4DSpvFRrk4",
        "outputId": "182b4ddb-dc75-4bab-9d51-e53228e4081f"
      },
      "outputs": [
        {
          "output_type": "stream",
          "name": "stderr",
          "text": [
            "/usr/local/lib/python3.10/dist-packages/sklearn/preprocessing/_encoders.py:868: FutureWarning: `sparse` was renamed to `sparse_output` in version 1.2 and will be removed in 1.4. `sparse_output` is ignored unless you leave `sparse` to its default value.\n",
            "  warnings.warn(\n"
          ]
        },
        {
          "output_type": "execute_result",
          "data": {
            "text/plain": [
              "array([[1., 0.],\n",
              "       [1., 0.],\n",
              "       [1., 0.],\n",
              "       ...,\n",
              "       [0., 1.],\n",
              "       [1., 0.],\n",
              "       [1., 0.]])"
            ]
          },
          "metadata": {},
          "execution_count": 22
        }
      ],
      "source": [
        "# Create a OneHotEncoder for the Attrition column\n",
        "encode_attrition = OneHotEncoder(sparse=False)\n",
        "\n",
        "# Fit the encoder to the training data\n",
        "encode_attrition.fit(y_train[['Attrition']])\n",
        "\n",
        "# Create two new variables by applying the encoder\n",
        "# to the training and testing data\n",
        "y_train_attrition_encoded = encode_attrition.transform(y_train[['Attrition']])\n",
        "y_test_attrition_encoded = encode_attrition.transform(y_test[['Attrition']])\n",
        "\n",
        "y_train_attrition_encoded"
      ]
    },
    {
      "cell_type": "code",
      "source": [
        "# Additional verification step to check shape and display the beginning of the array\n",
        "print(y_train_department_encoded.shape)\n",
        "print(y_train_department_encoded[:10])"
      ],
      "metadata": {
        "colab": {
          "base_uri": "https://localhost:8080/"
        },
        "id": "NCCn6ZDACfq6",
        "outputId": "beda218d-7b64-44ec-f5a4-871ec6f9f04a"
      },
      "execution_count": 23,
      "outputs": [
        {
          "output_type": "stream",
          "name": "stdout",
          "text": [
            "(1176, 3)\n",
            "[[0. 1. 0.]\n",
            " [0. 1. 0.]\n",
            " [0. 0. 1.]\n",
            " [0. 1. 0.]\n",
            " [0. 1. 0.]\n",
            " [1. 0. 0.]\n",
            " [0. 1. 0.]\n",
            " [1. 0. 0.]\n",
            " [0. 0. 1.]\n",
            " [0. 1. 0.]]\n"
          ]
        }
      ]
    },
    {
      "cell_type": "markdown",
      "metadata": {
        "id": "ykNmu_WWGc3T"
      },
      "source": [
        "## Create, Compile, and Train the Model"
      ]
    },
    {
      "cell_type": "code",
      "source": [
        "# Verify correct installations/imports (Colab is a little funny with the way it handles this)\n",
        "# But in order to proceed, I absolutely need these\n",
        "# !pip install tensorflow\n",
        "# import tensorflow as tf\n",
        "from tensorflow.keras.models import Model\n",
        "from tensorflow.keras.layers import Input, Dense"
      ],
      "metadata": {
        "colab": {
          "base_uri": "https://localhost:8080/"
        },
        "id": "McuVyRBnDgV-",
        "outputId": "59aa9608-11a5-4155-c291-dda6585df2d5"
      },
      "execution_count": 24,
      "outputs": [
        {
          "output_type": "stream",
          "name": "stdout",
          "text": [
            "Requirement already satisfied: tensorflow in /usr/local/lib/python3.10/dist-packages (2.15.0)\n",
            "Requirement already satisfied: absl-py>=1.0.0 in /usr/local/lib/python3.10/dist-packages (from tensorflow) (1.4.0)\n",
            "Requirement already satisfied: astunparse>=1.6.0 in /usr/local/lib/python3.10/dist-packages (from tensorflow) (1.6.3)\n",
            "Requirement already satisfied: flatbuffers>=23.5.26 in /usr/local/lib/python3.10/dist-packages (from tensorflow) (24.3.25)\n",
            "Requirement already satisfied: gast!=0.5.0,!=0.5.1,!=0.5.2,>=0.2.1 in /usr/local/lib/python3.10/dist-packages (from tensorflow) (0.5.4)\n",
            "Requirement already satisfied: google-pasta>=0.1.1 in /usr/local/lib/python3.10/dist-packages (from tensorflow) (0.2.0)\n",
            "Requirement already satisfied: h5py>=2.9.0 in /usr/local/lib/python3.10/dist-packages (from tensorflow) (3.9.0)\n",
            "Requirement already satisfied: libclang>=13.0.0 in /usr/local/lib/python3.10/dist-packages (from tensorflow) (18.1.1)\n",
            "Requirement already satisfied: ml-dtypes~=0.2.0 in /usr/local/lib/python3.10/dist-packages (from tensorflow) (0.2.0)\n",
            "Requirement already satisfied: numpy<2.0.0,>=1.23.5 in /usr/local/lib/python3.10/dist-packages (from tensorflow) (1.25.2)\n",
            "Requirement already satisfied: opt-einsum>=2.3.2 in /usr/local/lib/python3.10/dist-packages (from tensorflow) (3.3.0)\n",
            "Requirement already satisfied: packaging in /usr/local/lib/python3.10/dist-packages (from tensorflow) (24.0)\n",
            "Requirement already satisfied: protobuf!=4.21.0,!=4.21.1,!=4.21.2,!=4.21.3,!=4.21.4,!=4.21.5,<5.0.0dev,>=3.20.3 in /usr/local/lib/python3.10/dist-packages (from tensorflow) (3.20.3)\n",
            "Requirement already satisfied: setuptools in /usr/local/lib/python3.10/dist-packages (from tensorflow) (67.7.2)\n",
            "Requirement already satisfied: six>=1.12.0 in /usr/local/lib/python3.10/dist-packages (from tensorflow) (1.16.0)\n",
            "Requirement already satisfied: termcolor>=1.1.0 in /usr/local/lib/python3.10/dist-packages (from tensorflow) (2.4.0)\n",
            "Requirement already satisfied: typing-extensions>=3.6.6 in /usr/local/lib/python3.10/dist-packages (from tensorflow) (4.11.0)\n",
            "Requirement already satisfied: wrapt<1.15,>=1.11.0 in /usr/local/lib/python3.10/dist-packages (from tensorflow) (1.14.1)\n",
            "Requirement already satisfied: tensorflow-io-gcs-filesystem>=0.23.1 in /usr/local/lib/python3.10/dist-packages (from tensorflow) (0.36.0)\n",
            "Requirement already satisfied: grpcio<2.0,>=1.24.3 in /usr/local/lib/python3.10/dist-packages (from tensorflow) (1.62.2)\n",
            "Requirement already satisfied: tensorboard<2.16,>=2.15 in /usr/local/lib/python3.10/dist-packages (from tensorflow) (2.15.2)\n",
            "Requirement already satisfied: tensorflow-estimator<2.16,>=2.15.0 in /usr/local/lib/python3.10/dist-packages (from tensorflow) (2.15.0)\n",
            "Requirement already satisfied: keras<2.16,>=2.15.0 in /usr/local/lib/python3.10/dist-packages (from tensorflow) (2.15.0)\n",
            "Requirement already satisfied: wheel<1.0,>=0.23.0 in /usr/local/lib/python3.10/dist-packages (from astunparse>=1.6.0->tensorflow) (0.43.0)\n",
            "Requirement already satisfied: google-auth<3,>=1.6.3 in /usr/local/lib/python3.10/dist-packages (from tensorboard<2.16,>=2.15->tensorflow) (2.27.0)\n",
            "Requirement already satisfied: google-auth-oauthlib<2,>=0.5 in /usr/local/lib/python3.10/dist-packages (from tensorboard<2.16,>=2.15->tensorflow) (1.2.0)\n",
            "Requirement already satisfied: markdown>=2.6.8 in /usr/local/lib/python3.10/dist-packages (from tensorboard<2.16,>=2.15->tensorflow) (3.6)\n",
            "Requirement already satisfied: requests<3,>=2.21.0 in /usr/local/lib/python3.10/dist-packages (from tensorboard<2.16,>=2.15->tensorflow) (2.31.0)\n",
            "Requirement already satisfied: tensorboard-data-server<0.8.0,>=0.7.0 in /usr/local/lib/python3.10/dist-packages (from tensorboard<2.16,>=2.15->tensorflow) (0.7.2)\n",
            "Requirement already satisfied: werkzeug>=1.0.1 in /usr/local/lib/python3.10/dist-packages (from tensorboard<2.16,>=2.15->tensorflow) (3.0.2)\n",
            "Requirement already satisfied: cachetools<6.0,>=2.0.0 in /usr/local/lib/python3.10/dist-packages (from google-auth<3,>=1.6.3->tensorboard<2.16,>=2.15->tensorflow) (5.3.3)\n",
            "Requirement already satisfied: pyasn1-modules>=0.2.1 in /usr/local/lib/python3.10/dist-packages (from google-auth<3,>=1.6.3->tensorboard<2.16,>=2.15->tensorflow) (0.4.0)\n",
            "Requirement already satisfied: rsa<5,>=3.1.4 in /usr/local/lib/python3.10/dist-packages (from google-auth<3,>=1.6.3->tensorboard<2.16,>=2.15->tensorflow) (4.9)\n",
            "Requirement already satisfied: requests-oauthlib>=0.7.0 in /usr/local/lib/python3.10/dist-packages (from google-auth-oauthlib<2,>=0.5->tensorboard<2.16,>=2.15->tensorflow) (1.3.1)\n",
            "Requirement already satisfied: charset-normalizer<4,>=2 in /usr/local/lib/python3.10/dist-packages (from requests<3,>=2.21.0->tensorboard<2.16,>=2.15->tensorflow) (3.3.2)\n",
            "Requirement already satisfied: idna<4,>=2.5 in /usr/local/lib/python3.10/dist-packages (from requests<3,>=2.21.0->tensorboard<2.16,>=2.15->tensorflow) (3.7)\n",
            "Requirement already satisfied: urllib3<3,>=1.21.1 in /usr/local/lib/python3.10/dist-packages (from requests<3,>=2.21.0->tensorboard<2.16,>=2.15->tensorflow) (2.0.7)\n",
            "Requirement already satisfied: certifi>=2017.4.17 in /usr/local/lib/python3.10/dist-packages (from requests<3,>=2.21.0->tensorboard<2.16,>=2.15->tensorflow) (2024.2.2)\n",
            "Requirement already satisfied: MarkupSafe>=2.1.1 in /usr/local/lib/python3.10/dist-packages (from werkzeug>=1.0.1->tensorboard<2.16,>=2.15->tensorflow) (2.1.5)\n",
            "Requirement already satisfied: pyasn1<0.7.0,>=0.4.6 in /usr/local/lib/python3.10/dist-packages (from pyasn1-modules>=0.2.1->google-auth<3,>=1.6.3->tensorboard<2.16,>=2.15->tensorflow) (0.6.0)\n",
            "Requirement already satisfied: oauthlib>=3.0.0 in /usr/local/lib/python3.10/dist-packages (from requests-oauthlib>=0.7.0->google-auth-oauthlib<2,>=0.5->tensorboard<2.16,>=2.15->tensorflow) (3.2.2)\n"
          ]
        }
      ]
    },
    {
      "cell_type": "code",
      "source": [
        "# Verifying and checking the shape (this will be important for the output layer(s) creation)\n",
        "input_shape = X_train_scaled.shape[1]\n",
        "print(input_shape)"
      ],
      "metadata": {
        "colab": {
          "base_uri": "https://localhost:8080/"
        },
        "id": "KvgXYlqlMvqY",
        "outputId": "1a36f554-fe8a-4653-a0c6-b4022c1df810"
      },
      "execution_count": 25,
      "outputs": [
        {
          "output_type": "stream",
          "name": "stdout",
          "text": [
            "14\n"
          ]
        }
      ]
    },
    {
      "cell_type": "code",
      "source": [
        "# Checking again the array\n",
        "X_train_scaled"
      ],
      "metadata": {
        "colab": {
          "base_uri": "https://localhost:8080/"
        },
        "id": "dCowwRhMNFYB",
        "outputId": "3355758e-4934-4085-f275-ce93ec8e1e45"
      },
      "execution_count": 26,
      "outputs": [
        {
          "output_type": "execute_result",
          "data": {
            "text/plain": [
              "array([[-1.1673683 , -0.47283217, -0.97426331, ...,  1.8451272 ,\n",
              "        -0.93733358, -0.66288195],\n",
              "       [-1.42339685,  0.30937375, -1.13857331, ..., -0.54196806,\n",
              "        -0.93733358,  1.50856422],\n",
              "       [-0.14325407, -1.05948661, -0.6456433 , ...,  1.8451272 ,\n",
              "        -0.93733358, -0.66288195],\n",
              "       ...,\n",
              "       [-1.29538258, -0.912823  , -1.13857331, ..., -0.54196806,\n",
              "         1.06685604, -0.66288195],\n",
              "       [-0.14325407, -1.01059874, -0.4813333 , ..., -0.54196806,\n",
              "         1.06685604, -0.66288195],\n",
              "       [ 2.03298865, -0.37505643, -0.97426331, ..., -0.54196806,\n",
              "         1.06685604, -0.66288195]])"
            ]
          },
          "metadata": {},
          "execution_count": 26
        }
      ]
    },
    {
      "cell_type": "code",
      "execution_count": 27,
      "metadata": {
        "id": "WUptZqmSGc3T"
      },
      "outputs": [],
      "source": [
        "# Reference (Mod. 19, day 3)\n",
        "\n",
        "# Find the number of columns in the X training data\n",
        "input_shape = X_train_scaled.shape[1]\n",
        "\n",
        "# Create the input layer\n",
        "input_layer = Input(shape=(input_shape))\n",
        "\n",
        "# Create at least two shared layers\n",
        "shared_layer_1 = Dense(128, activation='relu')(input_layer)\n",
        "shared_layer_2 = Dense(64, activation='relu')(shared_layer_1)"
      ]
    },
    {
      "cell_type": "code",
      "execution_count": 28,
      "metadata": {
        "id": "JukjTm2yTEqd"
      },
      "outputs": [],
      "source": [
        "# Create a branch for Department\n",
        "# with a hidden layer and an output layer\n",
        "\n",
        "# Choosing softmax\n",
        "\n",
        "# Create the hidden layer\n",
        "department_hidden = Dense(32, activation='relu')(shared_layer_2)\n",
        "\n",
        "# Create the output layer\n",
        "department_output = Dense(3, activation='softmax', name='department_output')(department_hidden)"
      ]
    },
    {
      "cell_type": "code",
      "execution_count": 29,
      "metadata": {
        "id": "9OqhUiOJUBkR"
      },
      "outputs": [],
      "source": [
        "# Create a branch for Attrition\n",
        "# with a hidden layer and an output layer\n",
        "\n",
        "# Choosing sigmoid\n",
        "\n",
        "# Create the hidden layer\n",
        "attrition_hidden = Dense(32, activation='relu')(shared_layer_2)\n",
        "\n",
        "# Create the output layer\n",
        "attrition_output = Dense(2, activation='sigmoid', name='attrition_output')(attrition_hidden)"
      ]
    },
    {
      "cell_type": "code",
      "execution_count": 30,
      "metadata": {
        "colab": {
          "base_uri": "https://localhost:8080/"
        },
        "id": "twmuejdxGc3T",
        "outputId": "ebcb7544-b5fd-4226-c06d-2ccd3feb3229"
      },
      "outputs": [
        {
          "output_type": "stream",
          "name": "stdout",
          "text": [
            "Model: \"model\"\n",
            "__________________________________________________________________________________________________\n",
            " Layer (type)                Output Shape                 Param #   Connected to                  \n",
            "==================================================================================================\n",
            " input_1 (InputLayer)        [(None, 14)]                 0         []                            \n",
            "                                                                                                  \n",
            " dense (Dense)               (None, 128)                  1920      ['input_1[0][0]']             \n",
            "                                                                                                  \n",
            " dense_1 (Dense)             (None, 64)                   8256      ['dense[0][0]']               \n",
            "                                                                                                  \n",
            " dense_2 (Dense)             (None, 32)                   2080      ['dense_1[0][0]']             \n",
            "                                                                                                  \n",
            " dense_3 (Dense)             (None, 32)                   2080      ['dense_1[0][0]']             \n",
            "                                                                                                  \n",
            " department_output (Dense)   (None, 3)                    99        ['dense_2[0][0]']             \n",
            "                                                                                                  \n",
            " attrition_output (Dense)    (None, 2)                    66        ['dense_3[0][0]']             \n",
            "                                                                                                  \n",
            "==================================================================================================\n",
            "Total params: 14501 (56.64 KB)\n",
            "Trainable params: 14501 (56.64 KB)\n",
            "Non-trainable params: 0 (0.00 Byte)\n",
            "__________________________________________________________________________________________________\n"
          ]
        }
      ],
      "source": [
        "# Create the model\n",
        "model = Model(inputs=input_layer, outputs=[department_output, attrition_output], name='model')\n",
        "\n",
        "# Compile the model\n",
        "\n",
        "model.compile(\n",
        "    optimizer='adam',\n",
        "    loss={\n",
        "        'department_output': 'categorical_crossentropy',\n",
        "        'attrition_output': 'categorical_crossentropy'\n",
        "    },\n",
        "    metrics={\n",
        "        'department_output': 'accuracy',\n",
        "        'attrition_output': 'accuracy'\n",
        "    }\n",
        ")\n",
        "# Summarize the model\n",
        "model.summary()"
      ]
    },
    {
      "cell_type": "code",
      "execution_count": 31,
      "metadata": {
        "colab": {
          "base_uri": "https://localhost:8080/"
        },
        "id": "c8oGy0dpGc3U",
        "outputId": "cb761e8c-9235-4b3a-a116-1c8109041c10"
      },
      "outputs": [
        {
          "output_type": "stream",
          "name": "stdout",
          "text": [
            "Epoch 1/100\n",
            "37/37 [==============================] - 5s 54ms/step - loss: 1.4010 - department_output_loss: 0.9157 - attrition_output_loss: 0.4853 - department_output_accuracy: 0.5587 - attrition_output_accuracy: 0.8146 - val_loss: 1.1475 - val_department_output_loss: 0.7665 - val_attrition_output_loss: 0.3810 - val_department_output_accuracy: 0.6667 - val_attrition_output_accuracy: 0.8673\n",
            "Epoch 2/100\n",
            "37/37 [==============================] - 1s 19ms/step - loss: 1.1938 - department_output_loss: 0.7774 - attrition_output_loss: 0.4164 - department_output_accuracy: 0.6505 - attrition_output_accuracy: 0.8342 - val_loss: 1.1423 - val_department_output_loss: 0.7696 - val_attrition_output_loss: 0.3727 - val_department_output_accuracy: 0.6633 - val_attrition_output_accuracy: 0.8673\n",
            "Epoch 3/100\n",
            "37/37 [==============================] - 1s 17ms/step - loss: 1.1598 - department_output_loss: 0.7649 - attrition_output_loss: 0.3949 - department_output_accuracy: 0.6539 - attrition_output_accuracy: 0.8418 - val_loss: 1.1514 - val_department_output_loss: 0.7740 - val_attrition_output_loss: 0.3774 - val_department_output_accuracy: 0.6565 - val_attrition_output_accuracy: 0.8571\n",
            "Epoch 4/100\n",
            "37/37 [==============================] - 0s 13ms/step - loss: 1.1414 - department_output_loss: 0.7594 - attrition_output_loss: 0.3820 - department_output_accuracy: 0.6539 - attrition_output_accuracy: 0.8478 - val_loss: 1.1502 - val_department_output_loss: 0.7813 - val_attrition_output_loss: 0.3688 - val_department_output_accuracy: 0.6599 - val_attrition_output_accuracy: 0.8605\n",
            "Epoch 5/100\n",
            "37/37 [==============================] - 0s 10ms/step - loss: 1.1233 - department_output_loss: 0.7487 - attrition_output_loss: 0.3746 - department_output_accuracy: 0.6539 - attrition_output_accuracy: 0.8452 - val_loss: 1.1650 - val_department_output_loss: 0.7851 - val_attrition_output_loss: 0.3799 - val_department_output_accuracy: 0.6531 - val_attrition_output_accuracy: 0.8605\n",
            "Epoch 6/100\n",
            "37/37 [==============================] - 0s 9ms/step - loss: 1.1088 - department_output_loss: 0.7387 - attrition_output_loss: 0.3701 - department_output_accuracy: 0.6573 - attrition_output_accuracy: 0.8452 - val_loss: 1.1665 - val_department_output_loss: 0.7817 - val_attrition_output_loss: 0.3849 - val_department_output_accuracy: 0.6633 - val_attrition_output_accuracy: 0.8571\n",
            "Epoch 7/100\n",
            "37/37 [==============================] - 0s 11ms/step - loss: 1.0971 - department_output_loss: 0.7331 - attrition_output_loss: 0.3639 - department_output_accuracy: 0.6573 - attrition_output_accuracy: 0.8554 - val_loss: 1.1904 - val_department_output_loss: 0.7837 - val_attrition_output_loss: 0.4067 - val_department_output_accuracy: 0.6667 - val_attrition_output_accuracy: 0.8333\n",
            "Epoch 8/100\n",
            "37/37 [==============================] - 0s 13ms/step - loss: 1.0910 - department_output_loss: 0.7223 - attrition_output_loss: 0.3687 - department_output_accuracy: 0.6735 - attrition_output_accuracy: 0.8512 - val_loss: 1.1828 - val_department_output_loss: 0.7903 - val_attrition_output_loss: 0.3925 - val_department_output_accuracy: 0.6667 - val_attrition_output_accuracy: 0.8571\n",
            "Epoch 9/100\n",
            "37/37 [==============================] - 1s 14ms/step - loss: 1.0706 - department_output_loss: 0.7192 - attrition_output_loss: 0.3515 - department_output_accuracy: 0.6658 - attrition_output_accuracy: 0.8529 - val_loss: 1.2038 - val_department_output_loss: 0.7949 - val_attrition_output_loss: 0.4089 - val_department_output_accuracy: 0.6463 - val_attrition_output_accuracy: 0.8469\n",
            "Epoch 10/100\n",
            "37/37 [==============================] - 0s 12ms/step - loss: 1.0576 - department_output_loss: 0.7103 - attrition_output_loss: 0.3473 - department_output_accuracy: 0.6718 - attrition_output_accuracy: 0.8580 - val_loss: 1.2058 - val_department_output_loss: 0.7995 - val_attrition_output_loss: 0.4063 - val_department_output_accuracy: 0.6497 - val_attrition_output_accuracy: 0.8537\n",
            "Epoch 11/100\n",
            "37/37 [==============================] - 0s 12ms/step - loss: 1.0484 - department_output_loss: 0.7032 - attrition_output_loss: 0.3452 - department_output_accuracy: 0.6786 - attrition_output_accuracy: 0.8580 - val_loss: 1.2220 - val_department_output_loss: 0.8001 - val_attrition_output_loss: 0.4219 - val_department_output_accuracy: 0.6531 - val_attrition_output_accuracy: 0.8469\n",
            "Epoch 12/100\n",
            "37/37 [==============================] - 0s 12ms/step - loss: 1.0303 - department_output_loss: 0.6947 - attrition_output_loss: 0.3355 - department_output_accuracy: 0.6862 - attrition_output_accuracy: 0.8597 - val_loss: 1.2283 - val_department_output_loss: 0.8091 - val_attrition_output_loss: 0.4192 - val_department_output_accuracy: 0.6463 - val_attrition_output_accuracy: 0.8503\n",
            "Epoch 13/100\n",
            "37/37 [==============================] - 0s 11ms/step - loss: 1.0236 - department_output_loss: 0.6902 - attrition_output_loss: 0.3334 - department_output_accuracy: 0.6845 - attrition_output_accuracy: 0.8546 - val_loss: 1.2279 - val_department_output_loss: 0.8148 - val_attrition_output_loss: 0.4131 - val_department_output_accuracy: 0.6429 - val_attrition_output_accuracy: 0.8605\n",
            "Epoch 14/100\n",
            "37/37 [==============================] - 1s 19ms/step - loss: 1.0086 - department_output_loss: 0.6828 - attrition_output_loss: 0.3258 - department_output_accuracy: 0.6947 - attrition_output_accuracy: 0.8665 - val_loss: 1.2348 - val_department_output_loss: 0.8199 - val_attrition_output_loss: 0.4149 - val_department_output_accuracy: 0.6497 - val_attrition_output_accuracy: 0.8605\n",
            "Epoch 15/100\n",
            "37/37 [==============================] - 1s 14ms/step - loss: 0.9933 - department_output_loss: 0.6723 - attrition_output_loss: 0.3210 - department_output_accuracy: 0.6973 - attrition_output_accuracy: 0.8665 - val_loss: 1.2548 - val_department_output_loss: 0.8285 - val_attrition_output_loss: 0.4263 - val_department_output_accuracy: 0.6633 - val_attrition_output_accuracy: 0.8571\n",
            "Epoch 16/100\n",
            "37/37 [==============================] - 0s 13ms/step - loss: 0.9870 - department_output_loss: 0.6680 - attrition_output_loss: 0.3189 - department_output_accuracy: 0.6939 - attrition_output_accuracy: 0.8699 - val_loss: 1.2552 - val_department_output_loss: 0.8283 - val_attrition_output_loss: 0.4269 - val_department_output_accuracy: 0.6463 - val_attrition_output_accuracy: 0.8537\n",
            "Epoch 17/100\n",
            "37/37 [==============================] - 0s 10ms/step - loss: 0.9644 - department_output_loss: 0.6514 - attrition_output_loss: 0.3130 - department_output_accuracy: 0.7100 - attrition_output_accuracy: 0.8665 - val_loss: 1.2672 - val_department_output_loss: 0.8297 - val_attrition_output_loss: 0.4376 - val_department_output_accuracy: 0.6293 - val_attrition_output_accuracy: 0.8571\n",
            "Epoch 18/100\n",
            "37/37 [==============================] - 1s 14ms/step - loss: 0.9554 - department_output_loss: 0.6387 - attrition_output_loss: 0.3167 - department_output_accuracy: 0.7134 - attrition_output_accuracy: 0.8690 - val_loss: 1.2960 - val_department_output_loss: 0.8466 - val_attrition_output_loss: 0.4494 - val_department_output_accuracy: 0.6122 - val_attrition_output_accuracy: 0.8435\n",
            "Epoch 19/100\n",
            "37/37 [==============================] - 1s 14ms/step - loss: 0.9351 - department_output_loss: 0.6361 - attrition_output_loss: 0.2990 - department_output_accuracy: 0.7151 - attrition_output_accuracy: 0.8741 - val_loss: 1.3322 - val_department_output_loss: 0.8392 - val_attrition_output_loss: 0.4931 - val_department_output_accuracy: 0.6395 - val_attrition_output_accuracy: 0.8095\n",
            "Epoch 20/100\n",
            "37/37 [==============================] - 0s 10ms/step - loss: 0.9255 - department_output_loss: 0.6190 - attrition_output_loss: 0.3065 - department_output_accuracy: 0.7211 - attrition_output_accuracy: 0.8656 - val_loss: 1.3262 - val_department_output_loss: 0.8677 - val_attrition_output_loss: 0.4586 - val_department_output_accuracy: 0.6156 - val_attrition_output_accuracy: 0.8401\n",
            "Epoch 21/100\n",
            "37/37 [==============================] - 0s 11ms/step - loss: 0.9024 - department_output_loss: 0.6152 - attrition_output_loss: 0.2873 - department_output_accuracy: 0.7151 - attrition_output_accuracy: 0.8818 - val_loss: 1.3577 - val_department_output_loss: 0.8638 - val_attrition_output_loss: 0.4938 - val_department_output_accuracy: 0.6327 - val_attrition_output_accuracy: 0.8435\n",
            "Epoch 22/100\n",
            "37/37 [==============================] - 0s 11ms/step - loss: 0.8978 - department_output_loss: 0.6063 - attrition_output_loss: 0.2915 - department_output_accuracy: 0.7347 - attrition_output_accuracy: 0.8690 - val_loss: 1.3607 - val_department_output_loss: 0.8792 - val_attrition_output_loss: 0.4815 - val_department_output_accuracy: 0.6361 - val_attrition_output_accuracy: 0.8435\n",
            "Epoch 23/100\n",
            "37/37 [==============================] - 0s 10ms/step - loss: 0.8716 - department_output_loss: 0.5902 - attrition_output_loss: 0.2813 - department_output_accuracy: 0.7381 - attrition_output_accuracy: 0.8793 - val_loss: 1.3902 - val_department_output_loss: 0.9019 - val_attrition_output_loss: 0.4883 - val_department_output_accuracy: 0.6088 - val_attrition_output_accuracy: 0.8299\n",
            "Epoch 24/100\n",
            "37/37 [==============================] - 0s 10ms/step - loss: 0.8583 - department_output_loss: 0.5854 - attrition_output_loss: 0.2729 - department_output_accuracy: 0.7517 - attrition_output_accuracy: 0.8895 - val_loss: 1.3619 - val_department_output_loss: 0.8760 - val_attrition_output_loss: 0.4859 - val_department_output_accuracy: 0.6259 - val_attrition_output_accuracy: 0.8435\n",
            "Epoch 25/100\n",
            "37/37 [==============================] - 0s 8ms/step - loss: 0.8401 - department_output_loss: 0.5736 - attrition_output_loss: 0.2665 - department_output_accuracy: 0.7491 - attrition_output_accuracy: 0.8869 - val_loss: 1.3780 - val_department_output_loss: 0.8915 - val_attrition_output_loss: 0.4865 - val_department_output_accuracy: 0.6054 - val_attrition_output_accuracy: 0.8435\n",
            "Epoch 26/100\n",
            "37/37 [==============================] - 0s 11ms/step - loss: 0.8251 - department_output_loss: 0.5631 - attrition_output_loss: 0.2619 - department_output_accuracy: 0.7619 - attrition_output_accuracy: 0.8912 - val_loss: 1.4171 - val_department_output_loss: 0.8865 - val_attrition_output_loss: 0.5307 - val_department_output_accuracy: 0.6293 - val_attrition_output_accuracy: 0.8299\n",
            "Epoch 27/100\n",
            "37/37 [==============================] - 1s 15ms/step - loss: 0.8124 - department_output_loss: 0.5480 - attrition_output_loss: 0.2645 - department_output_accuracy: 0.7628 - attrition_output_accuracy: 0.8912 - val_loss: 1.4226 - val_department_output_loss: 0.9183 - val_attrition_output_loss: 0.5043 - val_department_output_accuracy: 0.6122 - val_attrition_output_accuracy: 0.8469\n",
            "Epoch 28/100\n",
            "37/37 [==============================] - 1s 21ms/step - loss: 0.7918 - department_output_loss: 0.5396 - attrition_output_loss: 0.2522 - department_output_accuracy: 0.7713 - attrition_output_accuracy: 0.8929 - val_loss: 1.4196 - val_department_output_loss: 0.9072 - val_attrition_output_loss: 0.5124 - val_department_output_accuracy: 0.6122 - val_attrition_output_accuracy: 0.8367\n",
            "Epoch 29/100\n",
            "37/37 [==============================] - 1s 16ms/step - loss: 0.7765 - department_output_loss: 0.5311 - attrition_output_loss: 0.2455 - department_output_accuracy: 0.7755 - attrition_output_accuracy: 0.8946 - val_loss: 1.4475 - val_department_output_loss: 0.9314 - val_attrition_output_loss: 0.5161 - val_department_output_accuracy: 0.6054 - val_attrition_output_accuracy: 0.8469\n",
            "Epoch 30/100\n",
            "37/37 [==============================] - 1s 14ms/step - loss: 0.7490 - department_output_loss: 0.5116 - attrition_output_loss: 0.2374 - department_output_accuracy: 0.7806 - attrition_output_accuracy: 0.8988 - val_loss: 1.4913 - val_department_output_loss: 0.9397 - val_attrition_output_loss: 0.5515 - val_department_output_accuracy: 0.6122 - val_attrition_output_accuracy: 0.8231\n",
            "Epoch 31/100\n",
            "37/37 [==============================] - 0s 13ms/step - loss: 0.7466 - department_output_loss: 0.5116 - attrition_output_loss: 0.2350 - department_output_accuracy: 0.7840 - attrition_output_accuracy: 0.9073 - val_loss: 1.4923 - val_department_output_loss: 0.9436 - val_attrition_output_loss: 0.5487 - val_department_output_accuracy: 0.6122 - val_attrition_output_accuracy: 0.8367\n",
            "Epoch 32/100\n",
            "37/37 [==============================] - 1s 16ms/step - loss: 0.7306 - department_output_loss: 0.4967 - attrition_output_loss: 0.2339 - department_output_accuracy: 0.7908 - attrition_output_accuracy: 0.8971 - val_loss: 1.4899 - val_department_output_loss: 0.9547 - val_attrition_output_loss: 0.5352 - val_department_output_accuracy: 0.6190 - val_attrition_output_accuracy: 0.8503\n",
            "Epoch 33/100\n",
            "37/37 [==============================] - 0s 7ms/step - loss: 0.7158 - department_output_loss: 0.4907 - attrition_output_loss: 0.2251 - department_output_accuracy: 0.7764 - attrition_output_accuracy: 0.9073 - val_loss: 1.5686 - val_department_output_loss: 0.9928 - val_attrition_output_loss: 0.5757 - val_department_output_accuracy: 0.5782 - val_attrition_output_accuracy: 0.8401\n",
            "Epoch 34/100\n",
            "37/37 [==============================] - 0s 9ms/step - loss: 0.7031 - department_output_loss: 0.4772 - attrition_output_loss: 0.2260 - department_output_accuracy: 0.7985 - attrition_output_accuracy: 0.9056 - val_loss: 1.5389 - val_department_output_loss: 0.9716 - val_attrition_output_loss: 0.5673 - val_department_output_accuracy: 0.6327 - val_attrition_output_accuracy: 0.8469\n",
            "Epoch 35/100\n",
            "37/37 [==============================] - 0s 8ms/step - loss: 0.6823 - department_output_loss: 0.4681 - attrition_output_loss: 0.2142 - department_output_accuracy: 0.8044 - attrition_output_accuracy: 0.9099 - val_loss: 1.6458 - val_department_output_loss: 1.0078 - val_attrition_output_loss: 0.6380 - val_department_output_accuracy: 0.5918 - val_attrition_output_accuracy: 0.8027\n",
            "Epoch 36/100\n",
            "37/37 [==============================] - 0s 5ms/step - loss: 0.6776 - department_output_loss: 0.4599 - attrition_output_loss: 0.2177 - department_output_accuracy: 0.8172 - attrition_output_accuracy: 0.9107 - val_loss: 1.5990 - val_department_output_loss: 1.0020 - val_attrition_output_loss: 0.5971 - val_department_output_accuracy: 0.5986 - val_attrition_output_accuracy: 0.8197\n",
            "Epoch 37/100\n",
            "37/37 [==============================] - 0s 7ms/step - loss: 0.6629 - department_output_loss: 0.4529 - attrition_output_loss: 0.2099 - department_output_accuracy: 0.8265 - attrition_output_accuracy: 0.9158 - val_loss: 1.6805 - val_department_output_loss: 1.0630 - val_attrition_output_loss: 0.6175 - val_department_output_accuracy: 0.5782 - val_attrition_output_accuracy: 0.8367\n",
            "Epoch 38/100\n",
            "37/37 [==============================] - 0s 7ms/step - loss: 0.6463 - department_output_loss: 0.4499 - attrition_output_loss: 0.1965 - department_output_accuracy: 0.8112 - attrition_output_accuracy: 0.9235 - val_loss: 1.7078 - val_department_output_loss: 1.0491 - val_attrition_output_loss: 0.6587 - val_department_output_accuracy: 0.5884 - val_attrition_output_accuracy: 0.8163\n",
            "Epoch 39/100\n",
            "37/37 [==============================] - 0s 7ms/step - loss: 0.6344 - department_output_loss: 0.4366 - attrition_output_loss: 0.1977 - department_output_accuracy: 0.8180 - attrition_output_accuracy: 0.9192 - val_loss: 1.6642 - val_department_output_loss: 1.0265 - val_attrition_output_loss: 0.6377 - val_department_output_accuracy: 0.6122 - val_attrition_output_accuracy: 0.8299\n",
            "Epoch 40/100\n",
            "37/37 [==============================] - 0s 5ms/step - loss: 0.6175 - department_output_loss: 0.4231 - attrition_output_loss: 0.1945 - department_output_accuracy: 0.8359 - attrition_output_accuracy: 0.9201 - val_loss: 1.7464 - val_department_output_loss: 1.0987 - val_attrition_output_loss: 0.6477 - val_department_output_accuracy: 0.5884 - val_attrition_output_accuracy: 0.8265\n",
            "Epoch 41/100\n",
            "37/37 [==============================] - 0s 6ms/step - loss: 0.6245 - department_output_loss: 0.4314 - attrition_output_loss: 0.1931 - department_output_accuracy: 0.8333 - attrition_output_accuracy: 0.9184 - val_loss: 1.7493 - val_department_output_loss: 1.0995 - val_attrition_output_loss: 0.6498 - val_department_output_accuracy: 0.6224 - val_attrition_output_accuracy: 0.8401\n",
            "Epoch 42/100\n",
            "37/37 [==============================] - 0s 5ms/step - loss: 0.6121 - department_output_loss: 0.4254 - attrition_output_loss: 0.1867 - department_output_accuracy: 0.8206 - attrition_output_accuracy: 0.9209 - val_loss: 1.7724 - val_department_output_loss: 1.1237 - val_attrition_output_loss: 0.6488 - val_department_output_accuracy: 0.6088 - val_attrition_output_accuracy: 0.8435\n",
            "Epoch 43/100\n",
            "37/37 [==============================] - 0s 5ms/step - loss: 0.5891 - department_output_loss: 0.4033 - attrition_output_loss: 0.1858 - department_output_accuracy: 0.8376 - attrition_output_accuracy: 0.9311 - val_loss: 1.8000 - val_department_output_loss: 1.1259 - val_attrition_output_loss: 0.6740 - val_department_output_accuracy: 0.5850 - val_attrition_output_accuracy: 0.8435\n",
            "Epoch 44/100\n",
            "37/37 [==============================] - 0s 6ms/step - loss: 0.5695 - department_output_loss: 0.3896 - attrition_output_loss: 0.1799 - department_output_accuracy: 0.8571 - attrition_output_accuracy: 0.9303 - val_loss: 1.8524 - val_department_output_loss: 1.1369 - val_attrition_output_loss: 0.7154 - val_department_output_accuracy: 0.5850 - val_attrition_output_accuracy: 0.8027\n",
            "Epoch 45/100\n",
            "37/37 [==============================] - 0s 6ms/step - loss: 0.5603 - department_output_loss: 0.3857 - attrition_output_loss: 0.1745 - department_output_accuracy: 0.8452 - attrition_output_accuracy: 0.9345 - val_loss: 1.8860 - val_department_output_loss: 1.1585 - val_attrition_output_loss: 0.7275 - val_department_output_accuracy: 0.5748 - val_attrition_output_accuracy: 0.8027\n",
            "Epoch 46/100\n",
            "37/37 [==============================] - 0s 9ms/step - loss: 0.5452 - department_output_loss: 0.3792 - attrition_output_loss: 0.1660 - department_output_accuracy: 0.8503 - attrition_output_accuracy: 0.9337 - val_loss: 1.8865 - val_department_output_loss: 1.1791 - val_attrition_output_loss: 0.7074 - val_department_output_accuracy: 0.5782 - val_attrition_output_accuracy: 0.8265\n",
            "Epoch 47/100\n",
            "37/37 [==============================] - 0s 6ms/step - loss: 0.5281 - department_output_loss: 0.3669 - attrition_output_loss: 0.1613 - department_output_accuracy: 0.8537 - attrition_output_accuracy: 0.9405 - val_loss: 1.9072 - val_department_output_loss: 1.1762 - val_attrition_output_loss: 0.7310 - val_department_output_accuracy: 0.5918 - val_attrition_output_accuracy: 0.8197\n",
            "Epoch 48/100\n",
            "37/37 [==============================] - 0s 11ms/step - loss: 0.5155 - department_output_loss: 0.3619 - attrition_output_loss: 0.1536 - department_output_accuracy: 0.8656 - attrition_output_accuracy: 0.9422 - val_loss: 1.9367 - val_department_output_loss: 1.2030 - val_attrition_output_loss: 0.7337 - val_department_output_accuracy: 0.6020 - val_attrition_output_accuracy: 0.8265\n",
            "Epoch 49/100\n",
            "37/37 [==============================] - 0s 6ms/step - loss: 0.5141 - department_output_loss: 0.3600 - attrition_output_loss: 0.1540 - department_output_accuracy: 0.8537 - attrition_output_accuracy: 0.9413 - val_loss: 1.9826 - val_department_output_loss: 1.2063 - val_attrition_output_loss: 0.7763 - val_department_output_accuracy: 0.5782 - val_attrition_output_accuracy: 0.8027\n",
            "Epoch 50/100\n",
            "37/37 [==============================] - 0s 8ms/step - loss: 0.5098 - department_output_loss: 0.3505 - attrition_output_loss: 0.1593 - department_output_accuracy: 0.8563 - attrition_output_accuracy: 0.9320 - val_loss: 2.0062 - val_department_output_loss: 1.2259 - val_attrition_output_loss: 0.7803 - val_department_output_accuracy: 0.5918 - val_attrition_output_accuracy: 0.7857\n",
            "Epoch 51/100\n",
            "37/37 [==============================] - 0s 6ms/step - loss: 0.4937 - department_output_loss: 0.3416 - attrition_output_loss: 0.1521 - department_output_accuracy: 0.8631 - attrition_output_accuracy: 0.9430 - val_loss: 1.9912 - val_department_output_loss: 1.2440 - val_attrition_output_loss: 0.7472 - val_department_output_accuracy: 0.5646 - val_attrition_output_accuracy: 0.8367\n",
            "Epoch 52/100\n",
            "37/37 [==============================] - 0s 7ms/step - loss: 0.4666 - department_output_loss: 0.3233 - attrition_output_loss: 0.1433 - department_output_accuracy: 0.8827 - attrition_output_accuracy: 0.9447 - val_loss: 2.0466 - val_department_output_loss: 1.2697 - val_attrition_output_loss: 0.7769 - val_department_output_accuracy: 0.5850 - val_attrition_output_accuracy: 0.8333\n",
            "Epoch 53/100\n",
            "37/37 [==============================] - 0s 5ms/step - loss: 0.4642 - department_output_loss: 0.3282 - attrition_output_loss: 0.1360 - department_output_accuracy: 0.8733 - attrition_output_accuracy: 0.9464 - val_loss: 2.0237 - val_department_output_loss: 1.2598 - val_attrition_output_loss: 0.7639 - val_department_output_accuracy: 0.5714 - val_attrition_output_accuracy: 0.8401\n",
            "Epoch 54/100\n",
            "37/37 [==============================] - 0s 6ms/step - loss: 0.4618 - department_output_loss: 0.3211 - attrition_output_loss: 0.1407 - department_output_accuracy: 0.8878 - attrition_output_accuracy: 0.9430 - val_loss: 2.1783 - val_department_output_loss: 1.3003 - val_attrition_output_loss: 0.8780 - val_department_output_accuracy: 0.5952 - val_attrition_output_accuracy: 0.8163\n",
            "Epoch 55/100\n",
            "37/37 [==============================] - 0s 6ms/step - loss: 0.4568 - department_output_loss: 0.3093 - attrition_output_loss: 0.1475 - department_output_accuracy: 0.8844 - attrition_output_accuracy: 0.9430 - val_loss: 2.1864 - val_department_output_loss: 1.2981 - val_attrition_output_loss: 0.8883 - val_department_output_accuracy: 0.5986 - val_attrition_output_accuracy: 0.7959\n",
            "Epoch 56/100\n",
            "37/37 [==============================] - 0s 5ms/step - loss: 0.4361 - department_output_loss: 0.3065 - attrition_output_loss: 0.1297 - department_output_accuracy: 0.8827 - attrition_output_accuracy: 0.9498 - val_loss: 2.2501 - val_department_output_loss: 1.3485 - val_attrition_output_loss: 0.9017 - val_department_output_accuracy: 0.5748 - val_attrition_output_accuracy: 0.7857\n",
            "Epoch 57/100\n",
            "37/37 [==============================] - 0s 6ms/step - loss: 0.4253 - department_output_loss: 0.2974 - attrition_output_loss: 0.1279 - department_output_accuracy: 0.8895 - attrition_output_accuracy: 0.9575 - val_loss: 2.2416 - val_department_output_loss: 1.3488 - val_attrition_output_loss: 0.8928 - val_department_output_accuracy: 0.5748 - val_attrition_output_accuracy: 0.8333\n",
            "Epoch 58/100\n",
            "37/37 [==============================] - 0s 6ms/step - loss: 0.4139 - department_output_loss: 0.2844 - attrition_output_loss: 0.1294 - department_output_accuracy: 0.8963 - attrition_output_accuracy: 0.9498 - val_loss: 2.2765 - val_department_output_loss: 1.4002 - val_attrition_output_loss: 0.8762 - val_department_output_accuracy: 0.5748 - val_attrition_output_accuracy: 0.8265\n",
            "Epoch 59/100\n",
            "37/37 [==============================] - 0s 6ms/step - loss: 0.4221 - department_output_loss: 0.2987 - attrition_output_loss: 0.1234 - department_output_accuracy: 0.8835 - attrition_output_accuracy: 0.9532 - val_loss: 2.2495 - val_department_output_loss: 1.3756 - val_attrition_output_loss: 0.8740 - val_department_output_accuracy: 0.5646 - val_attrition_output_accuracy: 0.8197\n",
            "Epoch 60/100\n",
            "37/37 [==============================] - 0s 5ms/step - loss: 0.3970 - department_output_loss: 0.2806 - attrition_output_loss: 0.1165 - department_output_accuracy: 0.8954 - attrition_output_accuracy: 0.9600 - val_loss: 2.2944 - val_department_output_loss: 1.4107 - val_attrition_output_loss: 0.8837 - val_department_output_accuracy: 0.5748 - val_attrition_output_accuracy: 0.8197\n",
            "Epoch 61/100\n",
            "37/37 [==============================] - 0s 5ms/step - loss: 0.3897 - department_output_loss: 0.2723 - attrition_output_loss: 0.1175 - department_output_accuracy: 0.9005 - attrition_output_accuracy: 0.9498 - val_loss: 2.3484 - val_department_output_loss: 1.4351 - val_attrition_output_loss: 0.9133 - val_department_output_accuracy: 0.5884 - val_attrition_output_accuracy: 0.8027\n",
            "Epoch 62/100\n",
            "37/37 [==============================] - 0s 5ms/step - loss: 0.3961 - department_output_loss: 0.2703 - attrition_output_loss: 0.1257 - department_output_accuracy: 0.9056 - attrition_output_accuracy: 0.9447 - val_loss: 2.3621 - val_department_output_loss: 1.4381 - val_attrition_output_loss: 0.9240 - val_department_output_accuracy: 0.5748 - val_attrition_output_accuracy: 0.8367\n",
            "Epoch 63/100\n",
            "37/37 [==============================] - 0s 6ms/step - loss: 0.3740 - department_output_loss: 0.2610 - attrition_output_loss: 0.1130 - department_output_accuracy: 0.9039 - attrition_output_accuracy: 0.9549 - val_loss: 2.4064 - val_department_output_loss: 1.4863 - val_attrition_output_loss: 0.9201 - val_department_output_accuracy: 0.5646 - val_attrition_output_accuracy: 0.8095\n",
            "Epoch 64/100\n",
            "37/37 [==============================] - 0s 8ms/step - loss: 0.3725 - department_output_loss: 0.2630 - attrition_output_loss: 0.1095 - department_output_accuracy: 0.9039 - attrition_output_accuracy: 0.9609 - val_loss: 2.4514 - val_department_output_loss: 1.4657 - val_attrition_output_loss: 0.9857 - val_department_output_accuracy: 0.5816 - val_attrition_output_accuracy: 0.8231\n",
            "Epoch 65/100\n",
            "37/37 [==============================] - 0s 10ms/step - loss: 0.3657 - department_output_loss: 0.2532 - attrition_output_loss: 0.1125 - department_output_accuracy: 0.9090 - attrition_output_accuracy: 0.9541 - val_loss: 2.5005 - val_department_output_loss: 1.4882 - val_attrition_output_loss: 1.0123 - val_department_output_accuracy: 0.5646 - val_attrition_output_accuracy: 0.7789\n",
            "Epoch 66/100\n",
            "37/37 [==============================] - 0s 12ms/step - loss: 0.3566 - department_output_loss: 0.2489 - attrition_output_loss: 0.1077 - department_output_accuracy: 0.9124 - attrition_output_accuracy: 0.9626 - val_loss: 2.5656 - val_department_output_loss: 1.6136 - val_attrition_output_loss: 0.9520 - val_department_output_accuracy: 0.5850 - val_attrition_output_accuracy: 0.8469\n",
            "Epoch 67/100\n",
            "37/37 [==============================] - 0s 11ms/step - loss: 0.3449 - department_output_loss: 0.2452 - attrition_output_loss: 0.0997 - department_output_accuracy: 0.9099 - attrition_output_accuracy: 0.9668 - val_loss: 2.5727 - val_department_output_loss: 1.5619 - val_attrition_output_loss: 1.0108 - val_department_output_accuracy: 0.5816 - val_attrition_output_accuracy: 0.8061\n",
            "Epoch 68/100\n",
            "37/37 [==============================] - 0s 9ms/step - loss: 0.3519 - department_output_loss: 0.2400 - attrition_output_loss: 0.1119 - department_output_accuracy: 0.9133 - attrition_output_accuracy: 0.9583 - val_loss: 2.5817 - val_department_output_loss: 1.5445 - val_attrition_output_loss: 1.0373 - val_department_output_accuracy: 0.5884 - val_attrition_output_accuracy: 0.8265\n",
            "Epoch 69/100\n",
            "37/37 [==============================] - 0s 7ms/step - loss: 0.3345 - department_output_loss: 0.2402 - attrition_output_loss: 0.0944 - department_output_accuracy: 0.9226 - attrition_output_accuracy: 0.9643 - val_loss: 2.6500 - val_department_output_loss: 1.6351 - val_attrition_output_loss: 1.0149 - val_department_output_accuracy: 0.5544 - val_attrition_output_accuracy: 0.8231\n",
            "Epoch 70/100\n",
            "37/37 [==============================] - 0s 6ms/step - loss: 0.3258 - department_output_loss: 0.2309 - attrition_output_loss: 0.0950 - department_output_accuracy: 0.9235 - attrition_output_accuracy: 0.9668 - val_loss: 2.7325 - val_department_output_loss: 1.6612 - val_attrition_output_loss: 1.0713 - val_department_output_accuracy: 0.5442 - val_attrition_output_accuracy: 0.7959\n",
            "Epoch 71/100\n",
            "37/37 [==============================] - 0s 10ms/step - loss: 0.3309 - department_output_loss: 0.2246 - attrition_output_loss: 0.1063 - department_output_accuracy: 0.9218 - attrition_output_accuracy: 0.9600 - val_loss: 2.6251 - val_department_output_loss: 1.5502 - val_attrition_output_loss: 1.0749 - val_department_output_accuracy: 0.5952 - val_attrition_output_accuracy: 0.7653\n",
            "Epoch 72/100\n",
            "37/37 [==============================] - 0s 8ms/step - loss: 0.3244 - department_output_loss: 0.2214 - attrition_output_loss: 0.1030 - department_output_accuracy: 0.9158 - attrition_output_accuracy: 0.9600 - val_loss: 2.6253 - val_department_output_loss: 1.6176 - val_attrition_output_loss: 1.0077 - val_department_output_accuracy: 0.5782 - val_attrition_output_accuracy: 0.8027\n",
            "Epoch 73/100\n",
            "37/37 [==============================] - 0s 9ms/step - loss: 0.3156 - department_output_loss: 0.2199 - attrition_output_loss: 0.0958 - department_output_accuracy: 0.9243 - attrition_output_accuracy: 0.9660 - val_loss: 2.6733 - val_department_output_loss: 1.6364 - val_attrition_output_loss: 1.0368 - val_department_output_accuracy: 0.5714 - val_attrition_output_accuracy: 0.8265\n",
            "Epoch 74/100\n",
            "37/37 [==============================] - 0s 7ms/step - loss: 0.3013 - department_output_loss: 0.2181 - attrition_output_loss: 0.0832 - department_output_accuracy: 0.9192 - attrition_output_accuracy: 0.9702 - val_loss: 2.7665 - val_department_output_loss: 1.6724 - val_attrition_output_loss: 1.0941 - val_department_output_accuracy: 0.5612 - val_attrition_output_accuracy: 0.7925\n",
            "Epoch 75/100\n",
            "37/37 [==============================] - 0s 13ms/step - loss: 0.2951 - department_output_loss: 0.2074 - attrition_output_loss: 0.0876 - department_output_accuracy: 0.9303 - attrition_output_accuracy: 0.9651 - val_loss: 2.7989 - val_department_output_loss: 1.7028 - val_attrition_output_loss: 1.0962 - val_department_output_accuracy: 0.5680 - val_attrition_output_accuracy: 0.7925\n",
            "Epoch 76/100\n",
            "37/37 [==============================] - 0s 11ms/step - loss: 0.2754 - department_output_loss: 0.1948 - attrition_output_loss: 0.0806 - department_output_accuracy: 0.9362 - attrition_output_accuracy: 0.9745 - val_loss: 2.9290 - val_department_output_loss: 1.7908 - val_attrition_output_loss: 1.1382 - val_department_output_accuracy: 0.5680 - val_attrition_output_accuracy: 0.8265\n",
            "Epoch 77/100\n",
            "37/37 [==============================] - 0s 9ms/step - loss: 0.2862 - department_output_loss: 0.1982 - attrition_output_loss: 0.0880 - department_output_accuracy: 0.9362 - attrition_output_accuracy: 0.9668 - val_loss: 2.9135 - val_department_output_loss: 1.7645 - val_attrition_output_loss: 1.1490 - val_department_output_accuracy: 0.5510 - val_attrition_output_accuracy: 0.8129\n",
            "Epoch 78/100\n",
            "37/37 [==============================] - 0s 13ms/step - loss: 0.2874 - department_output_loss: 0.2083 - attrition_output_loss: 0.0790 - department_output_accuracy: 0.9311 - attrition_output_accuracy: 0.9736 - val_loss: 2.9752 - val_department_output_loss: 1.7989 - val_attrition_output_loss: 1.1762 - val_department_output_accuracy: 0.5782 - val_attrition_output_accuracy: 0.8197\n",
            "Epoch 79/100\n",
            "37/37 [==============================] - 0s 9ms/step - loss: 0.2841 - department_output_loss: 0.1933 - attrition_output_loss: 0.0908 - department_output_accuracy: 0.9345 - attrition_output_accuracy: 0.9660 - val_loss: 2.9203 - val_department_output_loss: 1.7520 - val_attrition_output_loss: 1.1683 - val_department_output_accuracy: 0.5884 - val_attrition_output_accuracy: 0.7993\n",
            "Epoch 80/100\n",
            "37/37 [==============================] - 0s 6ms/step - loss: 0.2678 - department_output_loss: 0.1816 - attrition_output_loss: 0.0862 - department_output_accuracy: 0.9405 - attrition_output_accuracy: 0.9702 - val_loss: 2.9749 - val_department_output_loss: 1.8141 - val_attrition_output_loss: 1.1608 - val_department_output_accuracy: 0.5816 - val_attrition_output_accuracy: 0.7993\n",
            "Epoch 81/100\n",
            "37/37 [==============================] - 0s 6ms/step - loss: 0.2482 - department_output_loss: 0.1747 - attrition_output_loss: 0.0734 - department_output_accuracy: 0.9456 - attrition_output_accuracy: 0.9745 - val_loss: 3.0371 - val_department_output_loss: 1.8252 - val_attrition_output_loss: 1.2119 - val_department_output_accuracy: 0.5748 - val_attrition_output_accuracy: 0.8367\n",
            "Epoch 82/100\n",
            "37/37 [==============================] - 0s 8ms/step - loss: 0.2554 - department_output_loss: 0.1772 - attrition_output_loss: 0.0782 - department_output_accuracy: 0.9371 - attrition_output_accuracy: 0.9719 - val_loss: 2.9932 - val_department_output_loss: 1.8168 - val_attrition_output_loss: 1.1764 - val_department_output_accuracy: 0.5578 - val_attrition_output_accuracy: 0.8367\n",
            "Epoch 83/100\n",
            "37/37 [==============================] - 0s 6ms/step - loss: 0.2817 - department_output_loss: 0.1735 - attrition_output_loss: 0.1082 - department_output_accuracy: 0.9405 - attrition_output_accuracy: 0.9549 - val_loss: 3.1057 - val_department_output_loss: 1.8917 - val_attrition_output_loss: 1.2140 - val_department_output_accuracy: 0.5884 - val_attrition_output_accuracy: 0.8197\n",
            "Epoch 84/100\n",
            "37/37 [==============================] - 0s 5ms/step - loss: 0.2498 - department_output_loss: 0.1813 - attrition_output_loss: 0.0685 - department_output_accuracy: 0.9362 - attrition_output_accuracy: 0.9779 - val_loss: 3.0796 - val_department_output_loss: 1.8530 - val_attrition_output_loss: 1.2266 - val_department_output_accuracy: 0.5714 - val_attrition_output_accuracy: 0.8095\n",
            "Epoch 85/100\n",
            "37/37 [==============================] - 0s 6ms/step - loss: 0.2311 - department_output_loss: 0.1638 - attrition_output_loss: 0.0673 - department_output_accuracy: 0.9481 - attrition_output_accuracy: 0.9830 - val_loss: 3.1285 - val_department_output_loss: 1.8569 - val_attrition_output_loss: 1.2717 - val_department_output_accuracy: 0.5748 - val_attrition_output_accuracy: 0.7993\n",
            "Epoch 86/100\n",
            "37/37 [==============================] - 0s 10ms/step - loss: 0.2376 - department_output_loss: 0.1728 - attrition_output_loss: 0.0648 - department_output_accuracy: 0.9464 - attrition_output_accuracy: 0.9779 - val_loss: 3.1673 - val_department_output_loss: 1.8834 - val_attrition_output_loss: 1.2839 - val_department_output_accuracy: 0.5884 - val_attrition_output_accuracy: 0.8095\n",
            "Epoch 87/100\n",
            "37/37 [==============================] - 0s 5ms/step - loss: 0.2429 - department_output_loss: 0.1614 - attrition_output_loss: 0.0815 - department_output_accuracy: 0.9413 - attrition_output_accuracy: 0.9685 - val_loss: 3.1894 - val_department_output_loss: 1.9195 - val_attrition_output_loss: 1.2699 - val_department_output_accuracy: 0.5782 - val_attrition_output_accuracy: 0.8061\n",
            "Epoch 88/100\n",
            "37/37 [==============================] - 0s 9ms/step - loss: 0.2197 - department_output_loss: 0.1538 - attrition_output_loss: 0.0659 - department_output_accuracy: 0.9456 - attrition_output_accuracy: 0.9770 - val_loss: 3.2492 - val_department_output_loss: 1.9610 - val_attrition_output_loss: 1.2882 - val_department_output_accuracy: 0.5544 - val_attrition_output_accuracy: 0.8333\n",
            "Epoch 89/100\n",
            "37/37 [==============================] - 0s 8ms/step - loss: 0.2133 - department_output_loss: 0.1572 - attrition_output_loss: 0.0561 - department_output_accuracy: 0.9532 - attrition_output_accuracy: 0.9804 - val_loss: 3.2183 - val_department_output_loss: 1.9533 - val_attrition_output_loss: 1.2650 - val_department_output_accuracy: 0.5850 - val_attrition_output_accuracy: 0.8231\n",
            "Epoch 90/100\n",
            "37/37 [==============================] - 0s 6ms/step - loss: 0.2147 - department_output_loss: 0.1554 - attrition_output_loss: 0.0593 - department_output_accuracy: 0.9524 - attrition_output_accuracy: 0.9796 - val_loss: 3.3396 - val_department_output_loss: 2.0018 - val_attrition_output_loss: 1.3378 - val_department_output_accuracy: 0.5544 - val_attrition_output_accuracy: 0.7959\n",
            "Epoch 91/100\n",
            "37/37 [==============================] - 0s 6ms/step - loss: 0.2003 - department_output_loss: 0.1422 - attrition_output_loss: 0.0582 - department_output_accuracy: 0.9600 - attrition_output_accuracy: 0.9813 - val_loss: 3.3188 - val_department_output_loss: 1.9466 - val_attrition_output_loss: 1.3723 - val_department_output_accuracy: 0.6020 - val_attrition_output_accuracy: 0.8265\n",
            "Epoch 92/100\n",
            "37/37 [==============================] - 0s 8ms/step - loss: 0.1945 - department_output_loss: 0.1414 - attrition_output_loss: 0.0530 - department_output_accuracy: 0.9575 - attrition_output_accuracy: 0.9838 - val_loss: 3.3591 - val_department_output_loss: 1.9931 - val_attrition_output_loss: 1.3660 - val_department_output_accuracy: 0.5918 - val_attrition_output_accuracy: 0.8061\n",
            "Epoch 93/100\n",
            "37/37 [==============================] - 0s 5ms/step - loss: 0.1970 - department_output_loss: 0.1403 - attrition_output_loss: 0.0567 - department_output_accuracy: 0.9583 - attrition_output_accuracy: 0.9830 - val_loss: 3.4252 - val_department_output_loss: 2.0428 - val_attrition_output_loss: 1.3823 - val_department_output_accuracy: 0.5646 - val_attrition_output_accuracy: 0.8265\n",
            "Epoch 94/100\n",
            "37/37 [==============================] - 0s 8ms/step - loss: 0.2053 - department_output_loss: 0.1479 - attrition_output_loss: 0.0574 - department_output_accuracy: 0.9473 - attrition_output_accuracy: 0.9830 - val_loss: 3.4038 - val_department_output_loss: 2.0365 - val_attrition_output_loss: 1.3673 - val_department_output_accuracy: 0.5748 - val_attrition_output_accuracy: 0.7993\n",
            "Epoch 95/100\n",
            "37/37 [==============================] - 0s 6ms/step - loss: 0.2105 - department_output_loss: 0.1581 - attrition_output_loss: 0.0524 - department_output_accuracy: 0.9456 - attrition_output_accuracy: 0.9855 - val_loss: 3.4429 - val_department_output_loss: 2.0348 - val_attrition_output_loss: 1.4081 - val_department_output_accuracy: 0.5782 - val_attrition_output_accuracy: 0.8299\n",
            "Epoch 96/100\n",
            "37/37 [==============================] - 0s 7ms/step - loss: 0.1946 - department_output_loss: 0.1392 - attrition_output_loss: 0.0554 - department_output_accuracy: 0.9549 - attrition_output_accuracy: 0.9796 - val_loss: 3.5402 - val_department_output_loss: 2.1144 - val_attrition_output_loss: 1.4258 - val_department_output_accuracy: 0.5884 - val_attrition_output_accuracy: 0.8231\n",
            "Epoch 97/100\n",
            "37/37 [==============================] - 0s 6ms/step - loss: 0.1891 - department_output_loss: 0.1368 - attrition_output_loss: 0.0523 - department_output_accuracy: 0.9541 - attrition_output_accuracy: 0.9821 - val_loss: 3.5200 - val_department_output_loss: 2.0595 - val_attrition_output_loss: 1.4605 - val_department_output_accuracy: 0.6054 - val_attrition_output_accuracy: 0.7891\n",
            "Epoch 98/100\n",
            "37/37 [==============================] - 0s 5ms/step - loss: 0.1714 - department_output_loss: 0.1229 - attrition_output_loss: 0.0486 - department_output_accuracy: 0.9668 - attrition_output_accuracy: 0.9830 - val_loss: 3.6250 - val_department_output_loss: 2.1511 - val_attrition_output_loss: 1.4739 - val_department_output_accuracy: 0.5850 - val_attrition_output_accuracy: 0.7959\n",
            "Epoch 99/100\n",
            "37/37 [==============================] - 0s 5ms/step - loss: 0.1933 - department_output_loss: 0.1255 - attrition_output_loss: 0.0678 - department_output_accuracy: 0.9617 - attrition_output_accuracy: 0.9728 - val_loss: 3.5618 - val_department_output_loss: 2.1105 - val_attrition_output_loss: 1.4513 - val_department_output_accuracy: 0.5850 - val_attrition_output_accuracy: 0.7891\n",
            "Epoch 100/100\n",
            "37/37 [==============================] - 0s 7ms/step - loss: 0.1786 - department_output_loss: 0.1163 - attrition_output_loss: 0.0623 - department_output_accuracy: 0.9685 - attrition_output_accuracy: 0.9762 - val_loss: 3.6531 - val_department_output_loss: 2.2191 - val_attrition_output_loss: 1.4340 - val_department_output_accuracy: 0.5782 - val_attrition_output_accuracy: 0.8367\n"
          ]
        },
        {
          "output_type": "execute_result",
          "data": {
            "text/plain": [
              "<keras.src.callbacks.History at 0x7b62dd5e1270>"
            ]
          },
          "metadata": {},
          "execution_count": 31
        }
      ],
      "source": [
        "# Train the model\n",
        "# Including the validation_data in the fitting of this model, as it is in the 19.2 example of batching\n",
        "model.fit(\n",
        "    X_train_scaled_df,\n",
        "    y={'department_output': y_train_department_encoded, 'attrition_output': y_train_attrition_encoded},\n",
        "    validation_data=(X_test_scaled_df, {'department_output': y_test_department_encoded, 'attrition_output': y_test_attrition_encoded}),\n",
        "    epochs=100,\n",
        "    batch_size=32,\n",
        "    verbose=1\n",
        ")"
      ]
    },
    {
      "cell_type": "code",
      "execution_count": 32,
      "metadata": {
        "colab": {
          "base_uri": "https://localhost:8080/"
        },
        "id": "VsMoaQlgGc3U",
        "outputId": "6d3da715-2699-429b-8c4b-0edbbb6d1c9c"
      },
      "outputs": [
        {
          "output_type": "stream",
          "name": "stdout",
          "text": [
            "10/10 [==============================] - 0s 5ms/step - loss: 3.6531 - department_output_loss: 2.2191 - attrition_output_loss: 1.4340 - department_output_accuracy: 0.5782 - attrition_output_accuracy: 0.8367\n"
          ]
        },
        {
          "output_type": "execute_result",
          "data": {
            "text/plain": [
              "[3.653099775314331,\n",
              " 2.2191061973571777,\n",
              " 1.4339933395385742,\n",
              " 0.5782312750816345,\n",
              " 0.8367347121238708]"
            ]
          },
          "metadata": {},
          "execution_count": 32
        }
      ],
      "source": [
        "# Evaluate the model with the testing data\n",
        "# This is very similar to the example output provided in the base starter code!\n",
        "test_results = model.evaluate(X_test_scaled_df, {'department_output': y_test_department_encoded, 'attrition_output': y_test_attrition_encoded})\n",
        "test_results"
      ]
    },
    {
      "cell_type": "code",
      "execution_count": 33,
      "metadata": {
        "colab": {
          "base_uri": "https://localhost:8080/"
        },
        "id": "ZlCtlHi0Vt54",
        "outputId": "6acbf2d6-5653-4392-94c5-d2c6186426a6"
      },
      "outputs": [
        {
          "output_type": "stream",
          "name": "stdout",
          "text": [
            "Department predictions accuracy: 0.5782312750816345\n",
            "Attrition predictions accuracy: 0.8367347121238708\n"
          ]
        }
      ],
      "source": [
        "# Print the accuracy for both department and attrition\n",
        "print(f\"Department predictions accuracy: {test_results[3]}\")\n",
        "print(f\"Attrition predictions accuracy: {test_results[4]}\")\n"
      ]
    },
    {
      "cell_type": "markdown",
      "metadata": {
        "id": "eGSyfsZfWOQM"
      },
      "source": [
        "# Summary\n",
        "\n",
        "In the provided space below, briefly answer the following questions.\n",
        "\n",
        "1. Is accuracy the best metric to use on this data? Why or why not?\n",
        "\n",
        "2. What activation functions did you choose for your output layers, and why?\n",
        "\n",
        "3. Can you name a few ways that this model might be improved?"
      ]
    },
    {
      "cell_type": "markdown",
      "metadata": {
        "id": "pi9SLpFnWvbF"
      },
      "source": [
        "# Answers:\n",
        "1. Accuracy may not adequately reflect the effectiveness of this model. Looking at the data I began with for my `y_df`, it is easily visible that the data from both of the columns is rather imbalanced and probably skewed. This can cause bias or mispleading/high scores during the training process, possibly leaning towards one outcome over another. I believe that I need to incorporate other metrics to use on this data, such a precision, recall, F1-score, and possibly a confusion matrix.\n",
        "2. For the **department** output layer, `department_output`, I chose **Softmax**. This is because this column is a multi-class categorical variable. From my understanding, this is best so that exactly one class is the correct classification for each *instance*, through the probability distribution over the classes. It will ensure that the sum of potential outcomes will be 1. A similar thought process was applied when thinking about the encoding menthod that the starter code required for this column (**OneHotEncoder**). A simpler explanation would be that each value in the department column cannot be true at the same time (For example, you cannot work in both the sales AND human resources departments at the same time. They are exclusive of each other).\n",
        "\n",
        "  For the **attrition** output layer, `attrition_output`, I chose **Sigmoid**. This is because of the binary categorical variable (Yes or No : 1 or 0). There are only two possibilites here; if it is not 'Yes', it will be 'No', and vice versa. My first choice for use was Softmax, however even after changing it to my final choice of sigmoid, the results did not change.\n",
        "3.\n",
        "*  First, when creating `shared_layer1` and `shared_layer_2`, I used 'relu' for activation. I could use a different activation function for these, such as leaky relu.\n",
        "* Second point about my layer creation; I used 64 neurons for the first shared layer, and only 32 for the second shared layer. This could be changed when tuning the model as well, such as increasing the neurons and adding additional hidden layers (adjusting neurons from there).\n",
        "* Third, I could adjust the number of epochs used to train the model, increasing them to allow further analysis.\n",
        "* The last and main improvement that I will point out is the encoding method used for the 'Attrition' column. While 'OneHotEncoder' was specifically what I am told to use, wouldn't a 'LabelEncoder' be better to use in this instance? With such a binary choice as \"Yes\" or \"No,\" this would dispell any unnecessary complexity, and result in just those two output probabilities. This would further change the compile method I used, where it would require *`binary_crossentropy`*. I could also use an OrdinalEncoder with categories set to yes or no.\n",
        "\n",
        "\n"
      ]
    },
    {
      "cell_type": "markdown",
      "metadata": {
        "id": "N3llYbzTY8R6"
      },
      "source": []
    }
  ],
  "metadata": {
    "colab": {
      "provenance": []
    },
    "kernelspec": {
      "display_name": "Python 3",
      "language": "python",
      "name": "python3"
    },
    "language_info": {
      "codemirror_mode": {
        "name": "ipython",
        "version": 3
      },
      "file_extension": ".py",
      "mimetype": "text/x-python",
      "name": "python",
      "nbconvert_exporter": "python",
      "pygments_lexer": "ipython3",
      "version": "3.9.18"
    },
    "vscode": {
      "interpreter": {
        "hash": "31f2aee4e71d21fbe5cf8b01ff0e069b9275f58929596ceb00d14d90e3e16cd6"
      }
    }
  },
  "nbformat": 4,
  "nbformat_minor": 0
}