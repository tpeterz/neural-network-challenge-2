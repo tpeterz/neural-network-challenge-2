{
  "cells": [
    {
      "cell_type": "markdown",
      "metadata": {
        "id": "view-in-github",
        "colab_type": "text"
      },
      "source": [
        "<a href=\"https://colab.research.google.com/github/tpeterz/neural-network-challenge-2/blob/main/attrition.ipynb\" target=\"_parent\"><img src=\"https://colab.research.google.com/assets/colab-badge.svg\" alt=\"Open In Colab\"/></a>"
      ]
    },
    {
      "cell_type": "markdown",
      "metadata": {
        "id": "alIIEHibGc3M"
      },
      "source": [
        "## Part 1: Preprocessing"
      ]
    },
    {
      "cell_type": "code",
      "execution_count": 1,
      "metadata": {
        "colab": {
          "base_uri": "https://localhost:8080/",
          "height": 1000
        },
        "id": "6eDUJ4NtGc3P",
        "outputId": "e7381f28-9a91-4991-d60e-66f2516a3f5c"
      },
      "outputs": [
        {
          "output_type": "stream",
          "name": "stdout",
          "text": [
            "Requirement already satisfied: tensorflow in /usr/local/lib/python3.10/dist-packages (2.15.0)\n",
            "Requirement already satisfied: absl-py>=1.0.0 in /usr/local/lib/python3.10/dist-packages (from tensorflow) (1.4.0)\n",
            "Requirement already satisfied: astunparse>=1.6.0 in /usr/local/lib/python3.10/dist-packages (from tensorflow) (1.6.3)\n",
            "Requirement already satisfied: flatbuffers>=23.5.26 in /usr/local/lib/python3.10/dist-packages (from tensorflow) (24.3.25)\n",
            "Requirement already satisfied: gast!=0.5.0,!=0.5.1,!=0.5.2,>=0.2.1 in /usr/local/lib/python3.10/dist-packages (from tensorflow) (0.5.4)\n",
            "Requirement already satisfied: google-pasta>=0.1.1 in /usr/local/lib/python3.10/dist-packages (from tensorflow) (0.2.0)\n",
            "Requirement already satisfied: h5py>=2.9.0 in /usr/local/lib/python3.10/dist-packages (from tensorflow) (3.9.0)\n",
            "Requirement already satisfied: libclang>=13.0.0 in /usr/local/lib/python3.10/dist-packages (from tensorflow) (18.1.1)\n",
            "Requirement already satisfied: ml-dtypes~=0.2.0 in /usr/local/lib/python3.10/dist-packages (from tensorflow) (0.2.0)\n",
            "Requirement already satisfied: numpy<2.0.0,>=1.23.5 in /usr/local/lib/python3.10/dist-packages (from tensorflow) (1.25.2)\n",
            "Requirement already satisfied: opt-einsum>=2.3.2 in /usr/local/lib/python3.10/dist-packages (from tensorflow) (3.3.0)\n",
            "Requirement already satisfied: packaging in /usr/local/lib/python3.10/dist-packages (from tensorflow) (24.0)\n",
            "Requirement already satisfied: protobuf!=4.21.0,!=4.21.1,!=4.21.2,!=4.21.3,!=4.21.4,!=4.21.5,<5.0.0dev,>=3.20.3 in /usr/local/lib/python3.10/dist-packages (from tensorflow) (3.20.3)\n",
            "Requirement already satisfied: setuptools in /usr/local/lib/python3.10/dist-packages (from tensorflow) (67.7.2)\n",
            "Requirement already satisfied: six>=1.12.0 in /usr/local/lib/python3.10/dist-packages (from tensorflow) (1.16.0)\n",
            "Requirement already satisfied: termcolor>=1.1.0 in /usr/local/lib/python3.10/dist-packages (from tensorflow) (2.4.0)\n",
            "Requirement already satisfied: typing-extensions>=3.6.6 in /usr/local/lib/python3.10/dist-packages (from tensorflow) (4.11.0)\n",
            "Requirement already satisfied: wrapt<1.15,>=1.11.0 in /usr/local/lib/python3.10/dist-packages (from tensorflow) (1.14.1)\n",
            "Requirement already satisfied: tensorflow-io-gcs-filesystem>=0.23.1 in /usr/local/lib/python3.10/dist-packages (from tensorflow) (0.36.0)\n",
            "Requirement already satisfied: grpcio<2.0,>=1.24.3 in /usr/local/lib/python3.10/dist-packages (from tensorflow) (1.62.2)\n",
            "Requirement already satisfied: tensorboard<2.16,>=2.15 in /usr/local/lib/python3.10/dist-packages (from tensorflow) (2.15.2)\n",
            "Requirement already satisfied: tensorflow-estimator<2.16,>=2.15.0 in /usr/local/lib/python3.10/dist-packages (from tensorflow) (2.15.0)\n",
            "Requirement already satisfied: keras<2.16,>=2.15.0 in /usr/local/lib/python3.10/dist-packages (from tensorflow) (2.15.0)\n",
            "Requirement already satisfied: wheel<1.0,>=0.23.0 in /usr/local/lib/python3.10/dist-packages (from astunparse>=1.6.0->tensorflow) (0.43.0)\n",
            "Requirement already satisfied: google-auth<3,>=1.6.3 in /usr/local/lib/python3.10/dist-packages (from tensorboard<2.16,>=2.15->tensorflow) (2.27.0)\n",
            "Requirement already satisfied: google-auth-oauthlib<2,>=0.5 in /usr/local/lib/python3.10/dist-packages (from tensorboard<2.16,>=2.15->tensorflow) (1.2.0)\n",
            "Requirement already satisfied: markdown>=2.6.8 in /usr/local/lib/python3.10/dist-packages (from tensorboard<2.16,>=2.15->tensorflow) (3.6)\n",
            "Requirement already satisfied: requests<3,>=2.21.0 in /usr/local/lib/python3.10/dist-packages (from tensorboard<2.16,>=2.15->tensorflow) (2.31.0)\n",
            "Requirement already satisfied: tensorboard-data-server<0.8.0,>=0.7.0 in /usr/local/lib/python3.10/dist-packages (from tensorboard<2.16,>=2.15->tensorflow) (0.7.2)\n",
            "Requirement already satisfied: werkzeug>=1.0.1 in /usr/local/lib/python3.10/dist-packages (from tensorboard<2.16,>=2.15->tensorflow) (3.0.2)\n",
            "Requirement already satisfied: cachetools<6.0,>=2.0.0 in /usr/local/lib/python3.10/dist-packages (from google-auth<3,>=1.6.3->tensorboard<2.16,>=2.15->tensorflow) (5.3.3)\n",
            "Requirement already satisfied: pyasn1-modules>=0.2.1 in /usr/local/lib/python3.10/dist-packages (from google-auth<3,>=1.6.3->tensorboard<2.16,>=2.15->tensorflow) (0.4.0)\n",
            "Requirement already satisfied: rsa<5,>=3.1.4 in /usr/local/lib/python3.10/dist-packages (from google-auth<3,>=1.6.3->tensorboard<2.16,>=2.15->tensorflow) (4.9)\n",
            "Requirement already satisfied: requests-oauthlib>=0.7.0 in /usr/local/lib/python3.10/dist-packages (from google-auth-oauthlib<2,>=0.5->tensorboard<2.16,>=2.15->tensorflow) (1.3.1)\n",
            "Requirement already satisfied: charset-normalizer<4,>=2 in /usr/local/lib/python3.10/dist-packages (from requests<3,>=2.21.0->tensorboard<2.16,>=2.15->tensorflow) (3.3.2)\n",
            "Requirement already satisfied: idna<4,>=2.5 in /usr/local/lib/python3.10/dist-packages (from requests<3,>=2.21.0->tensorboard<2.16,>=2.15->tensorflow) (3.7)\n",
            "Requirement already satisfied: urllib3<3,>=1.21.1 in /usr/local/lib/python3.10/dist-packages (from requests<3,>=2.21.0->tensorboard<2.16,>=2.15->tensorflow) (2.0.7)\n",
            "Requirement already satisfied: certifi>=2017.4.17 in /usr/local/lib/python3.10/dist-packages (from requests<3,>=2.21.0->tensorboard<2.16,>=2.15->tensorflow) (2024.2.2)\n",
            "Requirement already satisfied: MarkupSafe>=2.1.1 in /usr/local/lib/python3.10/dist-packages (from werkzeug>=1.0.1->tensorboard<2.16,>=2.15->tensorflow) (2.1.5)\n",
            "Requirement already satisfied: pyasn1<0.7.0,>=0.4.6 in /usr/local/lib/python3.10/dist-packages (from pyasn1-modules>=0.2.1->google-auth<3,>=1.6.3->tensorboard<2.16,>=2.15->tensorflow) (0.6.0)\n",
            "Requirement already satisfied: oauthlib>=3.0.0 in /usr/local/lib/python3.10/dist-packages (from requests-oauthlib>=0.7.0->google-auth-oauthlib<2,>=0.5->tensorboard<2.16,>=2.15->tensorflow) (3.2.2)\n"
          ]
        },
        {
          "output_type": "execute_result",
          "data": {
            "text/plain": [
              "   Age Attrition     BusinessTravel              Department  DistanceFromHome  \\\n",
              "0   41       Yes      Travel_Rarely                   Sales                 1   \n",
              "1   49        No  Travel_Frequently  Research & Development                 8   \n",
              "2   37       Yes      Travel_Rarely  Research & Development                 2   \n",
              "3   33        No  Travel_Frequently  Research & Development                 3   \n",
              "4   27        No      Travel_Rarely  Research & Development                 2   \n",
              "\n",
              "   Education EducationField  EnvironmentSatisfaction  HourlyRate  \\\n",
              "0          2  Life Sciences                        2          94   \n",
              "1          1  Life Sciences                        3          61   \n",
              "2          2          Other                        4          92   \n",
              "3          4  Life Sciences                        4          56   \n",
              "4          1        Medical                        1          40   \n",
              "\n",
              "   JobInvolvement  ...  PerformanceRating RelationshipSatisfaction  \\\n",
              "0               3  ...                  3                        1   \n",
              "1               2  ...                  4                        4   \n",
              "2               2  ...                  3                        2   \n",
              "3               3  ...                  3                        3   \n",
              "4               3  ...                  3                        4   \n",
              "\n",
              "   StockOptionLevel TotalWorkingYears  TrainingTimesLastYear WorkLifeBalance  \\\n",
              "0                 0                 8                      0               1   \n",
              "1                 1                10                      3               3   \n",
              "2                 0                 7                      3               3   \n",
              "3                 0                 8                      3               3   \n",
              "4                 1                 6                      3               3   \n",
              "\n",
              "   YearsAtCompany  YearsInCurrentRole  YearsSinceLastPromotion  \\\n",
              "0               6                   4                        0   \n",
              "1              10                   7                        1   \n",
              "2               0                   0                        0   \n",
              "3               8                   7                        3   \n",
              "4               2                   2                        2   \n",
              "\n",
              "   YearsWithCurrManager  \n",
              "0                     5  \n",
              "1                     7  \n",
              "2                     0  \n",
              "3                     0  \n",
              "4                     2  \n",
              "\n",
              "[5 rows x 27 columns]"
            ],
            "text/html": [
              "\n",
              "  <div id=\"df-2c486ce6-6703-4749-9aed-99fbb1ea910b\" class=\"colab-df-container\">\n",
              "    <div>\n",
              "<style scoped>\n",
              "    .dataframe tbody tr th:only-of-type {\n",
              "        vertical-align: middle;\n",
              "    }\n",
              "\n",
              "    .dataframe tbody tr th {\n",
              "        vertical-align: top;\n",
              "    }\n",
              "\n",
              "    .dataframe thead th {\n",
              "        text-align: right;\n",
              "    }\n",
              "</style>\n",
              "<table border=\"1\" class=\"dataframe\">\n",
              "  <thead>\n",
              "    <tr style=\"text-align: right;\">\n",
              "      <th></th>\n",
              "      <th>Age</th>\n",
              "      <th>Attrition</th>\n",
              "      <th>BusinessTravel</th>\n",
              "      <th>Department</th>\n",
              "      <th>DistanceFromHome</th>\n",
              "      <th>Education</th>\n",
              "      <th>EducationField</th>\n",
              "      <th>EnvironmentSatisfaction</th>\n",
              "      <th>HourlyRate</th>\n",
              "      <th>JobInvolvement</th>\n",
              "      <th>...</th>\n",
              "      <th>PerformanceRating</th>\n",
              "      <th>RelationshipSatisfaction</th>\n",
              "      <th>StockOptionLevel</th>\n",
              "      <th>TotalWorkingYears</th>\n",
              "      <th>TrainingTimesLastYear</th>\n",
              "      <th>WorkLifeBalance</th>\n",
              "      <th>YearsAtCompany</th>\n",
              "      <th>YearsInCurrentRole</th>\n",
              "      <th>YearsSinceLastPromotion</th>\n",
              "      <th>YearsWithCurrManager</th>\n",
              "    </tr>\n",
              "  </thead>\n",
              "  <tbody>\n",
              "    <tr>\n",
              "      <th>0</th>\n",
              "      <td>41</td>\n",
              "      <td>Yes</td>\n",
              "      <td>Travel_Rarely</td>\n",
              "      <td>Sales</td>\n",
              "      <td>1</td>\n",
              "      <td>2</td>\n",
              "      <td>Life Sciences</td>\n",
              "      <td>2</td>\n",
              "      <td>94</td>\n",
              "      <td>3</td>\n",
              "      <td>...</td>\n",
              "      <td>3</td>\n",
              "      <td>1</td>\n",
              "      <td>0</td>\n",
              "      <td>8</td>\n",
              "      <td>0</td>\n",
              "      <td>1</td>\n",
              "      <td>6</td>\n",
              "      <td>4</td>\n",
              "      <td>0</td>\n",
              "      <td>5</td>\n",
              "    </tr>\n",
              "    <tr>\n",
              "      <th>1</th>\n",
              "      <td>49</td>\n",
              "      <td>No</td>\n",
              "      <td>Travel_Frequently</td>\n",
              "      <td>Research &amp; Development</td>\n",
              "      <td>8</td>\n",
              "      <td>1</td>\n",
              "      <td>Life Sciences</td>\n",
              "      <td>3</td>\n",
              "      <td>61</td>\n",
              "      <td>2</td>\n",
              "      <td>...</td>\n",
              "      <td>4</td>\n",
              "      <td>4</td>\n",
              "      <td>1</td>\n",
              "      <td>10</td>\n",
              "      <td>3</td>\n",
              "      <td>3</td>\n",
              "      <td>10</td>\n",
              "      <td>7</td>\n",
              "      <td>1</td>\n",
              "      <td>7</td>\n",
              "    </tr>\n",
              "    <tr>\n",
              "      <th>2</th>\n",
              "      <td>37</td>\n",
              "      <td>Yes</td>\n",
              "      <td>Travel_Rarely</td>\n",
              "      <td>Research &amp; Development</td>\n",
              "      <td>2</td>\n",
              "      <td>2</td>\n",
              "      <td>Other</td>\n",
              "      <td>4</td>\n",
              "      <td>92</td>\n",
              "      <td>2</td>\n",
              "      <td>...</td>\n",
              "      <td>3</td>\n",
              "      <td>2</td>\n",
              "      <td>0</td>\n",
              "      <td>7</td>\n",
              "      <td>3</td>\n",
              "      <td>3</td>\n",
              "      <td>0</td>\n",
              "      <td>0</td>\n",
              "      <td>0</td>\n",
              "      <td>0</td>\n",
              "    </tr>\n",
              "    <tr>\n",
              "      <th>3</th>\n",
              "      <td>33</td>\n",
              "      <td>No</td>\n",
              "      <td>Travel_Frequently</td>\n",
              "      <td>Research &amp; Development</td>\n",
              "      <td>3</td>\n",
              "      <td>4</td>\n",
              "      <td>Life Sciences</td>\n",
              "      <td>4</td>\n",
              "      <td>56</td>\n",
              "      <td>3</td>\n",
              "      <td>...</td>\n",
              "      <td>3</td>\n",
              "      <td>3</td>\n",
              "      <td>0</td>\n",
              "      <td>8</td>\n",
              "      <td>3</td>\n",
              "      <td>3</td>\n",
              "      <td>8</td>\n",
              "      <td>7</td>\n",
              "      <td>3</td>\n",
              "      <td>0</td>\n",
              "    </tr>\n",
              "    <tr>\n",
              "      <th>4</th>\n",
              "      <td>27</td>\n",
              "      <td>No</td>\n",
              "      <td>Travel_Rarely</td>\n",
              "      <td>Research &amp; Development</td>\n",
              "      <td>2</td>\n",
              "      <td>1</td>\n",
              "      <td>Medical</td>\n",
              "      <td>1</td>\n",
              "      <td>40</td>\n",
              "      <td>3</td>\n",
              "      <td>...</td>\n",
              "      <td>3</td>\n",
              "      <td>4</td>\n",
              "      <td>1</td>\n",
              "      <td>6</td>\n",
              "      <td>3</td>\n",
              "      <td>3</td>\n",
              "      <td>2</td>\n",
              "      <td>2</td>\n",
              "      <td>2</td>\n",
              "      <td>2</td>\n",
              "    </tr>\n",
              "  </tbody>\n",
              "</table>\n",
              "<p>5 rows × 27 columns</p>\n",
              "</div>\n",
              "    <div class=\"colab-df-buttons\">\n",
              "\n",
              "  <div class=\"colab-df-container\">\n",
              "    <button class=\"colab-df-convert\" onclick=\"convertToInteractive('df-2c486ce6-6703-4749-9aed-99fbb1ea910b')\"\n",
              "            title=\"Convert this dataframe to an interactive table.\"\n",
              "            style=\"display:none;\">\n",
              "\n",
              "  <svg xmlns=\"http://www.w3.org/2000/svg\" height=\"24px\" viewBox=\"0 -960 960 960\">\n",
              "    <path d=\"M120-120v-720h720v720H120Zm60-500h600v-160H180v160Zm220 220h160v-160H400v160Zm0 220h160v-160H400v160ZM180-400h160v-160H180v160Zm440 0h160v-160H620v160ZM180-180h160v-160H180v160Zm440 0h160v-160H620v160Z\"/>\n",
              "  </svg>\n",
              "    </button>\n",
              "\n",
              "  <style>\n",
              "    .colab-df-container {\n",
              "      display:flex;\n",
              "      gap: 12px;\n",
              "    }\n",
              "\n",
              "    .colab-df-convert {\n",
              "      background-color: #E8F0FE;\n",
              "      border: none;\n",
              "      border-radius: 50%;\n",
              "      cursor: pointer;\n",
              "      display: none;\n",
              "      fill: #1967D2;\n",
              "      height: 32px;\n",
              "      padding: 0 0 0 0;\n",
              "      width: 32px;\n",
              "    }\n",
              "\n",
              "    .colab-df-convert:hover {\n",
              "      background-color: #E2EBFA;\n",
              "      box-shadow: 0px 1px 2px rgba(60, 64, 67, 0.3), 0px 1px 3px 1px rgba(60, 64, 67, 0.15);\n",
              "      fill: #174EA6;\n",
              "    }\n",
              "\n",
              "    .colab-df-buttons div {\n",
              "      margin-bottom: 4px;\n",
              "    }\n",
              "\n",
              "    [theme=dark] .colab-df-convert {\n",
              "      background-color: #3B4455;\n",
              "      fill: #D2E3FC;\n",
              "    }\n",
              "\n",
              "    [theme=dark] .colab-df-convert:hover {\n",
              "      background-color: #434B5C;\n",
              "      box-shadow: 0px 1px 3px 1px rgba(0, 0, 0, 0.15);\n",
              "      filter: drop-shadow(0px 1px 2px rgba(0, 0, 0, 0.3));\n",
              "      fill: #FFFFFF;\n",
              "    }\n",
              "  </style>\n",
              "\n",
              "    <script>\n",
              "      const buttonEl =\n",
              "        document.querySelector('#df-2c486ce6-6703-4749-9aed-99fbb1ea910b button.colab-df-convert');\n",
              "      buttonEl.style.display =\n",
              "        google.colab.kernel.accessAllowed ? 'block' : 'none';\n",
              "\n",
              "      async function convertToInteractive(key) {\n",
              "        const element = document.querySelector('#df-2c486ce6-6703-4749-9aed-99fbb1ea910b');\n",
              "        const dataTable =\n",
              "          await google.colab.kernel.invokeFunction('convertToInteractive',\n",
              "                                                    [key], {});\n",
              "        if (!dataTable) return;\n",
              "\n",
              "        const docLinkHtml = 'Like what you see? Visit the ' +\n",
              "          '<a target=\"_blank\" href=https://colab.research.google.com/notebooks/data_table.ipynb>data table notebook</a>'\n",
              "          + ' to learn more about interactive tables.';\n",
              "        element.innerHTML = '';\n",
              "        dataTable['output_type'] = 'display_data';\n",
              "        await google.colab.output.renderOutput(dataTable, element);\n",
              "        const docLink = document.createElement('div');\n",
              "        docLink.innerHTML = docLinkHtml;\n",
              "        element.appendChild(docLink);\n",
              "      }\n",
              "    </script>\n",
              "  </div>\n",
              "\n",
              "\n",
              "<div id=\"df-597932db-fedb-4d72-86f8-df47f986882f\">\n",
              "  <button class=\"colab-df-quickchart\" onclick=\"quickchart('df-597932db-fedb-4d72-86f8-df47f986882f')\"\n",
              "            title=\"Suggest charts\"\n",
              "            style=\"display:none;\">\n",
              "\n",
              "<svg xmlns=\"http://www.w3.org/2000/svg\" height=\"24px\"viewBox=\"0 0 24 24\"\n",
              "     width=\"24px\">\n",
              "    <g>\n",
              "        <path d=\"M19 3H5c-1.1 0-2 .9-2 2v14c0 1.1.9 2 2 2h14c1.1 0 2-.9 2-2V5c0-1.1-.9-2-2-2zM9 17H7v-7h2v7zm4 0h-2V7h2v10zm4 0h-2v-4h2v4z\"/>\n",
              "    </g>\n",
              "</svg>\n",
              "  </button>\n",
              "\n",
              "<style>\n",
              "  .colab-df-quickchart {\n",
              "      --bg-color: #E8F0FE;\n",
              "      --fill-color: #1967D2;\n",
              "      --hover-bg-color: #E2EBFA;\n",
              "      --hover-fill-color: #174EA6;\n",
              "      --disabled-fill-color: #AAA;\n",
              "      --disabled-bg-color: #DDD;\n",
              "  }\n",
              "\n",
              "  [theme=dark] .colab-df-quickchart {\n",
              "      --bg-color: #3B4455;\n",
              "      --fill-color: #D2E3FC;\n",
              "      --hover-bg-color: #434B5C;\n",
              "      --hover-fill-color: #FFFFFF;\n",
              "      --disabled-bg-color: #3B4455;\n",
              "      --disabled-fill-color: #666;\n",
              "  }\n",
              "\n",
              "  .colab-df-quickchart {\n",
              "    background-color: var(--bg-color);\n",
              "    border: none;\n",
              "    border-radius: 50%;\n",
              "    cursor: pointer;\n",
              "    display: none;\n",
              "    fill: var(--fill-color);\n",
              "    height: 32px;\n",
              "    padding: 0;\n",
              "    width: 32px;\n",
              "  }\n",
              "\n",
              "  .colab-df-quickchart:hover {\n",
              "    background-color: var(--hover-bg-color);\n",
              "    box-shadow: 0 1px 2px rgba(60, 64, 67, 0.3), 0 1px 3px 1px rgba(60, 64, 67, 0.15);\n",
              "    fill: var(--button-hover-fill-color);\n",
              "  }\n",
              "\n",
              "  .colab-df-quickchart-complete:disabled,\n",
              "  .colab-df-quickchart-complete:disabled:hover {\n",
              "    background-color: var(--disabled-bg-color);\n",
              "    fill: var(--disabled-fill-color);\n",
              "    box-shadow: none;\n",
              "  }\n",
              "\n",
              "  .colab-df-spinner {\n",
              "    border: 2px solid var(--fill-color);\n",
              "    border-color: transparent;\n",
              "    border-bottom-color: var(--fill-color);\n",
              "    animation:\n",
              "      spin 1s steps(1) infinite;\n",
              "  }\n",
              "\n",
              "  @keyframes spin {\n",
              "    0% {\n",
              "      border-color: transparent;\n",
              "      border-bottom-color: var(--fill-color);\n",
              "      border-left-color: var(--fill-color);\n",
              "    }\n",
              "    20% {\n",
              "      border-color: transparent;\n",
              "      border-left-color: var(--fill-color);\n",
              "      border-top-color: var(--fill-color);\n",
              "    }\n",
              "    30% {\n",
              "      border-color: transparent;\n",
              "      border-left-color: var(--fill-color);\n",
              "      border-top-color: var(--fill-color);\n",
              "      border-right-color: var(--fill-color);\n",
              "    }\n",
              "    40% {\n",
              "      border-color: transparent;\n",
              "      border-right-color: var(--fill-color);\n",
              "      border-top-color: var(--fill-color);\n",
              "    }\n",
              "    60% {\n",
              "      border-color: transparent;\n",
              "      border-right-color: var(--fill-color);\n",
              "    }\n",
              "    80% {\n",
              "      border-color: transparent;\n",
              "      border-right-color: var(--fill-color);\n",
              "      border-bottom-color: var(--fill-color);\n",
              "    }\n",
              "    90% {\n",
              "      border-color: transparent;\n",
              "      border-bottom-color: var(--fill-color);\n",
              "    }\n",
              "  }\n",
              "</style>\n",
              "\n",
              "  <script>\n",
              "    async function quickchart(key) {\n",
              "      const quickchartButtonEl =\n",
              "        document.querySelector('#' + key + ' button');\n",
              "      quickchartButtonEl.disabled = true;  // To prevent multiple clicks.\n",
              "      quickchartButtonEl.classList.add('colab-df-spinner');\n",
              "      try {\n",
              "        const charts = await google.colab.kernel.invokeFunction(\n",
              "            'suggestCharts', [key], {});\n",
              "      } catch (error) {\n",
              "        console.error('Error during call to suggestCharts:', error);\n",
              "      }\n",
              "      quickchartButtonEl.classList.remove('colab-df-spinner');\n",
              "      quickchartButtonEl.classList.add('colab-df-quickchart-complete');\n",
              "    }\n",
              "    (() => {\n",
              "      let quickchartButtonEl =\n",
              "        document.querySelector('#df-597932db-fedb-4d72-86f8-df47f986882f button');\n",
              "      quickchartButtonEl.style.display =\n",
              "        google.colab.kernel.accessAllowed ? 'block' : 'none';\n",
              "    })();\n",
              "  </script>\n",
              "</div>\n",
              "\n",
              "    </div>\n",
              "  </div>\n"
            ],
            "application/vnd.google.colaboratory.intrinsic+json": {
              "type": "dataframe",
              "variable_name": "attrition_df"
            }
          },
          "metadata": {},
          "execution_count": 1
        }
      ],
      "source": [
        "# Import our dependencies\n",
        "from sklearn.model_selection import train_test_split\n",
        "from sklearn.preprocessing import StandardScaler\n",
        "import pandas as pd\n",
        "import numpy as np\n",
        "!pip install tensorflow\n",
        "import tensorflow as tf\n",
        "from tensorflow.keras.models import Model\n",
        "from tensorflow.keras import layers\n",
        "\n",
        "#  Import and read the attrition data\n",
        "attrition_df = pd.read_csv('https://static.bc-edx.com/ai/ail-v-1-0/m19/lms/datasets/attrition.csv')\n",
        "attrition_df.head()"
      ]
    },
    {
      "cell_type": "code",
      "execution_count": 2,
      "metadata": {
        "colab": {
          "base_uri": "https://localhost:8080/"
        },
        "id": "g22aQSY4Gc3Q",
        "outputId": "2f51b2bf-dcd7-47e0-e093-8a277dfdc7ed"
      },
      "outputs": [
        {
          "output_type": "execute_result",
          "data": {
            "text/plain": [
              "Age                         43\n",
              "Attrition                    2\n",
              "BusinessTravel               3\n",
              "Department                   3\n",
              "DistanceFromHome            29\n",
              "Education                    5\n",
              "EducationField               6\n",
              "EnvironmentSatisfaction      4\n",
              "HourlyRate                  71\n",
              "JobInvolvement               4\n",
              "JobLevel                     5\n",
              "JobRole                      9\n",
              "JobSatisfaction              4\n",
              "MaritalStatus                3\n",
              "NumCompaniesWorked          10\n",
              "OverTime                     2\n",
              "PercentSalaryHike           15\n",
              "PerformanceRating            2\n",
              "RelationshipSatisfaction     4\n",
              "StockOptionLevel             4\n",
              "TotalWorkingYears           40\n",
              "TrainingTimesLastYear        7\n",
              "WorkLifeBalance              4\n",
              "YearsAtCompany              37\n",
              "YearsInCurrentRole          19\n",
              "YearsSinceLastPromotion     16\n",
              "YearsWithCurrManager        18\n",
              "dtype: int64"
            ]
          },
          "metadata": {},
          "execution_count": 2
        }
      ],
      "source": [
        "# Determine the number of unique values in each column.\n",
        "attrition_df.nunique()"
      ]
    },
    {
      "cell_type": "code",
      "execution_count": 3,
      "metadata": {
        "id": "50vMgBEnJbfM",
        "colab": {
          "base_uri": "https://localhost:8080/"
        },
        "outputId": "1161b186-2391-446a-e201-43d1bbcc8c28"
      },
      "outputs": [
        {
          "output_type": "stream",
          "name": "stdout",
          "text": [
            "<class 'pandas.core.frame.DataFrame'>\n",
            "RangeIndex: 1470 entries, 0 to 1469\n",
            "Data columns (total 2 columns):\n",
            " #   Column      Non-Null Count  Dtype \n",
            "---  ------      --------------  ----- \n",
            " 0   Attrition   1470 non-null   object\n",
            " 1   Department  1470 non-null   object\n",
            "dtypes: object(2)\n",
            "memory usage: 23.1+ KB\n"
          ]
        }
      ],
      "source": [
        "# Create y_df with the Attrition and Department columns\n",
        "y_df = attrition_df[['Attrition','Department']].copy()\n",
        "y_df.info()"
      ]
    },
    {
      "cell_type": "code",
      "source": [
        "# Exploratory check, where I can take a look inside of each of these columns, for my overall analysis/summary\n",
        "print(y_df['Attrition'].value_counts())\n",
        "print(y_df['Department'].value_counts())"
      ],
      "metadata": {
        "colab": {
          "base_uri": "https://localhost:8080/"
        },
        "id": "tJ0K5Jb6gwbf",
        "outputId": "6ebd0201-ebf6-4228-ff03-06de8e88ee29"
      },
      "execution_count": 4,
      "outputs": [
        {
          "output_type": "stream",
          "name": "stdout",
          "text": [
            "Attrition\n",
            "No     1233\n",
            "Yes     237\n",
            "Name: count, dtype: int64\n",
            "Department\n",
            "Research & Development    961\n",
            "Sales                     446\n",
            "Human Resources            63\n",
            "Name: count, dtype: int64\n"
          ]
        }
      ]
    },
    {
      "cell_type": "code",
      "execution_count": 5,
      "metadata": {
        "colab": {
          "base_uri": "https://localhost:8080/"
        },
        "id": "Virka0zLGc3R",
        "outputId": "c1056cd1-0e3d-40a1-d7f2-15e116502179"
      },
      "outputs": [
        {
          "output_type": "stream",
          "name": "stdout",
          "text": [
            "BusinessTravel             object\n",
            "TotalWorkingYears           int64\n",
            "HourlyRate                  int64\n",
            "YearsAtCompany              int64\n",
            "DistanceFromHome            int64\n",
            "Age                         int64\n",
            "YearsWithCurrManager        int64\n",
            "YearsSinceLastPromotion     int64\n",
            "YearsInCurrentRole          int64\n",
            "MaritalStatus              object\n",
            "dtype: object\n"
          ]
        }
      ],
      "source": [
        "# Create a list of at least 10 column names to use as X data\n",
        "X_columns = ['BusinessTravel', 'TotalWorkingYears', 'HourlyRate', 'YearsAtCompany', 'DistanceFromHome',\n",
        "              'Age', 'YearsWithCurrManager', 'YearsSinceLastPromotion', 'YearsInCurrentRole', 'MaritalStatus']\n",
        "# Create X_df using your selected columns\n",
        "X_df = attrition_df[X_columns].copy()\n",
        "# Show the data types for X_df\n",
        "show = X_df.dtypes\n",
        "print(show)"
      ]
    },
    {
      "cell_type": "code",
      "execution_count": 6,
      "metadata": {
        "id": "KaJfdOGUMHMR"
      },
      "outputs": [],
      "source": [
        "# Split data into training and testing sets\n",
        "from sklearn.model_selection import train_test_split\n",
        "X_train, X_test, y_train, y_test = train_test_split(X_df, y_df, test_size=0.2, random_state=42)"
      ]
    },
    {
      "cell_type": "code",
      "source": [
        "# Double checking if there are null values within the training dataset (by percentage)\n",
        "# Reference: Module 14, Day 2, activity 7 - \"third_model_solution\"\n",
        "X_train.isna().sum()/len(X_train)"
      ],
      "metadata": {
        "colab": {
          "base_uri": "https://localhost:8080/"
        },
        "id": "OcqFFVdwx3Cq",
        "outputId": "ce6c48e3-d0bc-4be9-cd44-ea0a2bfdfc0f"
      },
      "execution_count": 7,
      "outputs": [
        {
          "output_type": "execute_result",
          "data": {
            "text/plain": [
              "BusinessTravel             0.0\n",
              "TotalWorkingYears          0.0\n",
              "HourlyRate                 0.0\n",
              "YearsAtCompany             0.0\n",
              "DistanceFromHome           0.0\n",
              "Age                        0.0\n",
              "YearsWithCurrManager       0.0\n",
              "YearsSinceLastPromotion    0.0\n",
              "YearsInCurrentRole         0.0\n",
              "MaritalStatus              0.0\n",
              "dtype: float64"
            ]
          },
          "metadata": {},
          "execution_count": 7
        }
      ]
    },
    {
      "cell_type": "code",
      "source": [
        "# Double checking if there are null values within the testing dataset (by percentage)\n",
        "X_test.isna().sum()/len(X_test)"
      ],
      "metadata": {
        "colab": {
          "base_uri": "https://localhost:8080/"
        },
        "id": "nUmQGaKHx7PE",
        "outputId": "f088597e-5280-40ae-ef40-549f1fcb8cf4"
      },
      "execution_count": 8,
      "outputs": [
        {
          "output_type": "execute_result",
          "data": {
            "text/plain": [
              "BusinessTravel             0.0\n",
              "TotalWorkingYears          0.0\n",
              "HourlyRate                 0.0\n",
              "YearsAtCompany             0.0\n",
              "DistanceFromHome           0.0\n",
              "Age                        0.0\n",
              "YearsWithCurrManager       0.0\n",
              "YearsSinceLastPromotion    0.0\n",
              "YearsInCurrentRole         0.0\n",
              "MaritalStatus              0.0\n",
              "dtype: float64"
            ]
          },
          "metadata": {},
          "execution_count": 8
        }
      ]
    },
    {
      "cell_type": "code",
      "source": [
        "# For the below step, I will need to check the classes of the 'BusinessTravel' column\n",
        "print(X_train['BusinessTravel'].value_counts())"
      ],
      "metadata": {
        "colab": {
          "base_uri": "https://localhost:8080/"
        },
        "id": "5d62150QhyYx",
        "outputId": "29124e20-cb01-4c43-9cf2-3162b7c1d8a2"
      },
      "execution_count": 9,
      "outputs": [
        {
          "output_type": "stream",
          "name": "stdout",
          "text": [
            "BusinessTravel\n",
            "Travel_Rarely        835\n",
            "Travel_Frequently    228\n",
            "Non-Travel           113\n",
            "Name: count, dtype: int64\n"
          ]
        }
      ]
    },
    {
      "cell_type": "code",
      "source": [
        "# # For the below step, I will need to check the classes of the 'MaritalStatus' column\n",
        "print(X_train['MaritalStatus'].value_counts())"
      ],
      "metadata": {
        "colab": {
          "base_uri": "https://localhost:8080/"
        },
        "id": "32-s3oBUdsdC",
        "outputId": "91d90af8-7833-4709-a8ee-ef2318fc4df8"
      },
      "execution_count": 10,
      "outputs": [
        {
          "output_type": "stream",
          "name": "stdout",
          "text": [
            "MaritalStatus\n",
            "Married     550\n",
            "Single      359\n",
            "Divorced    267\n",
            "Name: count, dtype: int64\n"
          ]
        }
      ]
    },
    {
      "cell_type": "markdown",
      "source": [
        "# Rationale for deciding the encoding method below\n",
        "---\n",
        "### From my understanding, label encoding is only used with binary data. Given the values counts of the 2 columns that I am choosing to convert to numerical values (through encoding), it appears that OneHotEncoding will be best.\n",
        "\n",
        "### Referencing Module 19, activity 2, for branching, the OneHotEncoder was used for data with mutiple, not binary categories\n",
        "\n",
        "### Reference:\n",
        "> \"Preprocess \"color\" column (**label encoding for binary; one-hot encoding for multiple categories**)\" - Label encoding was used here for the 2 categories that the 'color' column contained.\n",
        "### Seeing as both of my columns have 3 categories, OneHot encoding will be the best suited encoder.\n",
        "---\n",
        "# Secondary rationale for the 'MaritalStatus' column:\n",
        "### According to Module 14, Day 2, activity 7 - \"third_model_solution\", there is column named \"marital\" that has the same values inside of it (single, married, divorced). The way it is handled is below:\n",
        "\n",
        "\n",
        ">\n",
        "    # Only three values; lets use two OneHotEncoded columns\n",
        "    # remembering to choose options for unknown values\n",
        "    encode_marital = OneHotEncoder(drop='first', handle_unknown='ignore', sparse_output=False)\n",
        "\n",
        "    # Train the encoder\n",
        "    encode_marital.fit(X_train_filled['marital'].values.reshape(-1, 1))\n",
        "\n",
        "\n",
        "\n"
      ],
      "metadata": {
        "id": "qfmU_Tg8sXfE"
      }
    },
    {
      "cell_type": "code",
      "execution_count": 11,
      "metadata": {
        "id": "tL_NrgVzefAi"
      },
      "outputs": [],
      "source": [
        "# Convert your X data to numeric data types however you see fit\n",
        "# Add new code cells as necessary\n",
        "# Convert categorical columns to numeric\n",
        "# The categorical columns that I need to convert for use will be 'MaritalStatus' and 'BusinessTravel\n",
        "from sklearn.preprocessing import OneHotEncoder\n",
        "encoder = OneHotEncoder(sparse_output=False)"
      ]
    },
    {
      "cell_type": "code",
      "source": [
        "# Establish columns to be encoded (together)\n",
        "columns_to_encode = ['BusinessTravel', 'MaritalStatus']"
      ],
      "metadata": {
        "id": "Td25NQnziZr3"
      },
      "execution_count": 12,
      "outputs": []
    },
    {
      "cell_type": "code",
      "source": [
        "# Fit the encoder on the training data and transform both train and test data\n",
        "encoder.fit(X_train[columns_to_encode])\n",
        "X_train_encoded = encoder.transform(X_train[columns_to_encode])\n",
        "X_test_encoded = encoder.transform(X_test[columns_to_encode])"
      ],
      "metadata": {
        "id": "zsmUwARj_5WK"
      },
      "execution_count": 13,
      "outputs": []
    },
    {
      "cell_type": "code",
      "source": [
        "# Get feature names for the encoded columns\n",
        "encoded_columns = encoder.get_feature_names_out(columns_to_encode)"
      ],
      "metadata": {
        "id": "jT_OWPqtAGK7"
      },
      "execution_count": 14,
      "outputs": []
    },
    {
      "cell_type": "code",
      "source": [
        "# Convert the encoded features into a dataframe\n",
        "# and concatenate with the original X_df dataframe, dropping the 'un-encoded' columns\n",
        "X_train_processed = pd.concat([\n",
        "    X_train.drop(columns_to_encode, axis=1),\n",
        "    pd.DataFrame(X_train_encoded, columns=encoded_columns, index=X_train.index)\n",
        "], axis=1)"
      ],
      "metadata": {
        "id": "yd7rcN6gAIKo"
      },
      "execution_count": 15,
      "outputs": []
    },
    {
      "cell_type": "code",
      "source": [
        "# Doing the same for the testing data\n",
        "X_test_processed = pd.concat([\n",
        "    X_test.drop(columns_to_encode, axis=1),\n",
        "    pd.DataFrame(X_test_encoded, columns=encoded_columns, index=X_test.index)\n",
        "], axis=1)"
      ],
      "metadata": {
        "id": "YqzxipgUAIMn"
      },
      "execution_count": 16,
      "outputs": []
    },
    {
      "cell_type": "code",
      "source": [
        "# Verify the columns and data contained after encoding\n",
        "# It looks like now instead of 10 columns to work with, the encoding makes it 14 total usuable columns\n",
        "print(X_train_processed.head())"
      ],
      "metadata": {
        "colab": {
          "base_uri": "https://localhost:8080/"
        },
        "id": "T99QSgj9AIOs",
        "outputId": "868aa66b-289f-435b-d48b-ea98cba7edc7"
      },
      "execution_count": 17,
      "outputs": [
        {
          "output_type": "stream",
          "name": "stdout",
          "text": [
            "      TotalWorkingYears  HourlyRate  YearsAtCompany  DistanceFromHome  Age  \\\n",
            "1097                  2          57               1                21   24   \n",
            "727                   0          73               0                 5   18   \n",
            "254                  10          45               3                20   29   \n",
            "1175                  7          66               5                12   39   \n",
            "1341                 10          89              10                20   31   \n",
            "\n",
            "      YearsWithCurrManager  YearsSinceLastPromotion  YearsInCurrentRole  \\\n",
            "1097                     0                        0                   1   \n",
            "727                      0                        0                   0   \n",
            "254                      2                        0                   2   \n",
            "1175                     0                        1                   4   \n",
            "1341                     2                        0                   8   \n",
            "\n",
            "      BusinessTravel_Non-Travel  BusinessTravel_Travel_Frequently  \\\n",
            "1097                        0.0                               0.0   \n",
            "727                         1.0                               0.0   \n",
            "254                         0.0                               0.0   \n",
            "1175                        0.0                               0.0   \n",
            "1341                        0.0                               0.0   \n",
            "\n",
            "      BusinessTravel_Travel_Rarely  MaritalStatus_Divorced  \\\n",
            "1097                           1.0                     1.0   \n",
            "727                            0.0                     0.0   \n",
            "254                            1.0                     1.0   \n",
            "1175                           1.0                     0.0   \n",
            "1341                           1.0                     1.0   \n",
            "\n",
            "      MaritalStatus_Married  MaritalStatus_Single  \n",
            "1097                    0.0                   0.0  \n",
            "727                     0.0                   1.0  \n",
            "254                     0.0                   0.0  \n",
            "1175                    1.0                   0.0  \n",
            "1341                    0.0                   0.0  \n"
          ]
        }
      ]
    },
    {
      "cell_type": "code",
      "execution_count": 18,
      "metadata": {
        "id": "EWA-aIA5Gc3T"
      },
      "outputs": [],
      "source": [
        "# Create a StandardScaler\n",
        "scaler = StandardScaler()\n",
        "\n",
        "# Fit the StandardScaler to the training data\n",
        "scaler.fit(X_train_processed)\n",
        "\n",
        "# Scale the training and testing data\n",
        "X_train_scaled = scaler.transform(X_train_processed)\n",
        "X_test_scaled = scaler.transform(X_test_processed)"
      ]
    },
    {
      "cell_type": "code",
      "source": [
        "# Convert arrays back to dfs\n",
        "# Following the Module 19.3 activities, it looks like I need these to be in dataframe format for the model\n",
        "X_train_scaled_df = pd.DataFrame(X_train_scaled, columns=X_train_processed.columns, index=X_train_processed.index)\n",
        "X_test_scaled_df = pd.DataFrame(X_test_scaled, columns=X_test_processed.columns, index=X_test_processed.index)"
      ],
      "metadata": {
        "id": "oMpjK3o9EsJ4"
      },
      "execution_count": 19,
      "outputs": []
    },
    {
      "cell_type": "code",
      "source": [
        "# Taking a look at the dataframe (in printed form)\n",
        "print(X_train_scaled_df.head())"
      ],
      "metadata": {
        "colab": {
          "base_uri": "https://localhost:8080/"
        },
        "id": "-VyfZ5RwAnkR",
        "outputId": "8a53368e-c66b-4a24-b991-69d6b95f3902"
      },
      "execution_count": 20,
      "outputs": [
        {
          "output_type": "stream",
          "name": "stdout",
          "text": [
            "      TotalWorkingYears  HourlyRate  YearsAtCompany  DistanceFromHome  \\\n",
            "1097          -1.167368   -0.472832       -0.974263          1.440396   \n",
            "727           -1.423397    0.309374       -1.138573         -0.522699   \n",
            "254           -0.143254   -1.059487       -0.645643          1.317703   \n",
            "1175          -0.527297   -0.032841       -0.317023          0.336155   \n",
            "1341          -0.143254    1.091580        0.504527          1.317703   \n",
            "\n",
            "           Age  YearsWithCurrManager  YearsSinceLastPromotion  \\\n",
            "1097 -1.388559             -1.142448                -0.676110   \n",
            "727  -2.040738             -1.142448                -0.676110   \n",
            "254  -0.845077             -0.575084                -0.676110   \n",
            "1175  0.241886             -1.142448                -0.355244   \n",
            "1341 -0.627685             -0.575084                -0.676110   \n",
            "\n",
            "      YearsInCurrentRole  BusinessTravel_Non-Travel  \\\n",
            "1097           -0.888208                  -0.326041   \n",
            "727            -1.165051                   3.067096   \n",
            "254            -0.611364                  -0.326041   \n",
            "1175           -0.057676                  -0.326041   \n",
            "1341            1.049700                  -0.326041   \n",
            "\n",
            "      BusinessTravel_Travel_Frequently  BusinessTravel_Travel_Rarely  \\\n",
            "1097                         -0.490414                      0.639049   \n",
            "727                          -0.490414                     -1.564826   \n",
            "254                          -0.490414                      0.639049   \n",
            "1175                         -0.490414                      0.639049   \n",
            "1341                         -0.490414                      0.639049   \n",
            "\n",
            "      MaritalStatus_Divorced  MaritalStatus_Married  MaritalStatus_Single  \n",
            "1097                1.845127              -0.937334             -0.662882  \n",
            "727                -0.541968              -0.937334              1.508564  \n",
            "254                 1.845127              -0.937334             -0.662882  \n",
            "1175               -0.541968               1.066856             -0.662882  \n",
            "1341                1.845127              -0.937334             -0.662882  \n"
          ]
        }
      ]
    },
    {
      "cell_type": "code",
      "execution_count": 21,
      "metadata": {
        "colab": {
          "base_uri": "https://localhost:8080/"
        },
        "id": "-z0Mky8vQSz4",
        "outputId": "d23d8d4a-de02-45d1-9b57-623367be84ec"
      },
      "outputs": [
        {
          "output_type": "stream",
          "name": "stderr",
          "text": [
            "/usr/local/lib/python3.10/dist-packages/sklearn/preprocessing/_encoders.py:868: FutureWarning: `sparse` was renamed to `sparse_output` in version 1.2 and will be removed in 1.4. `sparse_output` is ignored unless you leave `sparse` to its default value.\n",
            "  warnings.warn(\n"
          ]
        },
        {
          "output_type": "execute_result",
          "data": {
            "text/plain": [
              "array([[0., 1., 0.],\n",
              "       [0., 1., 0.],\n",
              "       [0., 0., 1.],\n",
              "       ...,\n",
              "       [0., 1., 0.],\n",
              "       [0., 1., 0.],\n",
              "       [0., 0., 1.]])"
            ]
          },
          "metadata": {},
          "execution_count": 21
        }
      ],
      "source": [
        "# Create a OneHotEncoder for the Department column\n",
        "encode_department = OneHotEncoder(sparse=False)\n",
        "\n",
        "# Fit the encoder to the training data\n",
        "encode_department.fit(y_train[['Department']])\n",
        "\n",
        "# Create two new variables by applying the encoder\n",
        "# to the training and testing data\n",
        "y_train_department_encoded = encode_department.transform(y_train[['Department']])\n",
        "y_test_department_encoded = encode_department.transform(y_test[['Department']])\n",
        "\n",
        "# Looking at the training array created (for y_train, (encoded deparrtment))\n",
        "y_train_department_encoded"
      ]
    },
    {
      "cell_type": "code",
      "execution_count": 22,
      "metadata": {
        "colab": {
          "base_uri": "https://localhost:8080/"
        },
        "id": "-G4DSpvFRrk4",
        "outputId": "52fe18dd-5b46-4b18-c076-b873182711a5"
      },
      "outputs": [
        {
          "output_type": "execute_result",
          "data": {
            "text/plain": [
              "array([[1., 0.],\n",
              "       [1., 0.],\n",
              "       [1., 0.],\n",
              "       ...,\n",
              "       [0., 1.],\n",
              "       [1., 0.],\n",
              "       [1., 0.]])"
            ]
          },
          "metadata": {},
          "execution_count": 22
        }
      ],
      "source": [
        "# Create a OneHotEncoder for the Attrition column\n",
        "encode_attrition = OneHotEncoder(sparse_output=False)\n",
        "\n",
        "# Fit the encoder to the training data\n",
        "encode_attrition.fit(y_train[['Attrition']])\n",
        "\n",
        "# Create two new variables by applying the encoder\n",
        "# to the training and testing data\n",
        "y_train_attrition_encoded = encode_attrition.transform(y_train[['Attrition']])\n",
        "y_test_attrition_encoded = encode_attrition.transform(y_test[['Attrition']])\n",
        "\n",
        "# Print array\n",
        "y_train_attrition_encoded"
      ]
    },
    {
      "cell_type": "code",
      "source": [
        "# Additional verification step to check shape and display the beginning of the array\n",
        "print(y_train_department_encoded.shape)\n",
        "print(y_train_department_encoded[:10])"
      ],
      "metadata": {
        "colab": {
          "base_uri": "https://localhost:8080/"
        },
        "id": "NCCn6ZDACfq6",
        "outputId": "1923177e-1047-48ea-9e59-cb11a9394678"
      },
      "execution_count": 23,
      "outputs": [
        {
          "output_type": "stream",
          "name": "stdout",
          "text": [
            "(1176, 3)\n",
            "[[0. 1. 0.]\n",
            " [0. 1. 0.]\n",
            " [0. 0. 1.]\n",
            " [0. 1. 0.]\n",
            " [0. 1. 0.]\n",
            " [1. 0. 0.]\n",
            " [0. 1. 0.]\n",
            " [1. 0. 0.]\n",
            " [0. 0. 1.]\n",
            " [0. 1. 0.]]\n"
          ]
        }
      ]
    },
    {
      "cell_type": "markdown",
      "metadata": {
        "id": "ykNmu_WWGc3T"
      },
      "source": [
        "## Create, Compile, and Train the Model"
      ]
    },
    {
      "cell_type": "code",
      "source": [
        "# Verify correct installations/imports (Colab is a little funny with the way it handles this)\n",
        "# But in order to proceed, I absolutely need these\n",
        "# !pip install tensorflow\n",
        "# import tensorflow as tf\n",
        "from tensorflow.keras.models import Model\n",
        "from tensorflow.keras.layers import Input, Dense"
      ],
      "metadata": {
        "id": "McuVyRBnDgV-"
      },
      "execution_count": 24,
      "outputs": []
    },
    {
      "cell_type": "code",
      "source": [
        "# Verifying and checking the shape (this will be important for the output layer(s) creation)\n",
        "input_shape = X_train_scaled.shape[1]\n",
        "print(input_shape)"
      ],
      "metadata": {
        "colab": {
          "base_uri": "https://localhost:8080/"
        },
        "id": "KvgXYlqlMvqY",
        "outputId": "4dc4856e-dca7-4a4a-ba20-a95356c64975"
      },
      "execution_count": 25,
      "outputs": [
        {
          "output_type": "stream",
          "name": "stdout",
          "text": [
            "14\n"
          ]
        }
      ]
    },
    {
      "cell_type": "code",
      "source": [
        "# Checking again the array\n",
        "X_train_scaled"
      ],
      "metadata": {
        "colab": {
          "base_uri": "https://localhost:8080/"
        },
        "id": "dCowwRhMNFYB",
        "outputId": "dce8a68d-3b76-41cd-9dd2-196d1c6b66fa"
      },
      "execution_count": 26,
      "outputs": [
        {
          "output_type": "execute_result",
          "data": {
            "text/plain": [
              "array([[-1.1673683 , -0.47283217, -0.97426331, ...,  1.8451272 ,\n",
              "        -0.93733358, -0.66288195],\n",
              "       [-1.42339685,  0.30937375, -1.13857331, ..., -0.54196806,\n",
              "        -0.93733358,  1.50856422],\n",
              "       [-0.14325407, -1.05948661, -0.6456433 , ...,  1.8451272 ,\n",
              "        -0.93733358, -0.66288195],\n",
              "       ...,\n",
              "       [-1.29538258, -0.912823  , -1.13857331, ..., -0.54196806,\n",
              "         1.06685604, -0.66288195],\n",
              "       [-0.14325407, -1.01059874, -0.4813333 , ..., -0.54196806,\n",
              "         1.06685604, -0.66288195],\n",
              "       [ 2.03298865, -0.37505643, -0.97426331, ..., -0.54196806,\n",
              "         1.06685604, -0.66288195]])"
            ]
          },
          "metadata": {},
          "execution_count": 26
        }
      ]
    },
    {
      "cell_type": "code",
      "execution_count": 27,
      "metadata": {
        "id": "WUptZqmSGc3T"
      },
      "outputs": [],
      "source": [
        "# Reference (Mod. 19, day 3)\n",
        "\n",
        "# Find the number of columns in the X training data\n",
        "input_shape = X_train_scaled.shape[1]\n",
        "\n",
        "# Create the input layer\n",
        "input_layer = Input(shape=(input_shape))\n",
        "\n",
        "# Create at least two shared layers\n",
        "shared_layer_1 = Dense(128, activation='relu')(input_layer)\n",
        "shared_layer_2 = Dense(64, activation='relu')(shared_layer_1)"
      ]
    },
    {
      "cell_type": "code",
      "execution_count": 28,
      "metadata": {
        "id": "JukjTm2yTEqd"
      },
      "outputs": [],
      "source": [
        "# Create a branch for Department\n",
        "# with a hidden layer and an output layer\n",
        "\n",
        "# Choosing softmax\n",
        "\n",
        "# Create the hidden layer\n",
        "department_hidden = Dense(32, activation='relu')(shared_layer_2)\n",
        "\n",
        "# Create the output layer\n",
        "department_output = Dense(3, activation='softmax', name='department_output')(department_hidden)"
      ]
    },
    {
      "cell_type": "code",
      "execution_count": 29,
      "metadata": {
        "id": "9OqhUiOJUBkR"
      },
      "outputs": [],
      "source": [
        "# Create a branch for Attrition\n",
        "# with a hidden layer and an output layer\n",
        "\n",
        "# Choosing sigmoid\n",
        "\n",
        "# Create the hidden layer\n",
        "attrition_hidden = Dense(32, activation='relu')(shared_layer_2)\n",
        "\n",
        "# Create the output layer\n",
        "attrition_output = Dense(2, activation='sigmoid', name='attrition_output')(attrition_hidden)"
      ]
    },
    {
      "cell_type": "code",
      "execution_count": 30,
      "metadata": {
        "colab": {
          "base_uri": "https://localhost:8080/"
        },
        "id": "twmuejdxGc3T",
        "outputId": "b8cdcdfa-c117-400e-e3d0-312f8f457fc3"
      },
      "outputs": [
        {
          "output_type": "stream",
          "name": "stdout",
          "text": [
            "Model: \"model\"\n",
            "__________________________________________________________________________________________________\n",
            " Layer (type)                Output Shape                 Param #   Connected to                  \n",
            "==================================================================================================\n",
            " input_1 (InputLayer)        [(None, 14)]                 0         []                            \n",
            "                                                                                                  \n",
            " dense (Dense)               (None, 128)                  1920      ['input_1[0][0]']             \n",
            "                                                                                                  \n",
            " dense_1 (Dense)             (None, 64)                   8256      ['dense[0][0]']               \n",
            "                                                                                                  \n",
            " dense_2 (Dense)             (None, 32)                   2080      ['dense_1[0][0]']             \n",
            "                                                                                                  \n",
            " dense_3 (Dense)             (None, 32)                   2080      ['dense_1[0][0]']             \n",
            "                                                                                                  \n",
            " department_output (Dense)   (None, 3)                    99        ['dense_2[0][0]']             \n",
            "                                                                                                  \n",
            " attrition_output (Dense)    (None, 2)                    66        ['dense_3[0][0]']             \n",
            "                                                                                                  \n",
            "==================================================================================================\n",
            "Total params: 14501 (56.64 KB)\n",
            "Trainable params: 14501 (56.64 KB)\n",
            "Non-trainable params: 0 (0.00 Byte)\n",
            "__________________________________________________________________________________________________\n"
          ]
        }
      ],
      "source": [
        "# Create the model\n",
        "model = Model(inputs=input_layer, outputs=[department_output, attrition_output], name='model')\n",
        "\n",
        "# Compile the model\n",
        "\n",
        "model.compile(\n",
        "    optimizer='adam',\n",
        "    loss={\n",
        "        'department_output': 'categorical_crossentropy',\n",
        "        'attrition_output': 'categorical_crossentropy'\n",
        "    },\n",
        "    metrics={\n",
        "        'department_output': 'accuracy',\n",
        "        'attrition_output': 'accuracy'\n",
        "    }\n",
        ")\n",
        "# Summarize the model\n",
        "model.summary()"
      ]
    },
    {
      "cell_type": "code",
      "execution_count": 31,
      "metadata": {
        "colab": {
          "base_uri": "https://localhost:8080/"
        },
        "id": "c8oGy0dpGc3U",
        "outputId": "09f318ba-e1f6-4a62-d0f0-bf79c8b84449"
      },
      "outputs": [
        {
          "output_type": "stream",
          "name": "stdout",
          "text": [
            "Epoch 1/100\n",
            "37/37 [==============================] - 6s 59ms/step - loss: 1.3635 - department_output_loss: 0.8865 - attrition_output_loss: 0.4770 - department_output_accuracy: 0.5952 - attrition_output_accuracy: 0.8112 - val_loss: 1.1579 - val_department_output_loss: 0.7814 - val_attrition_output_loss: 0.3765 - val_department_output_accuracy: 0.6667 - val_attrition_output_accuracy: 0.8673\n",
            "Epoch 2/100\n",
            "37/37 [==============================] - 1s 21ms/step - loss: 1.1831 - department_output_loss: 0.7739 - attrition_output_loss: 0.4092 - department_output_accuracy: 0.6497 - attrition_output_accuracy: 0.8427 - val_loss: 1.1476 - val_department_output_loss: 0.7756 - val_attrition_output_loss: 0.3720 - val_department_output_accuracy: 0.6667 - val_attrition_output_accuracy: 0.8537\n",
            "Epoch 3/100\n",
            "37/37 [==============================] - 1s 17ms/step - loss: 1.1525 - department_output_loss: 0.7623 - attrition_output_loss: 0.3902 - department_output_accuracy: 0.6522 - attrition_output_accuracy: 0.8495 - val_loss: 1.1636 - val_department_output_loss: 0.7826 - val_attrition_output_loss: 0.3811 - val_department_output_accuracy: 0.6565 - val_attrition_output_accuracy: 0.8639\n",
            "Epoch 4/100\n",
            "37/37 [==============================] - 1s 14ms/step - loss: 1.1328 - department_output_loss: 0.7560 - attrition_output_loss: 0.3768 - department_output_accuracy: 0.6573 - attrition_output_accuracy: 0.8512 - val_loss: 1.1668 - val_department_output_loss: 0.7897 - val_attrition_output_loss: 0.3771 - val_department_output_accuracy: 0.6565 - val_attrition_output_accuracy: 0.8673\n",
            "Epoch 5/100\n",
            "37/37 [==============================] - 1s 17ms/step - loss: 1.1168 - department_output_loss: 0.7505 - attrition_output_loss: 0.3663 - department_output_accuracy: 0.6522 - attrition_output_accuracy: 0.8520 - val_loss: 1.1569 - val_department_output_loss: 0.7813 - val_attrition_output_loss: 0.3757 - val_department_output_accuracy: 0.6667 - val_attrition_output_accuracy: 0.8605\n",
            "Epoch 6/100\n",
            "37/37 [==============================] - 1s 18ms/step - loss: 1.1021 - department_output_loss: 0.7396 - attrition_output_loss: 0.3625 - department_output_accuracy: 0.6573 - attrition_output_accuracy: 0.8486 - val_loss: 1.1613 - val_department_output_loss: 0.7835 - val_attrition_output_loss: 0.3777 - val_department_output_accuracy: 0.6633 - val_attrition_output_accuracy: 0.8605\n",
            "Epoch 7/100\n",
            "37/37 [==============================] - 1s 21ms/step - loss: 1.0885 - department_output_loss: 0.7337 - attrition_output_loss: 0.3548 - department_output_accuracy: 0.6616 - attrition_output_accuracy: 0.8512 - val_loss: 1.1808 - val_department_output_loss: 0.7978 - val_attrition_output_loss: 0.3830 - val_department_output_accuracy: 0.6395 - val_attrition_output_accuracy: 0.8605\n",
            "Epoch 8/100\n",
            "37/37 [==============================] - 0s 10ms/step - loss: 1.0781 - department_output_loss: 0.7325 - attrition_output_loss: 0.3456 - department_output_accuracy: 0.6590 - attrition_output_accuracy: 0.8537 - val_loss: 1.1930 - val_department_output_loss: 0.7909 - val_attrition_output_loss: 0.4021 - val_department_output_accuracy: 0.6497 - val_attrition_output_accuracy: 0.8503\n",
            "Epoch 9/100\n",
            "37/37 [==============================] - 0s 9ms/step - loss: 1.0715 - department_output_loss: 0.7259 - attrition_output_loss: 0.3456 - department_output_accuracy: 0.6658 - attrition_output_accuracy: 0.8512 - val_loss: 1.2071 - val_department_output_loss: 0.7946 - val_attrition_output_loss: 0.4124 - val_department_output_accuracy: 0.6497 - val_attrition_output_accuracy: 0.8435\n",
            "Epoch 10/100\n",
            "37/37 [==============================] - 1s 17ms/step - loss: 1.0613 - department_output_loss: 0.7181 - attrition_output_loss: 0.3433 - department_output_accuracy: 0.6752 - attrition_output_accuracy: 0.8588 - val_loss: 1.2214 - val_department_output_loss: 0.7960 - val_attrition_output_loss: 0.4254 - val_department_output_accuracy: 0.6327 - val_attrition_output_accuracy: 0.8367\n",
            "Epoch 11/100\n",
            "37/37 [==============================] - 0s 8ms/step - loss: 1.0539 - department_output_loss: 0.7114 - attrition_output_loss: 0.3425 - department_output_accuracy: 0.6726 - attrition_output_accuracy: 0.8529 - val_loss: 1.1939 - val_department_output_loss: 0.7933 - val_attrition_output_loss: 0.4006 - val_department_output_accuracy: 0.6497 - val_attrition_output_accuracy: 0.8571\n",
            "Epoch 12/100\n",
            "37/37 [==============================] - 0s 9ms/step - loss: 1.0397 - department_output_loss: 0.7064 - attrition_output_loss: 0.3333 - department_output_accuracy: 0.6743 - attrition_output_accuracy: 0.8546 - val_loss: 1.2129 - val_department_output_loss: 0.7980 - val_attrition_output_loss: 0.4149 - val_department_output_accuracy: 0.6667 - val_attrition_output_accuracy: 0.8503\n",
            "Epoch 13/100\n",
            "37/37 [==============================] - 0s 10ms/step - loss: 1.0258 - department_output_loss: 0.6970 - attrition_output_loss: 0.3287 - department_output_accuracy: 0.6888 - attrition_output_accuracy: 0.8571 - val_loss: 1.2227 - val_department_output_loss: 0.8045 - val_attrition_output_loss: 0.4182 - val_department_output_accuracy: 0.6531 - val_attrition_output_accuracy: 0.8537\n",
            "Epoch 14/100\n",
            "37/37 [==============================] - 0s 9ms/step - loss: 1.0063 - department_output_loss: 0.6856 - attrition_output_loss: 0.3207 - department_output_accuracy: 0.6939 - attrition_output_accuracy: 0.8673 - val_loss: 1.2279 - val_department_output_loss: 0.8140 - val_attrition_output_loss: 0.4139 - val_department_output_accuracy: 0.6259 - val_attrition_output_accuracy: 0.8503\n",
            "Epoch 15/100\n",
            "37/37 [==============================] - 0s 12ms/step - loss: 0.9955 - department_output_loss: 0.6830 - attrition_output_loss: 0.3124 - department_output_accuracy: 0.6964 - attrition_output_accuracy: 0.8673 - val_loss: 1.2405 - val_department_output_loss: 0.8139 - val_attrition_output_loss: 0.4266 - val_department_output_accuracy: 0.6599 - val_attrition_output_accuracy: 0.8503\n",
            "Epoch 16/100\n",
            "37/37 [==============================] - 0s 11ms/step - loss: 0.9966 - department_output_loss: 0.6770 - attrition_output_loss: 0.3197 - department_output_accuracy: 0.7015 - attrition_output_accuracy: 0.8520 - val_loss: 1.2477 - val_department_output_loss: 0.8209 - val_attrition_output_loss: 0.4268 - val_department_output_accuracy: 0.6224 - val_attrition_output_accuracy: 0.8469\n",
            "Epoch 17/100\n",
            "37/37 [==============================] - 0s 12ms/step - loss: 0.9841 - department_output_loss: 0.6664 - attrition_output_loss: 0.3177 - department_output_accuracy: 0.7058 - attrition_output_accuracy: 0.8605 - val_loss: 1.2364 - val_department_output_loss: 0.8142 - val_attrition_output_loss: 0.4222 - val_department_output_accuracy: 0.6565 - val_attrition_output_accuracy: 0.8469\n",
            "Epoch 18/100\n",
            "37/37 [==============================] - 0s 12ms/step - loss: 0.9602 - department_output_loss: 0.6564 - attrition_output_loss: 0.3037 - department_output_accuracy: 0.7083 - attrition_output_accuracy: 0.8682 - val_loss: 1.2651 - val_department_output_loss: 0.8305 - val_attrition_output_loss: 0.4346 - val_department_output_accuracy: 0.6054 - val_attrition_output_accuracy: 0.8401\n",
            "Epoch 19/100\n",
            "37/37 [==============================] - 0s 13ms/step - loss: 0.9478 - department_output_loss: 0.6455 - attrition_output_loss: 0.3023 - department_output_accuracy: 0.7211 - attrition_output_accuracy: 0.8750 - val_loss: 1.2603 - val_department_output_loss: 0.8212 - val_attrition_output_loss: 0.4391 - val_department_output_accuracy: 0.6429 - val_attrition_output_accuracy: 0.8469\n",
            "Epoch 20/100\n",
            "37/37 [==============================] - 1s 18ms/step - loss: 0.9327 - department_output_loss: 0.6397 - attrition_output_loss: 0.2930 - department_output_accuracy: 0.7109 - attrition_output_accuracy: 0.8741 - val_loss: 1.2615 - val_department_output_loss: 0.8252 - val_attrition_output_loss: 0.4363 - val_department_output_accuracy: 0.6395 - val_attrition_output_accuracy: 0.8605\n",
            "Epoch 21/100\n",
            "37/37 [==============================] - 0s 12ms/step - loss: 0.9150 - department_output_loss: 0.6230 - attrition_output_loss: 0.2920 - department_output_accuracy: 0.7236 - attrition_output_accuracy: 0.8750 - val_loss: 1.2652 - val_department_output_loss: 0.8300 - val_attrition_output_loss: 0.4352 - val_department_output_accuracy: 0.6327 - val_attrition_output_accuracy: 0.8435\n",
            "Epoch 22/100\n",
            "37/37 [==============================] - 1s 15ms/step - loss: 0.9045 - department_output_loss: 0.6196 - attrition_output_loss: 0.2849 - department_output_accuracy: 0.7287 - attrition_output_accuracy: 0.8776 - val_loss: 1.2784 - val_department_output_loss: 0.8335 - val_attrition_output_loss: 0.4448 - val_department_output_accuracy: 0.6565 - val_attrition_output_accuracy: 0.8333\n",
            "Epoch 23/100\n",
            "37/37 [==============================] - 1s 17ms/step - loss: 0.8839 - department_output_loss: 0.6083 - attrition_output_loss: 0.2756 - department_output_accuracy: 0.7313 - attrition_output_accuracy: 0.8793 - val_loss: 1.3055 - val_department_output_loss: 0.8510 - val_attrition_output_loss: 0.4545 - val_department_output_accuracy: 0.6361 - val_attrition_output_accuracy: 0.8469\n",
            "Epoch 24/100\n",
            "37/37 [==============================] - 0s 11ms/step - loss: 0.8707 - department_output_loss: 0.5996 - attrition_output_loss: 0.2712 - department_output_accuracy: 0.7304 - attrition_output_accuracy: 0.8878 - val_loss: 1.3340 - val_department_output_loss: 0.8580 - val_attrition_output_loss: 0.4760 - val_department_output_accuracy: 0.6156 - val_attrition_output_accuracy: 0.8299\n",
            "Epoch 25/100\n",
            "37/37 [==============================] - 0s 14ms/step - loss: 0.8657 - department_output_loss: 0.5933 - attrition_output_loss: 0.2724 - department_output_accuracy: 0.7364 - attrition_output_accuracy: 0.8835 - val_loss: 1.3251 - val_department_output_loss: 0.8565 - val_attrition_output_loss: 0.4686 - val_department_output_accuracy: 0.6361 - val_attrition_output_accuracy: 0.8435\n",
            "Epoch 26/100\n",
            "37/37 [==============================] - 1s 15ms/step - loss: 0.8388 - department_output_loss: 0.5796 - attrition_output_loss: 0.2592 - department_output_accuracy: 0.7491 - attrition_output_accuracy: 0.8852 - val_loss: 1.3553 - val_department_output_loss: 0.8860 - val_attrition_output_loss: 0.4693 - val_department_output_accuracy: 0.5816 - val_attrition_output_accuracy: 0.8265\n",
            "Epoch 27/100\n",
            "37/37 [==============================] - 0s 12ms/step - loss: 0.8288 - department_output_loss: 0.5701 - attrition_output_loss: 0.2587 - department_output_accuracy: 0.7509 - attrition_output_accuracy: 0.8886 - val_loss: 1.3568 - val_department_output_loss: 0.8716 - val_attrition_output_loss: 0.4852 - val_department_output_accuracy: 0.6259 - val_attrition_output_accuracy: 0.8435\n",
            "Epoch 28/100\n",
            "37/37 [==============================] - 1s 18ms/step - loss: 0.8161 - department_output_loss: 0.5568 - attrition_output_loss: 0.2593 - department_output_accuracy: 0.7611 - attrition_output_accuracy: 0.8878 - val_loss: 1.3627 - val_department_output_loss: 0.8852 - val_attrition_output_loss: 0.4775 - val_department_output_accuracy: 0.6361 - val_attrition_output_accuracy: 0.8435\n",
            "Epoch 29/100\n",
            "37/37 [==============================] - 1s 19ms/step - loss: 0.7974 - department_output_loss: 0.5488 - attrition_output_loss: 0.2486 - department_output_accuracy: 0.7577 - attrition_output_accuracy: 0.8929 - val_loss: 1.3900 - val_department_output_loss: 0.9000 - val_attrition_output_loss: 0.4899 - val_department_output_accuracy: 0.6190 - val_attrition_output_accuracy: 0.8571\n",
            "Epoch 30/100\n",
            "37/37 [==============================] - 1s 14ms/step - loss: 0.7745 - department_output_loss: 0.5386 - attrition_output_loss: 0.2359 - department_output_accuracy: 0.7611 - attrition_output_accuracy: 0.8980 - val_loss: 1.4567 - val_department_output_loss: 0.9347 - val_attrition_output_loss: 0.5220 - val_department_output_accuracy: 0.6054 - val_attrition_output_accuracy: 0.8129\n",
            "Epoch 31/100\n",
            "37/37 [==============================] - 1s 21ms/step - loss: 0.7713 - department_output_loss: 0.5337 - attrition_output_loss: 0.2376 - department_output_accuracy: 0.7730 - attrition_output_accuracy: 0.8946 - val_loss: 1.4359 - val_department_output_loss: 0.9332 - val_attrition_output_loss: 0.5026 - val_department_output_accuracy: 0.5850 - val_attrition_output_accuracy: 0.8333\n",
            "Epoch 32/100\n",
            "37/37 [==============================] - 1s 19ms/step - loss: 0.7354 - department_output_loss: 0.5098 - attrition_output_loss: 0.2256 - department_output_accuracy: 0.7883 - attrition_output_accuracy: 0.9039 - val_loss: 1.4538 - val_department_output_loss: 0.9392 - val_attrition_output_loss: 0.5146 - val_department_output_accuracy: 0.6395 - val_attrition_output_accuracy: 0.8401\n",
            "Epoch 33/100\n",
            "37/37 [==============================] - 1s 18ms/step - loss: 0.7524 - department_output_loss: 0.5143 - attrition_output_loss: 0.2381 - department_output_accuracy: 0.7806 - attrition_output_accuracy: 0.8980 - val_loss: 1.5304 - val_department_output_loss: 0.9542 - val_attrition_output_loss: 0.5762 - val_department_output_accuracy: 0.5986 - val_attrition_output_accuracy: 0.7959\n",
            "Epoch 34/100\n",
            "37/37 [==============================] - 1s 20ms/step - loss: 0.7276 - department_output_loss: 0.5013 - attrition_output_loss: 0.2264 - department_output_accuracy: 0.7942 - attrition_output_accuracy: 0.9048 - val_loss: 1.5123 - val_department_output_loss: 0.9794 - val_attrition_output_loss: 0.5329 - val_department_output_accuracy: 0.6054 - val_attrition_output_accuracy: 0.8503\n",
            "Epoch 35/100\n",
            "37/37 [==============================] - 1s 20ms/step - loss: 0.7199 - department_output_loss: 0.4983 - attrition_output_loss: 0.2216 - department_output_accuracy: 0.7849 - attrition_output_accuracy: 0.9073 - val_loss: 1.5241 - val_department_output_loss: 0.9772 - val_attrition_output_loss: 0.5468 - val_department_output_accuracy: 0.6122 - val_attrition_output_accuracy: 0.8197\n",
            "Epoch 36/100\n",
            "37/37 [==============================] - 0s 5ms/step - loss: 0.6925 - department_output_loss: 0.4815 - attrition_output_loss: 0.2109 - department_output_accuracy: 0.7942 - attrition_output_accuracy: 0.9150 - val_loss: 1.5427 - val_department_output_loss: 0.9866 - val_attrition_output_loss: 0.5561 - val_department_output_accuracy: 0.6259 - val_attrition_output_accuracy: 0.8231\n",
            "Epoch 37/100\n",
            "37/37 [==============================] - 0s 5ms/step - loss: 0.6750 - department_output_loss: 0.4705 - attrition_output_loss: 0.2045 - department_output_accuracy: 0.8019 - attrition_output_accuracy: 0.9133 - val_loss: 1.5557 - val_department_output_loss: 1.0013 - val_attrition_output_loss: 0.5544 - val_department_output_accuracy: 0.6054 - val_attrition_output_accuracy: 0.8401\n",
            "Epoch 38/100\n",
            "37/37 [==============================] - 0s 5ms/step - loss: 0.6623 - department_output_loss: 0.4560 - attrition_output_loss: 0.2063 - department_output_accuracy: 0.8070 - attrition_output_accuracy: 0.9158 - val_loss: 1.6223 - val_department_output_loss: 1.0498 - val_attrition_output_loss: 0.5725 - val_department_output_accuracy: 0.6259 - val_attrition_output_accuracy: 0.8503\n",
            "Epoch 39/100\n",
            "37/37 [==============================] - 0s 6ms/step - loss: 0.6612 - department_output_loss: 0.4620 - attrition_output_loss: 0.1992 - department_output_accuracy: 0.8070 - attrition_output_accuracy: 0.9141 - val_loss: 1.6276 - val_department_output_loss: 1.0453 - val_attrition_output_loss: 0.5823 - val_department_output_accuracy: 0.5782 - val_attrition_output_accuracy: 0.8095\n",
            "Epoch 40/100\n",
            "37/37 [==============================] - 0s 5ms/step - loss: 0.6313 - department_output_loss: 0.4452 - attrition_output_loss: 0.1861 - department_output_accuracy: 0.8104 - attrition_output_accuracy: 0.9328 - val_loss: 1.6285 - val_department_output_loss: 1.0233 - val_attrition_output_loss: 0.6052 - val_department_output_accuracy: 0.6054 - val_attrition_output_accuracy: 0.8163\n",
            "Epoch 41/100\n",
            "37/37 [==============================] - 0s 5ms/step - loss: 0.6232 - department_output_loss: 0.4345 - attrition_output_loss: 0.1886 - department_output_accuracy: 0.8138 - attrition_output_accuracy: 0.9294 - val_loss: 1.6462 - val_department_output_loss: 1.0420 - val_attrition_output_loss: 0.6042 - val_department_output_accuracy: 0.6088 - val_attrition_output_accuracy: 0.8197\n",
            "Epoch 42/100\n",
            "37/37 [==============================] - 0s 6ms/step - loss: 0.6137 - department_output_loss: 0.4281 - attrition_output_loss: 0.1856 - department_output_accuracy: 0.8308 - attrition_output_accuracy: 0.9269 - val_loss: 1.7011 - val_department_output_loss: 1.0657 - val_attrition_output_loss: 0.6353 - val_department_output_accuracy: 0.6054 - val_attrition_output_accuracy: 0.8095\n",
            "Epoch 43/100\n",
            "37/37 [==============================] - 0s 5ms/step - loss: 0.5998 - department_output_loss: 0.4149 - attrition_output_loss: 0.1849 - department_output_accuracy: 0.8308 - attrition_output_accuracy: 0.9201 - val_loss: 1.7824 - val_department_output_loss: 1.0920 - val_attrition_output_loss: 0.6904 - val_department_output_accuracy: 0.6122 - val_attrition_output_accuracy: 0.7925\n",
            "Epoch 44/100\n",
            "37/37 [==============================] - 0s 5ms/step - loss: 0.5850 - department_output_loss: 0.4053 - attrition_output_loss: 0.1796 - department_output_accuracy: 0.8469 - attrition_output_accuracy: 0.9269 - val_loss: 1.7867 - val_department_output_loss: 1.1259 - val_attrition_output_loss: 0.6608 - val_department_output_accuracy: 0.5680 - val_attrition_output_accuracy: 0.8061\n",
            "Epoch 45/100\n",
            "37/37 [==============================] - 0s 6ms/step - loss: 0.5776 - department_output_loss: 0.4031 - attrition_output_loss: 0.1745 - department_output_accuracy: 0.8350 - attrition_output_accuracy: 0.9286 - val_loss: 1.8386 - val_department_output_loss: 1.1458 - val_attrition_output_loss: 0.6928 - val_department_output_accuracy: 0.5646 - val_attrition_output_accuracy: 0.7993\n",
            "Epoch 46/100\n",
            "37/37 [==============================] - 0s 6ms/step - loss: 0.5754 - department_output_loss: 0.3979 - attrition_output_loss: 0.1776 - department_output_accuracy: 0.8299 - attrition_output_accuracy: 0.9286 - val_loss: 1.8510 - val_department_output_loss: 1.1599 - val_attrition_output_loss: 0.6911 - val_department_output_accuracy: 0.5646 - val_attrition_output_accuracy: 0.7925\n",
            "Epoch 47/100\n",
            "37/37 [==============================] - 0s 5ms/step - loss: 0.5593 - department_output_loss: 0.3952 - attrition_output_loss: 0.1641 - department_output_accuracy: 0.8427 - attrition_output_accuracy: 0.9345 - val_loss: 1.8773 - val_department_output_loss: 1.1604 - val_attrition_output_loss: 0.7169 - val_department_output_accuracy: 0.5680 - val_attrition_output_accuracy: 0.8061\n",
            "Epoch 48/100\n",
            "37/37 [==============================] - 0s 7ms/step - loss: 0.5471 - department_output_loss: 0.3749 - attrition_output_loss: 0.1722 - department_output_accuracy: 0.8537 - attrition_output_accuracy: 0.9286 - val_loss: 1.9343 - val_department_output_loss: 1.2248 - val_attrition_output_loss: 0.7096 - val_department_output_accuracy: 0.5612 - val_attrition_output_accuracy: 0.8265\n",
            "Epoch 49/100\n",
            "37/37 [==============================] - 0s 6ms/step - loss: 0.5396 - department_output_loss: 0.3783 - attrition_output_loss: 0.1613 - department_output_accuracy: 0.8444 - attrition_output_accuracy: 0.9371 - val_loss: 1.9431 - val_department_output_loss: 1.2175 - val_attrition_output_loss: 0.7256 - val_department_output_accuracy: 0.5646 - val_attrition_output_accuracy: 0.7891\n",
            "Epoch 50/100\n",
            "37/37 [==============================] - 0s 6ms/step - loss: 0.5076 - department_output_loss: 0.3572 - attrition_output_loss: 0.1504 - department_output_accuracy: 0.8537 - attrition_output_accuracy: 0.9379 - val_loss: 2.0008 - val_department_output_loss: 1.2591 - val_attrition_output_loss: 0.7417 - val_department_output_accuracy: 0.6293 - val_attrition_output_accuracy: 0.8027\n",
            "Epoch 51/100\n",
            "37/37 [==============================] - 0s 6ms/step - loss: 0.5421 - department_output_loss: 0.3885 - attrition_output_loss: 0.1537 - department_output_accuracy: 0.8444 - attrition_output_accuracy: 0.9396 - val_loss: 1.9870 - val_department_output_loss: 1.2630 - val_attrition_output_loss: 0.7240 - val_department_output_accuracy: 0.6020 - val_attrition_output_accuracy: 0.8401\n",
            "Epoch 52/100\n",
            "37/37 [==============================] - 0s 7ms/step - loss: 0.5076 - department_output_loss: 0.3520 - attrition_output_loss: 0.1557 - department_output_accuracy: 0.8580 - attrition_output_accuracy: 0.9371 - val_loss: 2.0059 - val_department_output_loss: 1.2397 - val_attrition_output_loss: 0.7661 - val_department_output_accuracy: 0.5578 - val_attrition_output_accuracy: 0.7993\n",
            "Epoch 53/100\n",
            "37/37 [==============================] - 0s 6ms/step - loss: 0.5042 - department_output_loss: 0.3600 - attrition_output_loss: 0.1442 - department_output_accuracy: 0.8537 - attrition_output_accuracy: 0.9507 - val_loss: 2.0290 - val_department_output_loss: 1.2284 - val_attrition_output_loss: 0.8006 - val_department_output_accuracy: 0.5782 - val_attrition_output_accuracy: 0.7823\n",
            "Epoch 54/100\n",
            "37/37 [==============================] - 0s 6ms/step - loss: 0.4800 - department_output_loss: 0.3362 - attrition_output_loss: 0.1437 - department_output_accuracy: 0.8690 - attrition_output_accuracy: 0.9456 - val_loss: 2.0194 - val_department_output_loss: 1.2421 - val_attrition_output_loss: 0.7773 - val_department_output_accuracy: 0.5850 - val_attrition_output_accuracy: 0.8027\n",
            "Epoch 55/100\n",
            "37/37 [==============================] - 0s 7ms/step - loss: 0.4677 - department_output_loss: 0.3293 - attrition_output_loss: 0.1384 - department_output_accuracy: 0.8835 - attrition_output_accuracy: 0.9490 - val_loss: 2.0943 - val_department_output_loss: 1.2915 - val_attrition_output_loss: 0.8028 - val_department_output_accuracy: 0.5714 - val_attrition_output_accuracy: 0.8129\n",
            "Epoch 56/100\n",
            "37/37 [==============================] - 0s 5ms/step - loss: 0.4517 - department_output_loss: 0.3183 - attrition_output_loss: 0.1334 - department_output_accuracy: 0.8784 - attrition_output_accuracy: 0.9456 - val_loss: 2.1683 - val_department_output_loss: 1.3199 - val_attrition_output_loss: 0.8484 - val_department_output_accuracy: 0.5816 - val_attrition_output_accuracy: 0.7653\n",
            "Epoch 57/100\n",
            "37/37 [==============================] - 0s 5ms/step - loss: 0.4519 - department_output_loss: 0.3182 - attrition_output_loss: 0.1337 - department_output_accuracy: 0.8682 - attrition_output_accuracy: 0.9473 - val_loss: 2.1768 - val_department_output_loss: 1.3326 - val_attrition_output_loss: 0.8442 - val_department_output_accuracy: 0.5884 - val_attrition_output_accuracy: 0.8061\n",
            "Epoch 58/100\n",
            "37/37 [==============================] - 0s 7ms/step - loss: 0.4445 - department_output_loss: 0.3191 - attrition_output_loss: 0.1254 - department_output_accuracy: 0.8827 - attrition_output_accuracy: 0.9532 - val_loss: 2.1927 - val_department_output_loss: 1.3578 - val_attrition_output_loss: 0.8349 - val_department_output_accuracy: 0.5680 - val_attrition_output_accuracy: 0.7789\n",
            "Epoch 59/100\n",
            "37/37 [==============================] - 0s 6ms/step - loss: 0.4250 - department_output_loss: 0.3019 - attrition_output_loss: 0.1231 - department_output_accuracy: 0.8835 - attrition_output_accuracy: 0.9549 - val_loss: 2.2191 - val_department_output_loss: 1.3674 - val_attrition_output_loss: 0.8517 - val_department_output_accuracy: 0.5850 - val_attrition_output_accuracy: 0.8129\n",
            "Epoch 60/100\n",
            "37/37 [==============================] - 0s 5ms/step - loss: 0.4447 - department_output_loss: 0.3064 - attrition_output_loss: 0.1384 - department_output_accuracy: 0.8759 - attrition_output_accuracy: 0.9515 - val_loss: 2.2847 - val_department_output_loss: 1.3903 - val_attrition_output_loss: 0.8944 - val_department_output_accuracy: 0.5578 - val_attrition_output_accuracy: 0.7959\n",
            "Epoch 61/100\n",
            "37/37 [==============================] - 0s 6ms/step - loss: 0.4324 - department_output_loss: 0.2939 - attrition_output_loss: 0.1386 - department_output_accuracy: 0.8810 - attrition_output_accuracy: 0.9447 - val_loss: 2.2944 - val_department_output_loss: 1.4217 - val_attrition_output_loss: 0.8727 - val_department_output_accuracy: 0.5884 - val_attrition_output_accuracy: 0.8027\n",
            "Epoch 62/100\n",
            "37/37 [==============================] - 0s 6ms/step - loss: 0.4102 - department_output_loss: 0.2860 - attrition_output_loss: 0.1242 - department_output_accuracy: 0.8912 - attrition_output_accuracy: 0.9566 - val_loss: 2.3084 - val_department_output_loss: 1.4202 - val_attrition_output_loss: 0.8881 - val_department_output_accuracy: 0.5918 - val_attrition_output_accuracy: 0.8095\n",
            "Epoch 63/100\n",
            "37/37 [==============================] - 0s 5ms/step - loss: 0.3974 - department_output_loss: 0.2801 - attrition_output_loss: 0.1173 - department_output_accuracy: 0.8937 - attrition_output_accuracy: 0.9549 - val_loss: 2.4050 - val_department_output_loss: 1.4920 - val_attrition_output_loss: 0.9130 - val_department_output_accuracy: 0.5986 - val_attrition_output_accuracy: 0.8231\n",
            "Epoch 64/100\n",
            "37/37 [==============================] - 0s 6ms/step - loss: 0.4035 - department_output_loss: 0.2721 - attrition_output_loss: 0.1313 - department_output_accuracy: 0.8929 - attrition_output_accuracy: 0.9464 - val_loss: 2.3452 - val_department_output_loss: 1.4615 - val_attrition_output_loss: 0.8837 - val_department_output_accuracy: 0.5748 - val_attrition_output_accuracy: 0.8197\n",
            "Epoch 65/100\n",
            "37/37 [==============================] - 0s 5ms/step - loss: 0.3847 - department_output_loss: 0.2703 - attrition_output_loss: 0.1144 - department_output_accuracy: 0.8963 - attrition_output_accuracy: 0.9617 - val_loss: 2.4125 - val_department_output_loss: 1.4818 - val_attrition_output_loss: 0.9307 - val_department_output_accuracy: 0.5714 - val_attrition_output_accuracy: 0.7823\n",
            "Epoch 66/100\n",
            "37/37 [==============================] - 0s 6ms/step - loss: 0.3845 - department_output_loss: 0.2697 - attrition_output_loss: 0.1148 - department_output_accuracy: 0.8878 - attrition_output_accuracy: 0.9566 - val_loss: 2.4957 - val_department_output_loss: 1.5420 - val_attrition_output_loss: 0.9537 - val_department_output_accuracy: 0.5714 - val_attrition_output_accuracy: 0.8027\n",
            "Epoch 67/100\n",
            "37/37 [==============================] - 0s 5ms/step - loss: 0.3801 - department_output_loss: 0.2730 - attrition_output_loss: 0.1071 - department_output_accuracy: 0.9005 - attrition_output_accuracy: 0.9617 - val_loss: 2.4648 - val_department_output_loss: 1.5309 - val_attrition_output_loss: 0.9339 - val_department_output_accuracy: 0.5782 - val_attrition_output_accuracy: 0.7959\n",
            "Epoch 68/100\n",
            "37/37 [==============================] - 0s 6ms/step - loss: 0.3840 - department_output_loss: 0.2809 - attrition_output_loss: 0.1031 - department_output_accuracy: 0.8827 - attrition_output_accuracy: 0.9626 - val_loss: 2.5236 - val_department_output_loss: 1.5788 - val_attrition_output_loss: 0.9448 - val_department_output_accuracy: 0.5748 - val_attrition_output_accuracy: 0.7925\n",
            "Epoch 69/100\n",
            "37/37 [==============================] - 0s 6ms/step - loss: 0.3458 - department_output_loss: 0.2446 - attrition_output_loss: 0.1012 - department_output_accuracy: 0.9065 - attrition_output_accuracy: 0.9651 - val_loss: 2.5365 - val_department_output_loss: 1.5785 - val_attrition_output_loss: 0.9581 - val_department_output_accuracy: 0.5816 - val_attrition_output_accuracy: 0.8061\n",
            "Epoch 70/100\n",
            "37/37 [==============================] - 0s 6ms/step - loss: 0.3536 - department_output_loss: 0.2480 - attrition_output_loss: 0.1056 - department_output_accuracy: 0.9005 - attrition_output_accuracy: 0.9575 - val_loss: 2.6129 - val_department_output_loss: 1.6146 - val_attrition_output_loss: 0.9983 - val_department_output_accuracy: 0.5850 - val_attrition_output_accuracy: 0.8027\n",
            "Epoch 71/100\n",
            "37/37 [==============================] - 0s 5ms/step - loss: 0.3311 - department_output_loss: 0.2377 - attrition_output_loss: 0.0933 - department_output_accuracy: 0.9099 - attrition_output_accuracy: 0.9702 - val_loss: 2.6467 - val_department_output_loss: 1.6271 - val_attrition_output_loss: 1.0195 - val_department_output_accuracy: 0.5884 - val_attrition_output_accuracy: 0.7653\n",
            "Epoch 72/100\n",
            "37/37 [==============================] - 0s 6ms/step - loss: 0.3397 - department_output_loss: 0.2404 - attrition_output_loss: 0.0993 - department_output_accuracy: 0.9005 - attrition_output_accuracy: 0.9617 - val_loss: 2.6735 - val_department_output_loss: 1.6663 - val_attrition_output_loss: 1.0072 - val_department_output_accuracy: 0.5782 - val_attrition_output_accuracy: 0.8061\n",
            "Epoch 73/100\n",
            "37/37 [==============================] - 0s 5ms/step - loss: 0.3345 - department_output_loss: 0.2375 - attrition_output_loss: 0.0970 - department_output_accuracy: 0.9116 - attrition_output_accuracy: 0.9660 - val_loss: 2.6891 - val_department_output_loss: 1.6708 - val_attrition_output_loss: 1.0184 - val_department_output_accuracy: 0.5714 - val_attrition_output_accuracy: 0.8061\n",
            "Epoch 74/100\n",
            "37/37 [==============================] - 0s 5ms/step - loss: 0.3181 - department_output_loss: 0.2269 - attrition_output_loss: 0.0911 - department_output_accuracy: 0.9133 - attrition_output_accuracy: 0.9694 - val_loss: 2.7866 - val_department_output_loss: 1.6870 - val_attrition_output_loss: 1.0995 - val_department_output_accuracy: 0.5748 - val_attrition_output_accuracy: 0.7857\n",
            "Epoch 75/100\n",
            "37/37 [==============================] - 0s 6ms/step - loss: 0.3169 - department_output_loss: 0.2212 - attrition_output_loss: 0.0957 - department_output_accuracy: 0.9201 - attrition_output_accuracy: 0.9626 - val_loss: 2.7651 - val_department_output_loss: 1.7092 - val_attrition_output_loss: 1.0559 - val_department_output_accuracy: 0.5612 - val_attrition_output_accuracy: 0.8163\n",
            "Epoch 76/100\n",
            "37/37 [==============================] - 0s 6ms/step - loss: 0.2988 - department_output_loss: 0.2089 - attrition_output_loss: 0.0899 - department_output_accuracy: 0.9235 - attrition_output_accuracy: 0.9711 - val_loss: 2.8118 - val_department_output_loss: 1.7106 - val_attrition_output_loss: 1.1011 - val_department_output_accuracy: 0.5612 - val_attrition_output_accuracy: 0.7857\n",
            "Epoch 77/100\n",
            "37/37 [==============================] - 0s 8ms/step - loss: 0.3318 - department_output_loss: 0.2239 - attrition_output_loss: 0.1078 - department_output_accuracy: 0.9184 - attrition_output_accuracy: 0.9592 - val_loss: 2.9293 - val_department_output_loss: 1.8201 - val_attrition_output_loss: 1.1092 - val_department_output_accuracy: 0.6054 - val_attrition_output_accuracy: 0.7857\n",
            "Epoch 78/100\n",
            "37/37 [==============================] - 0s 8ms/step - loss: 0.3204 - department_output_loss: 0.2292 - attrition_output_loss: 0.0912 - department_output_accuracy: 0.9141 - attrition_output_accuracy: 0.9677 - val_loss: 2.9778 - val_department_output_loss: 1.8626 - val_attrition_output_loss: 1.1152 - val_department_output_accuracy: 0.5986 - val_attrition_output_accuracy: 0.7959\n",
            "Epoch 79/100\n",
            "37/37 [==============================] - 0s 9ms/step - loss: 0.3205 - department_output_loss: 0.2358 - attrition_output_loss: 0.0846 - department_output_accuracy: 0.9031 - attrition_output_accuracy: 0.9728 - val_loss: 2.9071 - val_department_output_loss: 1.8069 - val_attrition_output_loss: 1.1002 - val_department_output_accuracy: 0.5680 - val_attrition_output_accuracy: 0.7959\n",
            "Epoch 80/100\n",
            "37/37 [==============================] - 0s 8ms/step - loss: 0.3224 - department_output_loss: 0.2345 - attrition_output_loss: 0.0878 - department_output_accuracy: 0.9005 - attrition_output_accuracy: 0.9711 - val_loss: 2.9238 - val_department_output_loss: 1.8127 - val_attrition_output_loss: 1.1111 - val_department_output_accuracy: 0.5850 - val_attrition_output_accuracy: 0.7959\n",
            "Epoch 81/100\n",
            "37/37 [==============================] - 0s 10ms/step - loss: 0.2847 - department_output_loss: 0.2046 - attrition_output_loss: 0.0801 - department_output_accuracy: 0.9218 - attrition_output_accuracy: 0.9711 - val_loss: 2.9946 - val_department_output_loss: 1.8542 - val_attrition_output_loss: 1.1404 - val_department_output_accuracy: 0.5748 - val_attrition_output_accuracy: 0.8027\n",
            "Epoch 82/100\n",
            "37/37 [==============================] - 0s 9ms/step - loss: 0.2783 - department_output_loss: 0.1984 - attrition_output_loss: 0.0800 - department_output_accuracy: 0.9235 - attrition_output_accuracy: 0.9702 - val_loss: 3.0887 - val_department_output_loss: 1.8674 - val_attrition_output_loss: 1.2213 - val_department_output_accuracy: 0.5578 - val_attrition_output_accuracy: 0.7891\n",
            "Epoch 83/100\n",
            "37/37 [==============================] - 0s 9ms/step - loss: 0.2725 - department_output_loss: 0.1841 - attrition_output_loss: 0.0884 - department_output_accuracy: 0.9345 - attrition_output_accuracy: 0.9626 - val_loss: 3.0403 - val_department_output_loss: 1.8839 - val_attrition_output_loss: 1.1564 - val_department_output_accuracy: 0.5578 - val_attrition_output_accuracy: 0.7993\n",
            "Epoch 84/100\n",
            "37/37 [==============================] - 0s 9ms/step - loss: 0.2562 - department_output_loss: 0.1791 - attrition_output_loss: 0.0771 - department_output_accuracy: 0.9320 - attrition_output_accuracy: 0.9779 - val_loss: 3.1466 - val_department_output_loss: 1.9382 - val_attrition_output_loss: 1.2084 - val_department_output_accuracy: 0.5612 - val_attrition_output_accuracy: 0.7857\n",
            "Epoch 85/100\n",
            "37/37 [==============================] - 0s 10ms/step - loss: 0.2603 - department_output_loss: 0.1817 - attrition_output_loss: 0.0786 - department_output_accuracy: 0.9362 - attrition_output_accuracy: 0.9685 - val_loss: 3.2115 - val_department_output_loss: 1.9594 - val_attrition_output_loss: 1.2521 - val_department_output_accuracy: 0.5748 - val_attrition_output_accuracy: 0.7823\n",
            "Epoch 86/100\n",
            "37/37 [==============================] - 0s 10ms/step - loss: 0.2533 - department_output_loss: 0.1829 - attrition_output_loss: 0.0704 - department_output_accuracy: 0.9303 - attrition_output_accuracy: 0.9728 - val_loss: 3.1794 - val_department_output_loss: 1.9390 - val_attrition_output_loss: 1.2405 - val_department_output_accuracy: 0.5714 - val_attrition_output_accuracy: 0.7789\n",
            "Epoch 87/100\n",
            "37/37 [==============================] - 0s 6ms/step - loss: 0.2645 - department_output_loss: 0.1823 - attrition_output_loss: 0.0822 - department_output_accuracy: 0.9345 - attrition_output_accuracy: 0.9736 - val_loss: 3.2518 - val_department_output_loss: 2.0085 - val_attrition_output_loss: 1.2432 - val_department_output_accuracy: 0.5578 - val_attrition_output_accuracy: 0.8061\n",
            "Epoch 88/100\n",
            "37/37 [==============================] - 0s 5ms/step - loss: 0.2377 - department_output_loss: 0.1606 - attrition_output_loss: 0.0772 - department_output_accuracy: 0.9515 - attrition_output_accuracy: 0.9685 - val_loss: 3.2582 - val_department_output_loss: 2.0017 - val_attrition_output_loss: 1.2565 - val_department_output_accuracy: 0.5714 - val_attrition_output_accuracy: 0.7925\n",
            "Epoch 89/100\n",
            "37/37 [==============================] - 0s 7ms/step - loss: 0.2311 - department_output_loss: 0.1602 - attrition_output_loss: 0.0709 - department_output_accuracy: 0.9473 - attrition_output_accuracy: 0.9753 - val_loss: 3.3668 - val_department_output_loss: 2.1040 - val_attrition_output_loss: 1.2628 - val_department_output_accuracy: 0.5578 - val_attrition_output_accuracy: 0.8197\n",
            "Epoch 90/100\n",
            "37/37 [==============================] - 0s 6ms/step - loss: 0.2512 - department_output_loss: 0.1774 - attrition_output_loss: 0.0738 - department_output_accuracy: 0.9294 - attrition_output_accuracy: 0.9762 - val_loss: 3.3739 - val_department_output_loss: 2.0659 - val_attrition_output_loss: 1.3080 - val_department_output_accuracy: 0.5918 - val_attrition_output_accuracy: 0.7823\n",
            "Epoch 91/100\n",
            "37/37 [==============================] - 0s 6ms/step - loss: 0.2293 - department_output_loss: 0.1615 - attrition_output_loss: 0.0678 - department_output_accuracy: 0.9422 - attrition_output_accuracy: 0.9770 - val_loss: 3.4064 - val_department_output_loss: 2.0905 - val_attrition_output_loss: 1.3159 - val_department_output_accuracy: 0.5646 - val_attrition_output_accuracy: 0.8129\n",
            "Epoch 92/100\n",
            "37/37 [==============================] - 0s 6ms/step - loss: 0.2350 - department_output_loss: 0.1675 - attrition_output_loss: 0.0675 - department_output_accuracy: 0.9413 - attrition_output_accuracy: 0.9745 - val_loss: 3.5931 - val_department_output_loss: 2.0957 - val_attrition_output_loss: 1.4974 - val_department_output_accuracy: 0.5884 - val_attrition_output_accuracy: 0.7619\n",
            "Epoch 93/100\n",
            "37/37 [==============================] - 0s 7ms/step - loss: 0.2326 - department_output_loss: 0.1573 - attrition_output_loss: 0.0753 - department_output_accuracy: 0.9473 - attrition_output_accuracy: 0.9753 - val_loss: 3.3897 - val_department_output_loss: 2.0778 - val_attrition_output_loss: 1.3118 - val_department_output_accuracy: 0.5952 - val_attrition_output_accuracy: 0.7959\n",
            "Epoch 94/100\n",
            "37/37 [==============================] - 0s 6ms/step - loss: 0.2303 - department_output_loss: 0.1673 - attrition_output_loss: 0.0630 - department_output_accuracy: 0.9430 - attrition_output_accuracy: 0.9787 - val_loss: 3.5712 - val_department_output_loss: 2.1832 - val_attrition_output_loss: 1.3880 - val_department_output_accuracy: 0.5544 - val_attrition_output_accuracy: 0.7925\n",
            "Epoch 95/100\n",
            "37/37 [==============================] - 0s 6ms/step - loss: 0.2275 - department_output_loss: 0.1547 - attrition_output_loss: 0.0728 - department_output_accuracy: 0.9430 - attrition_output_accuracy: 0.9745 - val_loss: 3.6351 - val_department_output_loss: 2.2235 - val_attrition_output_loss: 1.4116 - val_department_output_accuracy: 0.5680 - val_attrition_output_accuracy: 0.7959\n",
            "Epoch 96/100\n",
            "37/37 [==============================] - 0s 5ms/step - loss: 0.2142 - department_output_loss: 0.1515 - attrition_output_loss: 0.0627 - department_output_accuracy: 0.9447 - attrition_output_accuracy: 0.9821 - val_loss: 3.5439 - val_department_output_loss: 2.1821 - val_attrition_output_loss: 1.3619 - val_department_output_accuracy: 0.5714 - val_attrition_output_accuracy: 0.8061\n",
            "Epoch 97/100\n",
            "37/37 [==============================] - 0s 5ms/step - loss: 0.2140 - department_output_loss: 0.1572 - attrition_output_loss: 0.0568 - department_output_accuracy: 0.9439 - attrition_output_accuracy: 0.9804 - val_loss: 3.6948 - val_department_output_loss: 2.2911 - val_attrition_output_loss: 1.4037 - val_department_output_accuracy: 0.5714 - val_attrition_output_accuracy: 0.7857\n",
            "Epoch 98/100\n",
            "37/37 [==============================] - 0s 7ms/step - loss: 0.2023 - department_output_loss: 0.1415 - attrition_output_loss: 0.0608 - department_output_accuracy: 0.9524 - attrition_output_accuracy: 0.9787 - val_loss: 3.6540 - val_department_output_loss: 2.2730 - val_attrition_output_loss: 1.3810 - val_department_output_accuracy: 0.5578 - val_attrition_output_accuracy: 0.8197\n",
            "Epoch 99/100\n",
            "37/37 [==============================] - 0s 6ms/step - loss: 0.1983 - department_output_loss: 0.1321 - attrition_output_loss: 0.0662 - department_output_accuracy: 0.9617 - attrition_output_accuracy: 0.9770 - val_loss: 3.6891 - val_department_output_loss: 2.2790 - val_attrition_output_loss: 1.4101 - val_department_output_accuracy: 0.6054 - val_attrition_output_accuracy: 0.8061\n",
            "Epoch 100/100\n",
            "37/37 [==============================] - 0s 7ms/step - loss: 0.2001 - department_output_loss: 0.1453 - attrition_output_loss: 0.0548 - department_output_accuracy: 0.9490 - attrition_output_accuracy: 0.9864 - val_loss: 3.7831 - val_department_output_loss: 2.3647 - val_attrition_output_loss: 1.4184 - val_department_output_accuracy: 0.5476 - val_attrition_output_accuracy: 0.8027\n"
          ]
        },
        {
          "output_type": "execute_result",
          "data": {
            "text/plain": [
              "<keras.src.callbacks.History at 0x7eb7aefba110>"
            ]
          },
          "metadata": {},
          "execution_count": 31
        }
      ],
      "source": [
        "# Train the model\n",
        "# Including the validation_data in the fitting of this model, as it is in the 19.2 example of batching\n",
        "model.fit(\n",
        "    X_train_scaled_df,\n",
        "    y={'department_output': y_train_department_encoded, 'attrition_output': y_train_attrition_encoded},\n",
        "    validation_data=(X_test_scaled_df, {'department_output': y_test_department_encoded, 'attrition_output': y_test_attrition_encoded}),\n",
        "    epochs=100,\n",
        "    batch_size=32,\n",
        "    verbose=1\n",
        ")"
      ]
    },
    {
      "cell_type": "code",
      "execution_count": 32,
      "metadata": {
        "colab": {
          "base_uri": "https://localhost:8080/"
        },
        "id": "VsMoaQlgGc3U",
        "outputId": "ac4781c1-7521-4839-c0cd-9ce7bb050463"
      },
      "outputs": [
        {
          "output_type": "stream",
          "name": "stdout",
          "text": [
            "10/10 [==============================] - 0s 4ms/step - loss: 3.7831 - department_output_loss: 2.3647 - attrition_output_loss: 1.4184 - department_output_accuracy: 0.5476 - attrition_output_accuracy: 0.8027\n"
          ]
        },
        {
          "output_type": "execute_result",
          "data": {
            "text/plain": [
              "[3.783148765563965,\n",
              " 2.3647406101226807,\n",
              " 1.4184081554412842,\n",
              " 0.5476190447807312,\n",
              " 0.8027210831642151]"
            ]
          },
          "metadata": {},
          "execution_count": 32
        }
      ],
      "source": [
        "# Evaluate the model with the testing data\n",
        "# This is very similar to the example output provided in the base starter code!\n",
        "test_results = model.evaluate(X_test_scaled_df, {'department_output': y_test_department_encoded, 'attrition_output': y_test_attrition_encoded})\n",
        "test_results"
      ]
    },
    {
      "cell_type": "code",
      "execution_count": 33,
      "metadata": {
        "colab": {
          "base_uri": "https://localhost:8080/"
        },
        "id": "ZlCtlHi0Vt54",
        "outputId": "cfcae323-e884-4c82-9fb1-f09ece88715f"
      },
      "outputs": [
        {
          "output_type": "stream",
          "name": "stdout",
          "text": [
            "Department predictions accuracy: 0.5476190447807312\n",
            "Attrition predictions accuracy: 0.8027210831642151\n"
          ]
        }
      ],
      "source": [
        "# Print the accuracy for both department and attrition\n",
        "print(f\"Department predictions accuracy: {test_results[3]}\")\n",
        "print(f\"Attrition predictions accuracy: {test_results[4]}\")"
      ]
    },
    {
      "cell_type": "markdown",
      "metadata": {
        "id": "eGSyfsZfWOQM"
      },
      "source": [
        "# Summary\n",
        "\n",
        "In the provided space below, briefly answer the following questions.\n",
        "\n",
        "1. Is accuracy the best metric to use on this data? Why or why not?\n",
        "\n",
        "2. What activation functions did you choose for your output layers, and why?\n",
        "\n",
        "3. Can you name a few ways that this model might be improved?"
      ]
    },
    {
      "cell_type": "markdown",
      "metadata": {
        "id": "pi9SLpFnWvbF"
      },
      "source": [
        "# Answers:\n",
        "1. Accuracy may not adequately reflect the effectiveness of this model. Looking at the data I began with for my `y_df`, it is easily visible that the data from both of the columns is rather imbalanced and probably skewed. This can cause bias or mispleading/high scores during the training process, possibly leaning towards one outcome over another. I believe that I need to incorporate other metrics to use on this data, such a precision, recall, F1-score, and possibly a confusion matrix.\n",
        "2. For the **department** output layer, `department_output`, I chose **Softmax**. This is because this column is a multi-class categorical variable. From my understanding, this is best so that exactly one class is the correct classification for each *instance*, through the probability distribution over the classes. It will ensure that the sum of potential outcomes will be 1. A similar thought process was applied when thinking about the encoding menthod that the starter code required for this column (**OneHotEncoder**). A simpler explanation would be that each value in the department column cannot be true at the same time (For example, you cannot work in both the sales AND human resources departments at the same time. They are exclusive of each other).\n",
        "\n",
        "  For the **attrition** output layer, `attrition_output`, I chose **Sigmoid**. This is because of the binary categorical variable (Yes or No : 1 or 0). There are only two possibilites here; if it is not 'Yes', it will be 'No', and vice versa. My first choice for use was Softmax, however even after changing it to my final choice of sigmoid, the results did not change.\n",
        "3.\n",
        "*  First, when creating `shared_layer1` and `shared_layer_2`, I used 'relu' for activation. I could use a different activation function for these, such as leaky relu.\n",
        "* Second point about my layer creation; I used 64 neurons for the first shared layer, and only 32 for the second shared layer. This could be changed when tuning the model as well, such as increasing the neurons and adding additional hidden layers (adjusting neurons from there).\n",
        "* Third, I could adjust the number of epochs used to train the model, increasing them to allow further analysis.\n",
        "* The last and main improvement that I will point out is the encoding method used for the 'Attrition' column. While 'OneHotEncoder' was specifically what I am told to use, wouldn't a 'LabelEncoder' be better to use in this instance? With such a binary choice as \"Yes\" or \"No,\" this would dispell any unnecessary complexity, and result in just those two output probabilities. This would further change the compile method I used, where it would require *`binary_crossentropy`*. I could also use an OrdinalEncoder with categories set to yes or no.\n",
        "\n",
        "\n"
      ]
    },
    {
      "cell_type": "markdown",
      "metadata": {
        "id": "N3llYbzTY8R6"
      },
      "source": []
    }
  ],
  "metadata": {
    "colab": {
      "provenance": [],
      "include_colab_link": true
    },
    "kernelspec": {
      "display_name": "Python 3",
      "language": "python",
      "name": "python3"
    },
    "language_info": {
      "codemirror_mode": {
        "name": "ipython",
        "version": 3
      },
      "file_extension": ".py",
      "mimetype": "text/x-python",
      "name": "python",
      "nbconvert_exporter": "python",
      "pygments_lexer": "ipython3",
      "version": "3.9.18"
    },
    "vscode": {
      "interpreter": {
        "hash": "31f2aee4e71d21fbe5cf8b01ff0e069b9275f58929596ceb00d14d90e3e16cd6"
      }
    }
  },
  "nbformat": 4,
  "nbformat_minor": 0
}